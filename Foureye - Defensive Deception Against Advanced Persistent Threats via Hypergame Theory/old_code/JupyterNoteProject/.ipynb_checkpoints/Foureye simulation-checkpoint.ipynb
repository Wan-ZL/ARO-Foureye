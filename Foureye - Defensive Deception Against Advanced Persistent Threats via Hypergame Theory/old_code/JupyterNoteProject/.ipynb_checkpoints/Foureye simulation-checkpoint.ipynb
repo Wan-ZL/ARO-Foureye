{
 "cells": [
  {
   "cell_type": "code",
   "execution_count": 1,
   "metadata": {
    "ExecuteTime": {
     "end_time": "2020-07-30T20:08:10.476177Z",
     "start_time": "2020-07-30T20:08:09.659150Z"
    }
   },
   "outputs": [],
   "source": [
    "import matplotlib.pyplot as plt\n",
    "from networkx import nx\n",
    "import numpy as np\n",
    "from itertools import count\n",
    "import random\n",
    "import math\n",
    "import copy \n",
    "import time"
   ]
  },
  {
   "cell_type": "code",
   "execution_count": 2,
   "metadata": {
    "ExecuteTime": {
     "end_time": "2020-07-30T20:08:10.485079Z",
     "start_time": "2020-07-30T20:08:10.478951Z"
    }
   },
   "outputs": [],
   "source": [
    "# pre-set notation\n",
    "sub_game_number = 6\n",
    "att_strategy_number = 8\n",
    "def_strategy_number = 8\n",
    "\n",
    "N = 100  # number of nodes\n",
    "P = 0.05  # connection probability\n",
    "SF_thres = 0.3  # A threshold for SF\n",
    "low_inter = 10  # number of low interaction honeypots\n",
    "high_inter = 5  # number of high interaction honeypots\n",
    "inter_per_node = 3 # one honeypot connect to 3 nodes\n",
    "N_ws = 5  # number of Web servers\n",
    "N_db = 5  # number of databases\n",
    "N_iot = N - N_ws - N_db  # number of IoT nodes\n",
    "ev = 5  # encryption vulnerability\n",
    "sv = 5  # software vulnerability\n",
    "uv = 1  # unknown vulnerability\n",
    "ev_lambda = 1 # λ for normalize encryption vulnerability\n",
    "rewire_probability = 0.1 # rewire probability\n",
    "saved_file_name_index = \"1\" # for draw_graph function\n",
    "P_fake = 0 # fake key for DS7\n",
    "att_detect = [0.2] * def_strategy_number # attacker detectability for defender's strategies\n",
    "def_monit_time = 0 # defneder monitoring time\n",
    "att_in_system_time = 1 # attacker in system time\n",
    "system_lifetime = 0  # system lifetime start from 0\n",
    "T_rekey = 0 # rekey time for encryption vulnerability\n",
    "dec = 0 # defense deception"
   ]
  },
  {
   "cell_type": "code",
   "execution_count": 3,
   "metadata": {
    "ExecuteTime": {
     "end_time": "2020-07-30T20:08:10.489710Z",
     "start_time": "2020-07-30T20:08:10.487533Z"
    }
   },
   "outputs": [],
   "source": [
    "# graph\n",
    "H_G = None\n",
    "G_real = None"
   ]
  },
  {
   "cell_type": "code",
   "execution_count": 4,
   "metadata": {
    "ExecuteTime": {
     "end_time": "2020-07-30T20:08:10.499726Z",
     "start_time": "2020-07-30T20:08:10.492432Z"
    }
   },
   "outputs": [],
   "source": [
    "# create honeypot graph\n",
    "def new_honeypot():\n",
    "    global H_G, low_inter,high_inter\n",
    "    H_G = nx.complete_graph(low_inter + high_inter)  # new graph for honeypot\n",
    "    mapping = {}\n",
    "    for n in range(low_inter):\n",
    "        mapping[n] = \"LI\" + str(n)\n",
    "    #     nx.relabel_nodes(H_G, {n:\"LI\"+str(n)})\n",
    "    for n in range(high_inter):\n",
    "        mapping[n + low_inter] = \"HI\" + str(n)\n",
    "    #     nx.relabel_nodes(H_G, {n+low_inter:\"HI\"+str(n)})\n",
    "    H_G = nx.relabel_nodes(H_G, mapping)\n",
    "    print(\"honeypot graph\")\n",
    "    H_G = H_G.to_directed()\n",
    "    \n",
    "    plt.figure()\n",
    "    nx.draw(H_G, with_labels=True)"
   ]
  },
  {
   "cell_type": "code",
   "execution_count": 5,
   "metadata": {
    "ExecuteTime": {
     "end_time": "2020-07-30T20:08:10.505751Z",
     "start_time": "2020-07-30T20:08:10.501601Z"
    }
   },
   "outputs": [],
   "source": [
    "# create real node graph\n",
    "def new_real_graph():\n",
    "    global G_real, N, P\n",
    "    G_real = nx.erdos_renyi_graph(N, P)  # undirected graph\n",
    "    while not nx.is_connected(G_real):\n",
    "        print(\"rebuild\")\n",
    "        G_real = nx.erdos_renyi_graph(N, P)  # rebuild undirected graph\n",
    "\n",
    "    print(\"real graph\")\n",
    "    plt.figure()\n",
    "    nx.draw(G_real, with_labels=True)"
   ]
  },
  {
   "cell_type": "code",
   "execution_count": 6,
   "metadata": {
    "ExecuteTime": {
     "end_time": "2020-07-30T20:08:10.515177Z",
     "start_time": "2020-07-30T20:08:10.507571Z"
    }
   },
   "outputs": [],
   "source": [
    "# update vulnerability_i value\n",
    "# Call this function to update vulnerability_i calculation\n",
    "def update_vul(G):\n",
    "    nx.set_node_attributes(G, 0, \"vulnerability\")\n",
    "    nx.set_node_attributes(G, 0, \"normalized_vulnerability\")\n",
    "    for n in G.nodes():\n",
    "        G.nodes[n][\"vulnerability\"] = (\n",
    "            sum(G.nodes[n][\"software vulnerability\"]) +\n",
    "            sum(G.nodes[n][\"encryption vulnerability\"]) +\n",
    "            sum(G.nodes[n][\"unknown vulnerability\"])) / (\n",
    "                len(G.nodes[n][\"software vulnerability\"]) +\n",
    "                len(G.nodes[n][\"encryption vulnerability\"]) +\n",
    "                len(G.nodes[n][\"unknown vulnerability\"]))\n",
    "        G.nodes[n][\"normalized_vulnerability\"] = G.nodes[n][\"vulnerability\"]/10\n",
    "    return G"
   ]
  },
  {
   "cell_type": "code",
   "execution_count": 7,
   "metadata": {
    "ExecuteTime": {
     "end_time": "2020-07-30T20:08:10.524547Z",
     "start_time": "2020-07-30T20:08:10.517453Z"
    }
   },
   "outputs": [],
   "source": [
    "# set node type\n",
    "# 0 means IoT devices, 1 means Web Server, 2 means Dataset, 3 means Honeypot\n",
    "def set_type(G):\n",
    "    if \"type\" not in G.nodes[0]:\n",
    "        nx.set_node_attributes(G, 0, \"type\")\n",
    "    for n in range(N_ws):\n",
    "        G.nodes[n][\"type\"] = 1\n",
    "    for n in range(N_db, N_ws + N_db):\n",
    "        G.nodes[n][\"type\"] = 2\n",
    "    return G\n",
    "\n",
    "\n",
    "def set_type_for_HP(H_G):\n",
    "    if \"type\" not in H_G.nodes['LI0']:\n",
    "        nx.set_node_attributes(H_G, 0, \"type\")\n",
    "    for n in [\"LI\" + str(n) for n in range(low_inter)]:\n",
    "        H_G.nodes[n][\"type\"] = 3\n",
    "    for n in [\"HI\" + str(n) for n in range(high_inter)]:\n",
    "        H_G.nodes[n][\"type\"] = 3\n",
    "    return H_G"
   ]
  },
  {
   "cell_type": "code",
   "execution_count": 8,
   "metadata": {
    "ExecuteTime": {
     "end_time": "2020-07-30T20:08:10.535563Z",
     "start_time": "2020-07-30T20:08:10.530473Z"
    }
   },
   "outputs": [],
   "source": [
    "# set honeypot attribute\n",
    "# 0 means not a honeypot, 1 means low interaction honeypot, 2 means high interaction honeypot\n",
    "def set_HP_attribute(G):\n",
    "    nx.set_node_attributes(G, 0, \"honeypot\")\n",
    "    for n in G.nodes():\n",
    "        if G.nodes[n][\"type\"] == 3:\n",
    "            if n[0] == 'L':\n",
    "                G.nodes[n][\"honeypot\"] = 1\n",
    "            else:\n",
    "                G.nodes[n][\"honeypot\"] = 2\n",
    "\n",
    "    return G\n",
    "\n",
    "\n",
    "#     if \"honeypot\" not in G.nodes[0]:\n",
    "#         nx.set_node_attributes(G, 0, \"honeypot\")\n",
    "#     return G\n",
    "\n",
    "# def set_HP_attribute_for_HP(H_G):\n",
    "#     if \"honeypot\" not in H_G.nodes['LI0']:\n",
    "#         nx.set_node_attributes(H_G, 0, \"honeypot\")\n",
    "#     # add low/high interaction\n",
    "#     for n in [\"LI\"+str(n) for n in range(low_inter)]:\n",
    "#         H_G.nodes[n][\"honeypot\"] = 1\n",
    "#     for n in [\"HI\"+str(n) for n in range(high_inter)]:\n",
    "#         H_G.nodes[n][\"honeypot\"] = 2\n",
    "#     return H_G"
   ]
  },
  {
   "cell_type": "code",
   "execution_count": 9,
   "metadata": {
    "ExecuteTime": {
     "end_time": "2020-07-30T20:08:10.543528Z",
     "start_time": "2020-07-30T20:08:10.539056Z"
    }
   },
   "outputs": [],
   "source": [
    "# update time-based encryption vulnerability\n",
    "def update_en_vul(G):\n",
    "    global T_rekey\n",
    "    T_rekey += 1\n",
    "    for n in G.nodes():\n",
    "        for index in range(ev):\n",
    "            G.nodes[n][\"encryption vulnerability\"][index] = G.nodes[n][\n",
    "                \"original_encryption_vulnerability\"][index] * math.exp(\n",
    "                    -ev_lambda / T_rekey)\n",
    "\n",
    "    return G"
   ]
  },
  {
   "cell_type": "code",
   "execution_count": 10,
   "metadata": {
    "ExecuteTime": {
     "end_time": "2020-07-30T20:08:10.550817Z",
     "start_time": "2020-07-30T20:08:10.547378Z"
    }
   },
   "outputs": [],
   "source": [
    "# APV: value of an intermediate node i in an attack path\n",
    "def calc_APV(G, node_ID, attack_cost):\n",
    "    if G.nodes[node_ID][\"compromised_status\"]:\n",
    "        return 1\n",
    "    else:\n",
    "        return (1 - (attack_cost/3) ) * G.nodes[node_ID][\"normalized_vulnerability\"]"
   ]
  },
  {
   "cell_type": "code",
   "execution_count": 11,
   "metadata": {
    "ExecuteTime": {
     "end_time": "2020-07-30T20:08:10.569833Z",
     "start_time": "2020-07-30T20:08:10.552750Z"
    }
   },
   "outputs": [],
   "source": [
    "def set_security_vulnerability(G):\n",
    "    # set security vulnerability\n",
    "    nx.set_node_attributes(G, [0] * sv, \"software vulnerability\")\n",
    "    nx.set_node_attributes(G, [0] * ev, \"original_encryption_vulnerability\")\n",
    "    nx.set_node_attributes(G, [0] * ev, \"encryption vulnerability\")\n",
    "    nx.set_node_attributes(G, [0] * uv, \"unknown vulnerability\")\n",
    "\n",
    "    # add three types vulnerability value based on essay TABLE 1\n",
    "    for n in G.nodes():\n",
    "        if G.nodes[n][\"type\"] == 0:\n",
    "            G.nodes[n][\"software vulnerability\"] = [\n",
    "                random.randint(1, 5) for iter in range(sv)\n",
    "            ]\n",
    "            G.nodes[n][\"original_encryption_vulnerability\"] = [\n",
    "                random.randint(5, 10) for iter in range(ev)\n",
    "            ]\n",
    "            G.nodes[n][\"unknown vulnerability\"] = [\n",
    "                random.randint(0, 10) for iter in range(uv)\n",
    "            ]\n",
    "        elif G.nodes[n][\"type\"] == 1:\n",
    "            G.nodes[n][\"software vulnerability\"] = [\n",
    "                random.randint(3, 7) for iter in range(sv)\n",
    "            ]\n",
    "            G.nodes[n][\"original_encryption_vulnerability\"] = [\n",
    "                random.randint(1, 3) for iter in range(ev)\n",
    "            ]\n",
    "            G.nodes[n][\"unknown vulnerability\"] = [\n",
    "                random.randint(0, 10) for iter in range(uv)\n",
    "            ]\n",
    "        elif G.nodes[n][\"type\"] == 2:\n",
    "            G.nodes[n][\"software vulnerability\"] = [\n",
    "                random.randint(3, 7) for iter in range(sv)\n",
    "            ]\n",
    "            G.nodes[n][\"original_encryption_vulnerability\"] = [\n",
    "                random.randint(1, 3) for iter in range(ev)\n",
    "            ]\n",
    "            G.nodes[n][\"unknown vulnerability\"] = [\n",
    "                random.randint(0, 10) for iter in range(uv)\n",
    "            ]\n",
    "        else:\n",
    "            G.nodes[n][\"software vulnerability\"] = [\n",
    "                random.randint(7, 10) for iter in range(sv)\n",
    "            ]\n",
    "            G.nodes[n][\"original_encryption_vulnerability\"] = [\n",
    "                random.randint(9, 10) for iter in range(ev)\n",
    "            ]\n",
    "            G.nodes[n][\"unknown vulnerability\"] = [\n",
    "                random.randint(0, 10) for iter in range(uv)\n",
    "            ]\n",
    "\n",
    "    # update encryption vulnerability\n",
    "    G = update_en_vul(G)\n",
    "    # update overall vulnerability\n",
    "    G = update_vul(G)\n",
    "    return G"
   ]
  },
  {
   "cell_type": "code",
   "execution_count": 12,
   "metadata": {
    "ExecuteTime": {
     "end_time": "2020-07-30T20:08:10.579108Z",
     "start_time": "2020-07-30T20:08:10.571968Z"
    }
   },
   "outputs": [],
   "source": [
    "# set importance\n",
    "def set_importance(G):\n",
    "    nx.set_node_attributes(G, 0, \"importance\")\n",
    "    for n in G.nodes():\n",
    "        if G.nodes[n][\"type\"] == 0:\n",
    "            G.nodes[n][\"importance\"] = random.randint(1, 5)\n",
    "        elif G.nodes[n][\"type\"] == 1:\n",
    "            G.nodes[n][\"importance\"] = random.randint(8, 10)\n",
    "        elif G.nodes[n][\"type\"] == 2:\n",
    "            G.nodes[n][\"importance\"] = random.randint(8, 10)\n",
    "    return G"
   ]
  },
  {
   "cell_type": "code",
   "execution_count": 13,
   "metadata": {
    "ExecuteTime": {
     "end_time": "2020-07-30T20:08:10.588791Z",
     "start_time": "2020-07-30T20:08:10.582444Z"
    }
   },
   "outputs": [],
   "source": [
    "# draw with color\n",
    "def draw_graph(G):\n",
    "    global saved_file_name_index\n",
    "    \n",
    "    plt.figure()\n",
    "    groups = set(nx.get_node_attributes(G, 'honeypot').values())\n",
    "    mapping = dict(zip(sorted(groups), count()))\n",
    "    colors = [mapping[G.nodes[n]['honeypot']] for n in G.nodes()]\n",
    "\n",
    "#     rounded_vul = dict((k, G.nodes[k][\"compromised_status\"]) for k in G.nodes())\n",
    "    options = {\n",
    "        \"pos\": nx.circular_layout(G),\n",
    "        \"node_color\": colors,\n",
    "        \"node_size\": 20,\n",
    "        \"arrowsize\": 3,\n",
    "        \"line_color\": \"grey\",\n",
    "        \"linewidths\": 0,\n",
    "        \"width\": 0.1,\n",
    "        \"with_labels\": True,\n",
    "        \"font_size\": 3,\n",
    "        \"font_color\": 'w',\n",
    "#         \"labels\": rounded_vul,\n",
    "    }\n",
    "    nx.draw(G,  **options)\n",
    "    \n",
    "    plt.savefig(\"graph\"+saved_file_name_index+\".png\", dpi=1000)"
   ]
  },
  {
   "cell_type": "code",
   "execution_count": null,
   "metadata": {
    "ExecuteTime": {
     "end_time": "2020-07-21T19:05:12.388473Z",
     "start_time": "2020-07-21T19:05:12.384475Z"
    }
   },
   "outputs": [],
   "source": []
  },
  {
   "cell_type": "code",
   "execution_count": 14,
   "metadata": {
    "ExecuteTime": {
     "end_time": "2020-07-30T20:08:10.595685Z",
     "start_time": "2020-07-30T20:08:10.590785Z"
    }
   },
   "outputs": [],
   "source": [
    "# reachability (sum of betweenness_centrality value is not one(1))\n",
    "def set_reachability(G):\n",
    "    nx.set_node_attributes(G, 0, \"reachability\")\n",
    "    reachability = nx.betweenness_centrality(G)\n",
    "    for n in G.nodes():\n",
    "        G.nodes[n][\"reachability\"] = reachability[n]\n",
    "    return G"
   ]
  },
  {
   "cell_type": "code",
   "execution_count": 15,
   "metadata": {
    "ExecuteTime": {
     "end_time": "2020-07-30T20:08:10.602879Z",
     "start_time": "2020-07-30T20:08:10.598163Z"
    }
   },
   "outputs": [],
   "source": [
    "# Criticality\n",
    "def updata_criticality(G):\n",
    "    \n",
    "    G = set_reachability(G)\n",
    "    \n",
    "    nx.set_node_attributes(G, 0, \"criticality\")\n",
    "    for n in G.nodes():\n",
    "        G.nodes[n][\"criticality\"] = G.nodes[n][\"importance\"] * G.nodes[n][\n",
    "            \"reachability\"]\n",
    "    return G"
   ]
  },
  {
   "cell_type": "code",
   "execution_count": 16,
   "metadata": {
    "ExecuteTime": {
     "end_time": "2020-07-30T20:08:10.609210Z",
     "start_time": "2020-07-30T20:08:10.605463Z"
    }
   },
   "outputs": [],
   "source": [
    "# Mobility\n",
    "def set_mobility(G):\n",
    "    nx.set_node_attributes(G, 0, \"mobility\")\n",
    "    for n in G.nodes():\n",
    "        if G.nodes[n][\"type\"] == 0: # only for IoT devices\n",
    "            G.nodes[n][\"mobility\"] = 0.1 #random.uniform(0,0.5)\n",
    "    return G\n",
    "            "
   ]
  },
  {
   "cell_type": "code",
   "execution_count": 17,
   "metadata": {
    "ExecuteTime": {
     "end_time": "2020-07-30T20:08:10.616440Z",
     "start_time": "2020-07-30T20:08:10.613040Z"
    }
   },
   "outputs": [],
   "source": [
    "# Compromised Status\n",
    "# For devices: False means not compromised, True means compromised.\n",
    "# For honeypots: False means not visited by attacker, True means visited by attacker\n",
    "\n",
    "def set_compromised_status(G):\n",
    "    nx.set_node_attributes(G, False, \"compromised_status\")\n",
    "    return G"
   ]
  },
  {
   "cell_type": "code",
   "execution_count": 18,
   "metadata": {
    "ExecuteTime": {
     "end_time": "2020-07-30T20:08:10.622554Z",
     "start_time": "2020-07-30T20:08:10.619034Z"
    }
   },
   "outputs": [],
   "source": [
    "# Attack Impact by given attack k\n",
    "# new_compromised_list is new compromised ndoe IDs (do not include already compromised node)\n",
    "def attack_impact(G, new_compromised_list):\n",
    "    \n",
    "    if new_compromised_list == None:\n",
    "        return 0\n",
    "    \n",
    "    total_criticality = 0\n",
    "    for n in new_compromised_list:\n",
    "        total_criticality += G.nodes[n][\"criticality\"]\n",
    "    ai = total_criticality/N\n",
    "    return ai"
   ]
  },
  {
   "cell_type": "code",
   "execution_count": 19,
   "metadata": {
    "ExecuteTime": {
     "end_time": "2020-07-30T20:08:10.631332Z",
     "start_time": "2020-07-30T20:08:10.624641Z"
    }
   },
   "outputs": [],
   "source": [
    "# Check System Failure\n",
    "\n",
    "def is_system_fail():\n",
    "    top_total = 0;\n",
    "    bottom_total = 0;\n",
    "    for n in G_real.nodes():\n",
    "        top_total += G_real.nodes[n][\"compromised_status\"] * G_real.nodes[n][\"criticality\"]\n",
    "        bottom_total += G_real.nodes[n][\"criticality\"]\n",
    "    if top_total/bottom_total >= SF_thres:\n",
    "        print(\"System Fail \\U0001F480\")\n",
    "        return True\n",
    "    else:\n",
    "        print(\"System not Fail \\U0001F44D\")\n",
    "        return False"
   ]
  },
  {
   "cell_type": "code",
   "execution_count": 20,
   "metadata": {
    "ExecuteTime": {
     "end_time": "2020-07-30T20:08:10.636934Z",
     "start_time": "2020-07-30T20:08:10.633209Z"
    }
   },
   "outputs": [],
   "source": [
    "# set ID in attribute\n",
    "def set_id(G):\n",
    "    nx.set_node_attributes(G, 0, \"id\")\n",
    "    for n in G.nodes():\n",
    "        G.nodes[n][\"id\"] = n\n",
    "    return G"
   ]
  },
  {
   "cell_type": "code",
   "execution_count": 21,
   "metadata": {
    "ExecuteTime": {
     "end_time": "2020-07-30T20:08:10.643518Z",
     "start_time": "2020-07-30T20:08:10.638727Z"
    }
   },
   "outputs": [],
   "source": [
    "# AS1 – Monitoring attack\n",
    "# (keep try untile get one)\n",
    "# return: a dictionary contain all information\n",
    "def attack_AS_1():\n",
    "    global G_real, G_att, G_def  # load global variable\n",
    "    \n",
    "    \n",
    "    not_get_one = True\n",
    "    while not_get_one:\n",
    "        random_id = random.randint(0, N - 1)\n",
    "        if random.random() <= G_real.nodes[random_id][\"normalized_vulnerability\"]: # success rate is based on real graph\n",
    "            node_info = G_att.nodes[random_id]\n",
    "            not_get_one = False\n",
    "    node_info[\"attack_cost\"] = 1\n",
    "    return node_info\n"
   ]
  },
  {
   "cell_type": "code",
   "execution_count": 22,
   "metadata": {
    "ExecuteTime": {
     "end_time": "2020-07-30T20:08:10.657783Z",
     "start_time": "2020-07-30T20:08:10.647448Z"
    }
   },
   "outputs": [],
   "source": [
    "# AS2 – Social engineering\n",
    "# input: node_info_list: nodes with information collected (dictionary type)\n",
    "#         attacker_location: attacker location for inside attacker. \n",
    "#                           If it is None or not given, this means it's outside attacker\n",
    "# return: a dictionary with \"attack cost\", and compromised \"ids\". \"ids\" is empty if unsuccessful\n",
    "\n",
    "def attack_AS_2(node_info_list, attacker_location=None):\n",
    "    global G_real, G_att, G_def, P_fake\n",
    "    \n",
    "    attack_cost = 3\n",
    "    \n",
    "    attack_result = {\"attack_cost\": attack_cost, \"ids\": []}\n",
    "    \n",
    "    if random.random() <= P_fake:\n",
    "        print(\"get fake key, failed to compromise\")\n",
    "        return attack_result\n",
    "    \n",
    "    max_APV_id = None\n",
    "    max_APV = 0\n",
    "    if attacker_location == None:\n",
    "        # outside attacker\n",
    "        for node_n in node_info_list:\n",
    "            if not node_n[\"compromised_status\"]:  # for uncompromising nodes\n",
    "                if calc_APV(G_att, node_n[\"id\"], attack_cost) >= max_APV: # choose node with APV\n",
    "                    max_APV = calc_APV(G_att, node_n[\"id\"], attack_cost)\n",
    "                    max_APV_id = node_n[\"id\"]\n",
    "    else:\n",
    "        # inside attacker\n",
    "        for n in G_att.neighbors(attacker_location):\n",
    "            if not G_real.nodes[n][\"compromised_status\"]:  # for uncompromising nodes\n",
    "                print(calc_APV(G_att, n, attack_cost))\n",
    "                if calc_APV(G_att, n, attack_cost) >= max_APV:\n",
    "                    max_APV = calc_APV(G_att, n, attack_cost)\n",
    "                    max_APV_id = n\n",
    "    \n",
    "    \n",
    "    if max_APV_id == None:\n",
    "        print(\"no legitimate neighbor node \\U0001F630\")\n",
    "        return attack_result\n",
    "    \n",
    "    if random.random() < G_real.nodes[max_APV_id][\"normalized_vulnerability\"]:\n",
    "        attack_result[\"ids\"].append(max_APV_id)\n",
    "        G_real.nodes[max_APV_id][\"compromised_status\"] = True  # set it compromised\n",
    "        G_att.nodes[max_APV_id][\"compromised_status\"] = True\n",
    "        G_def.nodes[max_APV_id][\"compromised_status\"] = True\n",
    "    else:\n",
    "        print(\"AS2: unsuccessful on\", max_APV_id, \"with vul\",\n",
    "              G_real.nodes[max_APV_id][\"normalized_vulnerability\"])\n",
    "    \n",
    "    attack_result[\"ids\"] = NIDS_detect(attack_result[\"ids\"])\n",
    "    \n",
    "    return attack_result"
   ]
  },
  {
   "cell_type": "code",
   "execution_count": 23,
   "metadata": {
    "ExecuteTime": {
     "end_time": "2020-07-30T20:08:10.675132Z",
     "start_time": "2020-07-30T20:08:10.667038Z"
    }
   },
   "outputs": [],
   "source": [
    "# AS3 – Botnet-based attack\n",
    "# (a legitimate node with more than one compromised node will be tried more than one times)\n",
    "# return: attack_result[\"ids\"] is new compromised ids\n",
    "\n",
    "def attack_AS_3():\n",
    "    global G_real, G_att, G_def, P_fake\n",
    "    \n",
    "    attack_result = {\"attack_cost\": 3, \"ids\": []}\n",
    "    \n",
    "    if random.random() <= P_fake:\n",
    "        print(\"get fake key, failed to compromise\")\n",
    "        return attack_result\n",
    "    \n",
    "    compromised_nodes = []\n",
    "    for n in G_att.nodes():\n",
    "        if G_real.nodes[n][\"compromised_status\"]:\n",
    "            compromised_nodes.append(n)\n",
    "    attacked_adjacent = []\n",
    "    for n in compromised_nodes:\n",
    "        attacked_adjacent.extend(G_att.neighbors(n))\n",
    "\n",
    "    attacked_adjacent = list(set(attacked_adjacent))\n",
    "    \n",
    "    for n in attacked_adjacent:\n",
    "        if not G_real.nodes[n][\"compromised_status\"]:\n",
    "            if random.random() <= G_real.nodes[n][\"normalized_vulnerability\"]:\n",
    "                G_real.nodes[n][\"compromised_status\"] = True\n",
    "                G_att.nodes[n][\"compromised_status\"] = True\n",
    "                G_def.nodes[n][\"compromised_status\"] = True\n",
    "                attack_result[\"ids\"].append(n)\n",
    "    \n",
    "    if not attack_result[\"ids\"]:\n",
    "        print(\"attack 3 failed\")\n",
    "\n",
    "    attack_result[\"ids\"] = NIDS_detect(attack_result[\"ids\"])\n",
    "    \n",
    "    return attack_result\n"
   ]
  },
  {
   "cell_type": "code",
   "execution_count": 24,
   "metadata": {
    "ExecuteTime": {
     "end_time": "2020-07-30T20:08:10.689452Z",
     "start_time": "2020-07-30T20:08:10.680484Z"
    }
   },
   "outputs": [],
   "source": [
    "# AS4 – Distributed Denial-of-Service (DDoS)\n",
    "# return: attack_result[\"ids\"] is the node that Unknow Vulnerability(UV) increased\n",
    "\n",
    "\n",
    "def attack_AS_4():\n",
    "    global G_real, G_att, G_def\n",
    "    \n",
    "    compromised_nodes = []\n",
    "    for n in G_att.nodes():\n",
    "        if G_real.nodes[n][\"compromised_status\"]:\n",
    "            compromised_nodes.append(n)\n",
    "    attacked_adjacent = []\n",
    "    for n in compromised_nodes:\n",
    "        attacked_adjacent.extend(G_att.neighbors(n))\n",
    "\n",
    "    attack_result = {\"attack_cost\": 3, \"ids\": []}\n",
    "    for n in attacked_adjacent:\n",
    "        if not G_real.nodes[n][\"compromised_status\"]:\n",
    "            G_real.nodes[n][\"unknown vulnerability\"][0] = min(\n",
    "                G_real.nodes[n][\"unknown vulnerability\"][0] * 1.1, 10)\n",
    "\n",
    "            G_att.nodes[n][\"unknown vulnerability\"][0] = min(\n",
    "                G_att.nodes[n][\"unknown vulnerability\"][0] * 1.1, 10)\n",
    "\n",
    "            G_def.nodes[n][\"unknown vulnerability\"][0] = min(\n",
    "                G_def.nodes[n][\"unknown vulnerability\"][0] * 1.1, 10)\n",
    "\n",
    "            attack_result[\"ids\"].append(n)\n",
    "            \n",
    "    if not attack_result[\"ids\"]:\n",
    "        print(\"attack 4 failed\")\n",
    "        \n",
    "    # update vulnerability\n",
    "    G_real = update_vul(G_real)\n",
    "    G_att = update_vul(G_att)\n",
    "    G_def = update_vul(G_def)\n",
    "    \n",
    "    \n",
    "    return attack_result"
   ]
  },
  {
   "cell_type": "code",
   "execution_count": 25,
   "metadata": {
    "ExecuteTime": {
     "end_time": "2020-07-30T20:08:10.703378Z",
     "start_time": "2020-07-30T20:08:10.692772Z"
    }
   },
   "outputs": [],
   "source": [
    "# AS5 – Zero-day attacks\n",
    "# (pick the adjacent node with max 'uv')\n",
    "def attack_AS_5():\n",
    "    global G_real, G_att, G_def\n",
    "    \n",
    "    attack_cost = 1\n",
    "    \n",
    "    compromised_nodes = []\n",
    "    for n in G_att.nodes():\n",
    "        if G_real.nodes[n][\"compromised_status\"]:\n",
    "            compromised_nodes.append(n)\n",
    "    attacked_adjacent = []\n",
    "    for n in compromised_nodes:\n",
    "        attacked_adjacent.extend(G_att.neighbors(n))\n",
    "        \n",
    "    attack_result = {\"attack_cost\": attack_cost, \"ids\": []}\n",
    "\n",
    "    if not len(attacked_adjacent):\n",
    "        print(\"no legitimate neighbor node \\U0001F630\")\n",
    "        return attack_result\n",
    "\n",
    "    max_APV_id = None\n",
    "    max_APV = 0\n",
    "    #     get node_id with max 'uv'\n",
    "    for n in attacked_adjacent:\n",
    "        if not G_real.nodes[n][\"compromised_status\"]:\n",
    "            if calc_APV(G_att, n, attack_cost) >= max_APV:\n",
    "                max_APV_id = n\n",
    "                max_APV = calc_APV(G_att, n, attack_cost)\n",
    "\n",
    "    \n",
    "    #     try compromising\n",
    "    if random.randint(0, 10) <= G_real.nodes[max_APV_id][\"unknown vulnerability\"][0]:\n",
    "        G_real.nodes[max_APV_id][\"compromised_status\"] = True\n",
    "        G_att.nodes[max_APV_id][\"compromised_status\"] = True\n",
    "        G_def.nodes[max_APV_id][\"compromised_status\"] = True\n",
    "        attack_result[\"ids\"].append(max_APV_id)\n",
    "    \n",
    "    if not attack_result[\"ids\"]:\n",
    "        print(\"attack 5 failed\")\n",
    "\n",
    "    attack_result[\"ids\"] = NIDS_detect(attack_result[\"ids\"])\n",
    "    \n",
    "    return attack_result"
   ]
  },
  {
   "cell_type": "code",
   "execution_count": 26,
   "metadata": {
    "ExecuteTime": {
     "end_time": "2020-07-30T20:08:10.717385Z",
     "start_time": "2020-07-30T20:08:10.705464Z"
    }
   },
   "outputs": [],
   "source": [
    "# AS6 – Breaking encryption\n",
    "# (TODO: do adjacent)\n",
    "\n",
    "\n",
    "def attack_AS_6():\n",
    "    global G_real, G_att, G_def, P_fake\n",
    "    \n",
    "    attack_cost = 3\n",
    "    attack_result = {\"attack_cost\": attack_cost, \"ids\": []}\n",
    "    \n",
    "    if random.random() <= P_fake:\n",
    "        print(\"get fake key, failed to compromise\")\n",
    "        return attack_result\n",
    "\n",
    "    compromised_nodes = []\n",
    "    for n in G_att.nodes():\n",
    "        if G_real.nodes[n][\"compromised_status\"]:\n",
    "            compromised_nodes.append(n)\n",
    "    attacked_adjacent = []\n",
    "    for n in compromised_nodes:\n",
    "        attacked_adjacent.extend(G_att.neighbors(n))\n",
    "\n",
    "    \n",
    "\n",
    "    if not len(attacked_adjacent):\n",
    "        print(\"no legitimate neighbor node \\U0001F630\")\n",
    "        return attack_result\n",
    "\n",
    "    max_APV_id = None\n",
    "    max_APV = 0\n",
    "    #     get node_id with max 'nv'\n",
    "    for n in attacked_adjacent:\n",
    "        if not G_real.nodes[n][\"compromised_status\"]:\n",
    "            if calc_APV(G_att, n, attack_cost)>= max_APV:\n",
    "                max_APV_id = n\n",
    "                max_APV = calc_APV(G_att, n, attack_cost)\n",
    "\n",
    "    if random.random() <= G_real.nodes[max_APV_id][\"normalized_vulnerability\"]:\n",
    "        G_real.nodes[max_APV_id][\"compromised_status\"] = True\n",
    "        G_att.nodes[max_APV_id][\"compromised_status\"] = True\n",
    "        G_def.nodes[max_APV_id][\"compromised_status\"] = True\n",
    "        attack_result[\"ids\"].append(max_APV_id)\n",
    "    else:\n",
    "        print(\"AS6: unsuccessful on\", max_APV_id, \"with APV\",\n",
    "              max_APV)\n",
    "\n",
    "    if not attack_result[\"ids\"]:\n",
    "        print(\"attack 6 failed\")\n",
    "    \n",
    "    attack_result[\"ids\"] = NIDS_detect(attack_result[\"ids\"])\n",
    "    \n",
    "    return attack_result"
   ]
  },
  {
   "cell_type": "code",
   "execution_count": 27,
   "metadata": {
    "ExecuteTime": {
     "end_time": "2020-07-30T20:08:10.730086Z",
     "start_time": "2020-07-30T20:08:10.719297Z"
    }
   },
   "outputs": [],
   "source": [
    "# AS7 – Fake identity\n",
    "def attack_AS_7():\n",
    "    global G_real, G_att, G_def, P_fake\n",
    "    \n",
    "    attack_cost = 2\n",
    "    attack_result = {\"attack_cost\": attack_cost, \"ids\": []}\n",
    "    \n",
    "    if random.random() <= P_fake:\n",
    "        print(\"get fake key, failed to compromise\")\n",
    "        return attack_result\n",
    "    \n",
    "    compromised_nodes = []\n",
    "    for n in G_att.nodes():\n",
    "        if G_real.nodes[n][\"compromised_status\"]:\n",
    "            compromised_nodes.append(n)\n",
    "    attacked_adjacent = []\n",
    "    for n in compromised_nodes:\n",
    "        attacked_adjacent.extend(G_att.neighbors(n))\n",
    "\n",
    "    \n",
    "\n",
    "    if not len(attacked_adjacent):\n",
    "        print(\"no legitimate neighbor node \\U0001F630\")\n",
    "        return attack_result\n",
    "\n",
    "    max_APV_id = None\n",
    "    max_APV = 0\n",
    "    #     get node_id with max 'uv'\n",
    "    for n in attacked_adjacent:\n",
    "        if not G_real.nodes[n][\"compromised_status\"]:\n",
    "            if calc_APV(G_att, n, attack_cost) >= max_APV:\n",
    "                max_APV_id = n\n",
    "                max_APV = calc_APV(G_att, n, attack_cost)\n",
    "            \n",
    "    #     try compromising\n",
    "    for index in range(len(G_att.nodes[n][\"encryption vulnerability\"])):\n",
    "        if random.randint(0, 10) <= G_real.nodes[max_APV_id][\"encryption vulnerability\"][index]:\n",
    "            G_real.nodes[max_APV_id][\"compromised_status\"] = True\n",
    "            G_att.nodes[max_APV_id][\"compromised_status\"] = True\n",
    "            G_def.nodes[max_APV_id][\"compromised_status\"] = True\n",
    "            attack_result[\"ids\"].append(max_APV_id)\n",
    "            break\n",
    "    \n",
    "    if not attack_result[\"ids\"]:\n",
    "        print(\"attack 7 failed\")\n",
    "        \n",
    "    attack_result[\"ids\"] = NIDS_detect(attack_result[\"ids\"])\n",
    "    \n",
    "    return attack_result"
   ]
  },
  {
   "cell_type": "code",
   "execution_count": 28,
   "metadata": {
    "ExecuteTime": {
     "end_time": "2020-07-30T20:08:10.736745Z",
     "start_time": "2020-07-30T20:08:10.732212Z"
    }
   },
   "outputs": [],
   "source": [
    "# AS8 – Data exfiltration\n",
    "def attack_AS_8():\n",
    "    global G_real, G_att, G_def\n",
    "    \n",
    "    Thres_c = 0.6  # pre-set value\n",
    "    \n",
    "    total_compromised_criticality = 0\n",
    "    for n in G_real.nodes():\n",
    "        if G_real.nodes[n][\"compromised_status\"]:\n",
    "            total_compromised_criticality += G_real.nodes[n][\"criticality\"]\n",
    "    \n",
    "    if total_compromised_criticality>Thres_c:\n",
    "        print(\"Data exfiltration success\")\n",
    "        print(\"total collected criticality is\", total_compromised_criticality)\n",
    "        return True\n",
    "    else:\n",
    "        print(\"Data exfiltration failed\")\n",
    "        return False"
   ]
  },
  {
   "cell_type": "code",
   "execution_count": 29,
   "metadata": {
    "ExecuteTime": {
     "end_time": "2020-07-30T20:08:10.744076Z",
     "start_time": "2020-07-30T20:08:10.738831Z"
    }
   },
   "outputs": [],
   "source": [
    "def evict_a_node(remove_id):\n",
    "    global G_real, G_def, G_att\n",
    "    \n",
    "    node_neighbor = list(G_def.neighbors(remove_id))\n",
    "    \n",
    "    for neighbor_index in node_neighbor:\n",
    "        if G_real.has_edge(n,neighbor_index): G_real.remove_edge(remove_id,neighbor_index) \n",
    "        if G_def.has_edge(n,neighbor_index): G_def.remove_edge(remove_id,neighbor_index)\n",
    "        if G_att.has_edge(n,neighbor_index): G_att.remove_edge(remove_id,neighbor_index)\n",
    "        \n",
    "    # update criticality\n",
    "    G_real = updata_criticality(G_real)\n",
    "    G_def = updata_criticality(G_def)\n",
    "    G_att = updata_criticality(G_att)"
   ]
  },
  {
   "cell_type": "code",
   "execution_count": 30,
   "metadata": {
    "ExecuteTime": {
     "end_time": "2020-07-30T20:08:10.754411Z",
     "start_time": "2020-07-30T20:08:10.747160Z"
    }
   },
   "outputs": [],
   "source": [
    "# NIDS eviction\n",
    "# TODO: Consider False Positive\n",
    "def NIDS_detect(detected_ids):\n",
    "    global G_real\n",
    "    \n",
    "#     false negative rate\n",
    "    false_neg = 0.1\n",
    "    \n",
    "    false_pos = 0.1\n",
    "    \n",
    "    Th_risk = 0.2  # pre-set value\n",
    "    \n",
    "    reserved_node = []\n",
    "    for id_index in detected_ids:\n",
    "        if random.random() < false_neg:\n",
    "            print(\"false negative on node: \"+str(id_index))\n",
    "            reserved_node.append(id_index)\n",
    "        else:\n",
    "            if G_real.nodes[id_index][\"criticality\"] < Th_risk:\n",
    "                \n",
    "                # check system fail\n",
    "                top_total = 0;\n",
    "                bottom_total = 0;\n",
    "                for n in G_real.nodes():\n",
    "                    top_total += G_real.nodes[n][\"compromised_status\"] * G_real.nodes[n][\"criticality\"]\n",
    "                    bottom_total += G_real.nodes[n][\"criticality\"]\n",
    "                if top_total/bottom_total >= SF_thres:\n",
    "                    print(\"node will cause system fail, evict it: \"+str(id_index))\n",
    "                    evict_a_node(id_index)\n",
    "                else:\n",
    "                    print(\"keep compromised node: \"+str(id_index))\n",
    "                    reserved_node.append(id_index)\n",
    "            else:\n",
    "                print(\"evict compromised node: \"+str(id_index))\n",
    "                evict_a_node(id_index)\n",
    "                \n",
    "            \n",
    "    return reserved_node"
   ]
  },
  {
   "cell_type": "code",
   "execution_count": 31,
   "metadata": {
    "ExecuteTime": {
     "end_time": "2020-07-30T20:08:10.762159Z",
     "start_time": "2020-07-30T20:08:10.756285Z"
    }
   },
   "outputs": [],
   "source": [
    "# DS1 – Firewalls\n",
    "# REVIEW\n",
    "def defense_DS_1():\n",
    "    global G_real, G_att, G_def\n",
    "    \n",
    "    for n in G_real.nodes():\n",
    "        G_real.nodes[n][\"unknown vulnerability\"][0] = max(G_real.nodes[n][\"unknown vulnerability\"][0]-1, 0)\n",
    "    \n",
    "    for n in G_att.nodes():\n",
    "        G_att.nodes[n][\"unknown vulnerability\"][0] = max(G_att.nodes[n][\"unknown vulnerability\"][0]-1, 0)\n",
    "        \n",
    "    for n in G_def.nodes():\n",
    "        G_def.nodes[n][\"unknown vulnerability\"][0] = max(G_def.nodes[n][\"unknown vulnerability\"][0]-1, 0)\n"
   ]
  },
  {
   "cell_type": "code",
   "execution_count": 32,
   "metadata": {
    "ExecuteTime": {
     "end_time": "2020-07-30T20:08:10.769478Z",
     "start_time": "2020-07-30T20:08:10.763985Z"
    }
   },
   "outputs": [],
   "source": [
    "# DS2 – Patch Management\n",
    "# REVIEW\n",
    "def defense_DS_2():\n",
    "    global G_real, G_att, G_def\n",
    "    \n",
    "    for index in range(sv):\n",
    "        for n in G_real.nodes():\n",
    "            G_real.nodes[n][\"software vulnerability\"][index] = max(G_real.nodes[n][\"software vulnerability\"][index]-1, 0)\n",
    "\n",
    "        for n in G_real.nodes():\n",
    "            G_att.nodes[n][\"software vulnerability\"][index] = max(G_att.nodes[n][\"software vulnerability\"][index]-1, 0)\n",
    "\n",
    "        for n in G_real.nodes():\n",
    "            G_def.nodes[n][\"software vulnerability\"][index] = max(G_def.nodes[n][\"software vulnerability\"][index]-1, 0)\n"
   ]
  },
  {
   "cell_type": "code",
   "execution_count": 33,
   "metadata": {
    "ExecuteTime": {
     "end_time": "2020-07-30T20:08:10.774825Z",
     "start_time": "2020-07-30T20:08:10.771314Z"
    }
   },
   "outputs": [],
   "source": [
    "# DS3 – Rekeying Cryptographic Keys\n",
    "def defense_DS_3():\n",
    "    global T_rekey, G_real, G_att, G_def\n",
    "    \n",
    "    T_rekey = 0\n",
    "    \n",
    "    G_real = update_en_vul(G_real)\n",
    "    G_att = update_en_vul(G_att)\n",
    "    G_def = update_en_vul(G_def)\n",
    "    \n",
    "    G_real = update_vul(G_real)\n",
    "    G_att = update_vul(G_att)\n",
    "    G_def = update_vul(G_def)"
   ]
  },
  {
   "cell_type": "code",
   "execution_count": 34,
   "metadata": {
    "ExecuteTime": {
     "end_time": "2020-07-30T20:08:10.783313Z",
     "start_time": "2020-07-30T20:08:10.776488Z"
    }
   },
   "outputs": [],
   "source": [
    "# DS4 – Eviction\n",
    "# return actural removed node\n",
    "# TODO: REVIEW\n",
    "def defense_DS_4():\n",
    "    global G_real, G_att, G_def\n",
    "    \n",
    "    Detection_rate = 0.9\n",
    "    saved_nodes = [];\n",
    "\n",
    "    for n in list(G_def.nodes()): # list() avoid \"dictionary changed size during iteration Error\"\n",
    "        if G_def.nodes[n][\"compromised_status\"]: # defender belived compromised node\n",
    "            \n",
    "            print(\"|| did\")\n",
    "            node_neighbor = list(G_def.neighbors(n))\n",
    "            for neighbor_index in node_neighbor:\n",
    "                if G_def.has_edge(n,neighbor_index): G_def.remove_edge(n,neighbor_index)\n",
    "                \n",
    "            if random.random() < Detection_rate:\n",
    "                print(\"= did\")\n",
    "                for neighbor_index in node_neighbor:\n",
    "                    if G_real.has_edge(n,neighbor_index): G_real.remove_edge(n,neighbor_index)\n",
    "                    if G_att.has_edge(n,neighbor_index): G_att.remove_edge(n,neighbor_index)\n",
    "                saved_nodes.append(n)\n",
    "#             G_def.remove_node(n)  # defender think all compromised node are evicted\n",
    "#             if random.random() < Detection_rate:\n",
    "#                 G_real.remove_node(n)\n",
    "#                 G_att.remove_node(n)\n",
    "#                 saved_nodes.append(n)\n",
    "                \n",
    "    return {\"ids\": saved_nodes}"
   ]
  },
  {
   "cell_type": "code",
   "execution_count": 35,
   "metadata": {
    "ExecuteTime": {
     "end_time": "2020-07-30T20:08:10.795489Z",
     "start_time": "2020-07-30T20:08:10.785188Z"
    }
   },
   "outputs": [],
   "source": [
    "# DS5 – Low/High-Interaction Honeypots\n",
    "def defense_DS_5():\n",
    "    global G_real, G_att, G_def, H_G, high_inter, low_inter, inter_per_node\n",
    "\n",
    "    legitimate_nodes = {}\n",
    "    for n in G_def.nodes():  # in defender view\n",
    "        if not G_def.nodes[n][\"compromised_status\"]:\n",
    "            legitimate_nodes[n] = G_def.nodes[n][\"normalized_vulnerability\"]\n",
    "    sorted_node_index = sorted(legitimate_nodes,\n",
    "                               key=legitimate_nodes.__getitem__,\n",
    "                               reverse=True)  # sort from high to low\n",
    "\n",
    "    # undirected to directed\n",
    "    G_real = G_real.to_directed()\n",
    "    G_att = G_att.to_directed()\n",
    "    G_def = G_def.to_directed()\n",
    "\n",
    "    # add honeypot network to main network\n",
    "    G_real = nx.compose(G_real, H_G)\n",
    "    G_att = nx.compose(G_att, H_G)\n",
    "    G_def = nx.compose(G_def, H_G)\n",
    "\n",
    "    # HI to top 15\n",
    "    counter = 0\n",
    "    for n in range(high_inter):\n",
    "        for i in range(inter_per_node):  # 3 per HI honeypot\n",
    "            G_real.add_edge(sorted_node_index[counter], \"HI\" + str(n))\n",
    "            G_att.add_edge(sorted_node_index[counter], \"HI\" + str(n))\n",
    "            G_def.add_edge(sorted_node_index[counter], \"HI\" + str(n))\n",
    "            counter += 1\n",
    "    # LI to next top 30\n",
    "    for n in range(low_inter):\n",
    "        for i in range(inter_per_node):  # 3 per LI honeypot\n",
    "            G_real.add_edge(sorted_node_index[counter], \"LI\" + str(n))\n",
    "            G_att.add_edge(sorted_node_index[counter], \"LI\" + str(n))\n",
    "            G_def.add_edge(sorted_node_index[counter], \"LI\" + str(n))\n",
    "            counter += 1\n",
    "    return {\n",
    "        \"HI_ids\": sorted_node_index[:(high_inter * inter_per_node - 1)],\n",
    "        \"LI_ids\": sorted_node_index[(high_inter * inter_per_node):]\n",
    "    }\n",
    "# Update network attribute"
   ]
  },
  {
   "cell_type": "code",
   "execution_count": 36,
   "metadata": {
    "ExecuteTime": {
     "end_time": "2020-07-30T20:08:10.804512Z",
     "start_time": "2020-07-30T20:08:10.797224Z"
    }
   },
   "outputs": [],
   "source": [
    "# DS6 – Honey information\n",
    "# this defend randomly decrease vulnerability in attacker view\n",
    "# attack detect probability ?\n",
    "\n",
    "def defense_DS_6():\n",
    "    global G_att, sv, ev\n",
    "\n",
    "    for n in G_att.nodes():\n",
    "        # change software vulnerability\n",
    "        for sv_index in range(sv):\n",
    "            G_att.nodes[n][\"software vulnerability\"][\n",
    "                sv_index] += random.randint(\n",
    "                    -G_att.nodes[n][\"software vulnerability\"][sv_index],\n",
    "                    10 - G_att.nodes[n][\"software vulnerability\"][sv_index])\n",
    "        \n",
    "        # change encryption vulnerability\n",
    "        for ev_index in range(ev):\n",
    "            G_att.nodes[n][\"original_encryption_vulnerability\"][\n",
    "                ev_index] += random.randint(-G_att.nodes[n][\"original_encryption_vulnerability\"][ev_index], 10 - G_att.nodes[n][\"original_encryption_vulnerability\"][ev_index])\n",
    "        \n",
    "        # change unknown vulnerability\n",
    "        G_att.nodes[n][\"unknown vulnerability\"][\n",
    "            0] += random.randint(\n",
    "                -G_att.nodes[n][\"unknown vulnerability\"][0],\n",
    "                10 - G_att.nodes[n][\"unknown vulnerability\"][0])\n",
    "    \n",
    "    G_att = update_en_vul(G_att)\n",
    "    G_att = update_vul(G_att)\n",
    "    "
   ]
  },
  {
   "cell_type": "code",
   "execution_count": 37,
   "metadata": {
    "ExecuteTime": {
     "end_time": "2020-07-30T20:08:10.808791Z",
     "start_time": "2020-07-30T20:08:10.806136Z"
    }
   },
   "outputs": [],
   "source": [
    "# DS7 – Fake keys\n",
    "# （this defense only affect AS_6, since it's the only attack relate to key\n",
    "# update for AS using encryption vul.\n",
    "def defense_DS_7():\n",
    "    global P_fake, att_detect\n",
    "    \n",
    "    P_fake = 0.5 - att_detect[6]"
   ]
  },
  {
   "cell_type": "code",
   "execution_count": 38,
   "metadata": {
    "ExecuteTime": {
     "end_time": "2020-07-30T20:08:10.817533Z",
     "start_time": "2020-07-30T20:08:10.811108Z"
    }
   },
   "outputs": [],
   "source": [
    "# DS8 – Hiding network topology edges\n",
    "# randomly pick a node, and remove the edge connect to highest criticality node among the node nieghbor\n",
    "def defense_DS_8():\n",
    "    global G_real, G_att, G_def\n",
    "    \n",
    "    edge_number = G_att.number_of_edges()\n",
    "    to_remove_edge_number = int(round(edge_number*0.2))\n",
    "    print(\"remove \"+str(to_remove_edge_number)+\" edges\")\n",
    "    \n",
    "    node_id_set = G_att.nodes()\n",
    "    while to_remove_edge_number!=0:\n",
    "        chosen_node = random.choice(node_id_set)\n",
    "#         print(chosen_node[\"id\"])\n",
    "#         to_remove_edge_number-=1\n",
    "        \n",
    "        # get max adjacent node\n",
    "        max_criticality_id = None\n",
    "        max_criticality_value = 0\n",
    "        for neighbor_id in G_att.neighbors(chosen_node[\"id\"]):\n",
    "            if G_att.nodes[neighbor_id][\"criticality\"] > max_criticality_value:\n",
    "                max_criticality_id = neighbor_id\n",
    "                max_criticality_value = G_att.nodes[neighbor_id][\"criticality\"]\n",
    "\n",
    "        # remove edge\n",
    "        if max_criticality_id != None:\n",
    "            G_att.remove_edge(chosen_node[\"id\"], max_criticality_id)\n",
    "            to_remove_edge_number-=1\n",
    "            print(\"remove edge [\"+str(chosen_node[\"id\"])+\" , \"+str(max_criticality_id)+\"]\")\n",
    "        \n",
    "        \n",
    "        "
   ]
  },
  {
   "cell_type": "code",
   "execution_count": 39,
   "metadata": {
    "ExecuteTime": {
     "end_time": "2020-07-30T20:08:10.821145Z",
     "start_time": "2020-07-30T20:08:10.819194Z"
    }
   },
   "outputs": [],
   "source": [
    "# defense_DS_8()"
   ]
  },
  {
   "cell_type": "code",
   "execution_count": 40,
   "metadata": {
    "ExecuteTime": {
     "end_time": "2020-07-30T20:08:10.825207Z",
     "start_time": "2020-07-30T20:08:10.822765Z"
    }
   },
   "outputs": [],
   "source": [
    "# if monitored_info[\"id\"] != None:\n",
    "#     APV = calc_APV(G, monitored_info[\"id\"], monitored_info[\"attack_cost\"])\n",
    "#     print(APV)\n",
    "\n",
    "# operate attack AS_1\n",
    "# monitored_info = attack_AS_1()\n",
    "# attacker_collection_list.append(monitored_info)\n",
    "# print(attacker_collection_list)\n",
    "\n",
    "\n",
    "# operate attack AS_2\n",
    "# attack_result_2 = attack_AS_2(attacker_collection_list)\n",
    "# print(attack_result_2)\n",
    "\n",
    "\n",
    "# operate attack AS_3\n",
    "# attack_result_3 = attack_AS_3()\n",
    "# print(attack_result_3)\n",
    "\n",
    "# operate attack AS_4\n",
    "# attack_result_4 = attack_AS_4()\n",
    "# print(attack_result_4)\n",
    "\n",
    "# operate attack AS_5\n",
    "# attack_result_5 = attack_AS_5()\n",
    "# print(attack_result_5);\n",
    "\n",
    "# operate attack AS_6\n",
    "# attack_result_6 = attack_AS_6()\n",
    "# print(attack_result_6);\n",
    "\n",
    "# operate attack AS_7\n",
    "# attack_result_7 = attack_AS_7()\n",
    "# print(attack_result_7);\n",
    "\n",
    "# # operate attack AS_8\n",
    "# attack_result_8 = attack_AS_8()\n",
    "# print(attack_result_8)\n",
    "\n",
    "\n",
    "\n",
    "# show_all_nodes(G_real);"
   ]
  },
  {
   "cell_type": "code",
   "execution_count": 41,
   "metadata": {
    "ExecuteTime": {
     "end_time": "2020-07-30T20:08:10.829938Z",
     "start_time": "2020-07-30T20:08:10.826984Z"
    }
   },
   "outputs": [],
   "source": [
    "# defense_DS_1()\n",
    "# defense_DS_2()\n",
    "# defense_DS_3()\n",
    "# T_rekey +=1\n",
    "# update_en_vul(G_real)\n",
    "# update_en_vul(G_att)\n",
    "# update_en_vul(G_def)\n",
    "\n",
    "# DS4_result= defense_DS_4()\n",
    "# print(DS4_result)\n",
    "\n",
    "# DS5_result = defense_DS_5()\n",
    "# print(DS5_result)\n",
    "\n",
    "\n",
    "# defense_DS_6()\n",
    "# show_all_nodes(G_real);\n",
    "\n",
    "# saved_file_name_index = \"1\"\n",
    "# draw_graph(G_att)\n",
    "\n",
    "# defense_DS_7()\n",
    "\n",
    "# defense_DS_8()\n",
    "\n",
    "\n",
    "# show_all_nodes(G_real)\n",
    "# saved_file_name_index = \"1\"\n",
    "# draw_graph(G_real)\n",
    "# saved_file_name_index = \"2\"\n",
    "# draw_graph(G_att)\n",
    "# saved_file_name_index = \"3\"\n",
    "# draw_graph(G_def)\n",
    "\n",
    "# show_all_nodes(G_real);"
   ]
  },
  {
   "cell_type": "code",
   "execution_count": 42,
   "metadata": {
    "ExecuteTime": {
     "end_time": "2020-07-30T20:08:10.837716Z",
     "start_time": "2020-07-30T20:08:10.831869Z"
    }
   },
   "outputs": [],
   "source": [
    "# Nodes attribute pre-set\n",
    "def new_attribute_and_view_graph():\n",
    "    global G_real, H_G, G_att, G_def\n",
    "    # set id\n",
    "    G_real = set_id(G_real)\n",
    "    H_G = set_id(H_G)\n",
    "\n",
    "    # set type\n",
    "    G_real = set_type(G_real)\n",
    "    H_G = set_type_for_HP(H_G)\n",
    "\n",
    "    # set honeypot\n",
    "    G_real = set_HP_attribute(G_real)\n",
    "    H_G = set_HP_attribute(H_G)\n",
    "\n",
    "    # set vulnearbility\n",
    "    G_real = set_security_vulnerability(G_real)\n",
    "    H_G = set_security_vulnerability(H_G)\n",
    "\n",
    "    # set importance\n",
    "    G_real = set_importance(G_real)\n",
    "    H_G = set_importance(H_G)\n",
    "\n",
    "#     # set reachability\n",
    "#     G_real = set_reachability(G_real)\n",
    "#     H_G = set_reachability(H_G)\n",
    "\n",
    "    # set mobility\n",
    "    G_real = set_mobility(G_real)\n",
    "    H_G = set_mobility(H_G)\n",
    "\n",
    "    # set compromised status\n",
    "    G_real = set_compromised_status(G_real)\n",
    "    H_G = set_compromised_status(H_G)\n",
    "\n",
    "    # update criticality\n",
    "    G_real = updata_criticality(G_real)\n",
    "    H_G = updata_criticality(H_G)  # Recheck: zero result\n",
    "\n",
    "    # update APV\n",
    "\n",
    "\n",
    "    # create attacker view graph\n",
    "    # G means real graph, G_att means attacker's view graph, G_def means defender's view graph\n",
    "    # the node id in three graph has to be consistent\n",
    "    # G_att = G_real.copy();\n",
    "    # G_def = G_real.copy();\n",
    "    G_att = copy.deepcopy(G_real)\n",
    "    G_def = copy.deepcopy(G_real)\n",
    "\n",
    "\n",
    "\n",
    "    # system_condition = is_system_fail()\n",
    "\n",
    "    # show_all_nodes(G_real)\n",
    "    # show_all_nodes(H_G)"
   ]
  },
  {
   "cell_type": "code",
   "execution_count": 43,
   "metadata": {
    "ExecuteTime": {
     "end_time": "2020-07-30T20:08:10.843781Z",
     "start_time": "2020-07-30T20:08:10.839880Z"
    }
   },
   "outputs": [],
   "source": [
    "def defender_uncertainty_update():\n",
    "    global att_detect, def_monit_time\n",
    "    \n",
    "    uncertainty = np.zeros(def_strategy_number)\n",
    "    def_monit_time += 1\n",
    "    mu = 1\n",
    "    \n",
    "    for index in range(def_strategy_number):\n",
    "        uncertainty[index] = 1-math.exp((-mu) *att_detect[index]/def_monit_time)\n",
    "    \n",
    "    return uncertainty"
   ]
  },
  {
   "cell_type": "code",
   "execution_count": 44,
   "metadata": {
    "ExecuteTime": {
     "end_time": "2020-07-30T20:08:10.849871Z",
     "start_time": "2020-07-30T20:08:10.845829Z"
    }
   },
   "outputs": [],
   "source": [
    "def attacker_uncertainty_update():\n",
    "    global att_in_system_time, att_detect, dec, att_strategy_number\n",
    "    \n",
    "    uncertainty = np.zeros(att_strategy_number)\n",
    "    lambd = 1\n",
    "    for index in range(att_strategy_number):\n",
    "        df = 1 + (1-att_detect[index]) * dec\n",
    "        uncertainty[index] = 1 - math.exp((-lambd) * (df)/att_in_system_time)\n",
    "        \n",
    "    return uncertainty"
   ]
  },
  {
   "cell_type": "code",
   "execution_count": 45,
   "metadata": {
    "ExecuteTime": {
     "end_time": "2020-07-30T20:08:10.857924Z",
     "start_time": "2020-07-30T20:08:10.851685Z"
    }
   },
   "outputs": [],
   "source": [
    "def update_strategy_probability():\n",
    "    global attacker_action_history, defender_action_history, sub_game_number, att_strategy_number, def_strategy_number\n",
    "    global Prob_att_row_per_subgram, Prob_att_column_per_subgram, Prob_def_row_per_subgram, Prob_def_column_per_subgram\n",
    "\n",
    "    for game_index in range(sub_game_number):\n",
    "        # r^A\n",
    "        base = sum(attacker_action_history[game_index])\n",
    "        for strategy_index in range(att_strategy_number):\n",
    "            Prob_att_row_per_subgram[game_index,\n",
    "                                     strategy_index] = attacker_action_history[\n",
    "                                         game_index, strategy_index] / base\n",
    "\n",
    "        # c^A\n",
    "        base = sum(defender_action_history[game_index])\n",
    "        for strategy_index in range(def_strategy_number):\n",
    "            Prob_att_column_per_subgram[\n",
    "                game_index, strategy_index] = defender_action_history[\n",
    "                    game_index, strategy_index] / base\n",
    "\n",
    "        # r^D\n",
    "        base = sum(defender_action_history[game_index])\n",
    "        for strategy_index in range(def_strategy_number):\n",
    "            Prob_def_row_per_subgram[game_index,\n",
    "                                     strategy_index] = defender_action_history[\n",
    "                                         game_index, strategy_index] / base\n",
    "\n",
    "        # c^D\n",
    "        base = sum(attacker_action_history[game_index])\n",
    "        for strategy_index in range(att_strategy_number):\n",
    "            Prob_def_column_per_subgram[\n",
    "                game_index, strategy_index] = attacker_action_history[\n",
    "                    game_index, strategy_index] / base"
   ]
  },
  {
   "cell_type": "code",
   "execution_count": 46,
   "metadata": {
    "ExecuteTime": {
     "end_time": "2020-07-30T20:08:10.874085Z",
     "start_time": "2020-07-30T20:08:10.859842Z"
    }
   },
   "outputs": [],
   "source": [
    "def attacker_behavior(att_chosen_strategy):\n",
    "    global attacker_collection_list, attacker_location, att_CKC_position, G_real\n",
    "    global attack_impact_record, attack_cost_record, defend_impact_record\n",
    "\n",
    "    return_value = False\n",
    "    if att_chosen_strategy == 0:\n",
    "        monitored_info = attack_AS_1()\n",
    "        attacker_collection_list.append(monitored_info)\n",
    "        attack_impact_record[att_chosen_strategy] = 0\n",
    "        attack_cost_record[att_chosen_strategy] += monitored_info[\"attack_cost\"]\n",
    "        print(\"obtain information:\")\n",
    "        print(monitored_info)\n",
    "        return_value = True\n",
    "\n",
    "    elif att_chosen_strategy == 1:\n",
    "        attack_result = attack_AS_2(attacker_collection_list,\n",
    "                                    attacker_location)\n",
    "        if attack_result[\"ids\"]:\n",
    "            attack_impact_record[att_chosen_strategy] = attack_impact(G_real, attack_result[\"ids\"])\n",
    "            attack_cost_record[att_chosen_strategy] = attack_result[\"attack_cost\"]\n",
    "            return_value = True\n",
    "        else:\n",
    "            print(\"attack 2 failed\")\n",
    "\n",
    "    elif att_chosen_strategy == 2:\n",
    "        attack_result = attack_AS_3()\n",
    "        if attack_result[\"ids\"]:\n",
    "            attack_impact_record[att_chosen_strategy] = attack_impact(G_real, attack_result[\"ids\"])\n",
    "            attack_cost_record[att_chosen_strategy] = attack_result[\"attack_cost\"]\n",
    "            return_value = True\n",
    "        else:\n",
    "            print(\"attack 3 failed\")\n",
    "\n",
    "    elif att_chosen_strategy == 3:\n",
    "        attack_result = attack_AS_4()\n",
    "        if attack_result[\"ids\"]:\n",
    "            attack_impact_record[att_chosen_strategy] = 0\n",
    "            attack_cost_record[att_chosen_strategy] = attack_result[\"attack_cost\"]\n",
    "            return_value = True\n",
    "        else:\n",
    "            print(\"attack 4 failed\")\n",
    "\n",
    "    elif att_chosen_strategy == 4:\n",
    "        attack_result = attack_AS_5()\n",
    "        if attack_result[\"ids\"]:\n",
    "            attack_impact_record[att_chosen_strategy] = attack_impact(G_real, attack_result[\"ids\"])\n",
    "            attack_cost_record[att_chosen_strategy] = attack_result[\"attack_cost\"]\n",
    "            return_value = True\n",
    "        else:\n",
    "            print(\"attack 5 failed\")\n",
    "\n",
    "    elif att_chosen_strategy == 5:\n",
    "        attack_result = attack_AS_6()\n",
    "        if attack_result[\"ids\"]:\n",
    "            attack_impact_record[att_chosen_strategy] = attack_impact(G_real, attack_result[\"ids\"])\n",
    "            attack_cost_record[att_chosen_strategy] = attack_result[\"attack_cost\"]\n",
    "            return_value = True\n",
    "        else:\n",
    "            print(\"attack 6 failed\")\n",
    "\n",
    "    elif att_chosen_strategy == 6:\n",
    "        attack_result = attack_AS_7()\n",
    "        if attack_result[\"ids\"]:\n",
    "            attack_impact_record[att_chosen_strategy] = attack_impact(G_real, attack_result[\"ids\"])\n",
    "            attack_cost_record[att_chosen_strategy] = attack_result[\"attack_cost\"]\n",
    "            print(\"move to next stage\")\n",
    "        else:\n",
    "            print(\"attack 7 failed\")\n",
    "\n",
    "    else:\n",
    "        data_exfiltrat = attack_AS_8()\n",
    "        if data_exfiltrat:\n",
    "            print(\"attacker compromised system\")\n",
    "            return_value = True\n",
    "        else:\n",
    "            attack_impact_record[att_chosen_strategy] = 0\n",
    "            print(\"attack 8 failed\")\n",
    "    \n",
    "    \n",
    "    # update defender impact\n",
    "    defend_impact_record = 1 - attack_impact_record\n",
    "    \n",
    "    return return_value\n",
    "        "
   ]
  },
  {
   "cell_type": "code",
   "execution_count": 74,
   "metadata": {
    "ExecuteTime": {
     "end_time": "2020-07-30T20:23:32.783601Z",
     "start_time": "2020-07-30T20:23:32.767782Z"
    }
   },
   "outputs": [],
   "source": [
    "def attacker_choose_strategy(att_CKC_position):\n",
    "    global att_strategy_number, def_strategy_number, sub_game_number, Prob_att_row_per_subgram\n",
    "    global attack_impact_record, defend_impact_record, attack_cost_record, defend_cost_record\n",
    "\n",
    "    # preset cost?\n",
    "    attack_cost_record[0] = 1\n",
    "    attack_cost_record[1] = 3\n",
    "    attack_cost_record[2] = 3\n",
    "    attack_cost_record[3] = 3\n",
    "    attack_cost_record[4] = 1\n",
    "    attack_cost_record[5] = 3\n",
    "    attack_cost_record[6] = 2\n",
    "    attack_cost_record[7] = 3\n",
    "    defend_cost_record[0] = 1\n",
    "    defend_cost_record[1] = 3\n",
    "    defend_cost_record[2] = 3\n",
    "    defend_cost_record[3] = 3\n",
    "    defend_cost_record[4] = 1\n",
    "    defend_cost_record[5] = 3\n",
    "    defend_cost_record[6] = 2\n",
    "    defend_cost_record[7] = 3\n",
    "\n",
    "    # preset(may change later)\n",
    "    S_j = np.ones(att_strategy_number)\n",
    "    S_w = 1\n",
    "\n",
    "    # eq. 19 (Uncertainty g)\n",
    "    g = attacker_uncertainty_update()\n",
    "\n",
    "    # eq. 17\n",
    "    utility = np.zeros((att_strategy_number, def_strategy_number))\n",
    "    for i in range(att_strategy_number):\n",
    "        for j in range(def_strategy_number):\n",
    "            utility[i, j] = (attack_impact_record[i] + defend_cost_record[j] /\n",
    "                             3) - (attack_cost_record[i] / 3 +\n",
    "                                   defend_impact_record[j])\n",
    "\n",
    "    # eq. 8\n",
    "    EU_C = np.zeros(att_strategy_number)\n",
    "    for index in range(att_strategy_number):\n",
    "        EU_C[index] = np.sum(S_j) * np.sum(utility[index])\n",
    "\n",
    "    # eq. 9\n",
    "    EU_CMS = np.zeros(att_strategy_number)\n",
    "    for index in range(att_strategy_number):\n",
    "        EU_CMS[index] = att_strategy_number * S_w * np.sum(utility[index])\n",
    "\n",
    "    # eq. 7\n",
    "    HEU = np.zeros(att_strategy_number)\n",
    "    for index in range(att_strategy_number):\n",
    "        HEU[index] = (\n",
    "            (1 - g[index]) * EU_C[index]) + (g[index] * EU_CMS[index])\n",
    "\n",
    "    print(g)\n",
    "    print(attack_impact_record)\n",
    "    print(defend_cost_record)\n",
    "    print(attack_cost_record)\n",
    "    print(defend_impact_record)\n",
    "#     print(utility)\n",
    "    print(\"HEU\")\n",
    "    print(HEU)\n",
    "    \n",
    "    print(\"r: \"+str(Prob_att_row_per_subgram))\n",
    "    \n",
    "    # use Unity-based Normalization\n",
    "    # use Unity-based Normalization, restrict to range(0.1 to 1)\n",
    "    a = 0.1\n",
    "    b = 1\n",
    "    normalized_HEU = a + (HEU - min(HEU))*(b-a) / (max(HEU) - min(HEU))\n",
    "    print(\"normalized HEU: \" + str(normalized_HEU))\n",
    "\n",
    "    # eq. 23\n",
    "    AHEU = np.zeros(att_strategy_number)\n",
    "    for index in range(att_strategy_number):\n",
    "        # TODO: may change this later\n",
    "        AHEU[index] = normalized_HEU[index] * Prob_att_row_per_subgram[att_CKC_position,\n",
    "                                                            index]\n",
    "    print(\"AHEU: \" + str(AHEU))\n",
    "\n",
    "    att_chosen_strategy = random.choices(range(att_strategy_number),\n",
    "                                         weights=AHEU,\n",
    "                                         k=1)[0]\n",
    "\n",
    "    #     if all(i <= 0 for i in AHEU):\n",
    "    #         print(\"No positive AHEU element, random selection\")\n",
    "    #         att_chosen_strategy = random.randint(0, att_strategy_number - 1)\n",
    "    #     else:\n",
    "    #         att_chosen_strategy = random.choices(range(att_strategy_number),\n",
    "    #                                          weights=AHEU, k=1)[0]\n",
    "\n",
    "    return att_chosen_strategy"
   ]
  },
  {
   "cell_type": "code",
   "execution_count": 48,
   "metadata": {
    "ExecuteTime": {
     "end_time": "2020-07-30T20:08:10.898344Z",
     "start_time": "2020-07-30T20:08:10.892323Z"
    }
   },
   "outputs": [],
   "source": [
    "def defender_behavior(def_chosen_strategy):\n",
    "    \n",
    "    return_value = False\n",
    "    if def_chosen_strategy == 0:\n",
    "        defense_DS_1()\n",
    "        return_value = True\n",
    "    elif def_chosen_strategy == 1:\n",
    "        defense_DS_2()\n",
    "        return_value = True\n",
    "    elif def_chosen_strategy == 2:\n",
    "        defense_DS_3()\n",
    "        return_value = True\n",
    "    elif def_chosen_strategy == 3:\n",
    "        defense_DS_4()\n",
    "        return_value = True\n",
    "    elif def_chosen_strategy == 4:\n",
    "        defense_DS_5()\n",
    "        return_value = True\n",
    "    elif def_chosen_strategy == 5:\n",
    "        defense_DS_6()\n",
    "        return_value = True\n",
    "    elif def_chosen_strategy == 6:\n",
    "        defense_DS_7()\n",
    "        return_value = True\n",
    "    elif def_chosen_strategy == 7:\n",
    "        defense_DS_8()\n",
    "        return_value = True\n",
    "        \n",
    "    \n",
    "    \n",
    "    return return_value"
   ]
  },
  {
   "cell_type": "code",
   "execution_count": 70,
   "metadata": {
    "ExecuteTime": {
     "end_time": "2020-07-30T20:21:31.130868Z",
     "start_time": "2020-07-30T20:21:31.116512Z"
    }
   },
   "outputs": [],
   "source": [
    "def defender_choose_strategy(def_CKC_position):\n",
    "    global att_strategy_number, def_strategy_number, sub_game_number, Prob_att_row_per_subgram\n",
    "    global attack_impact_record, defend_impact_record, attack_cost_record, defend_cost_record\n",
    "    \n",
    "\n",
    "    # preset cost?\n",
    "    attack_cost_record[0] = 1\n",
    "    attack_cost_record[1] = 3\n",
    "    attack_cost_record[2] = 3\n",
    "    attack_cost_record[3] = 3\n",
    "    attack_cost_record[4] = 1\n",
    "    attack_cost_record[5] = 3\n",
    "    attack_cost_record[6] = 2\n",
    "    attack_cost_record[7] = 3\n",
    "    defend_cost_record[0] = 1\n",
    "    defend_cost_record[1] = 3\n",
    "    defend_cost_record[2] = 3\n",
    "    defend_cost_record[3] = 3\n",
    "    defend_cost_record[4] = 1\n",
    "    defend_cost_record[5] = 3\n",
    "    defend_cost_record[6] = 2\n",
    "    defend_cost_record[7] = 3\n",
    "\n",
    "    # preset(may change later)\n",
    "    S_j = np.ones(att_strategy_number)\n",
    "    S_w = 1\n",
    "\n",
    "    #TODO: select w  = row's utility for the min\n",
    "\n",
    "    # eq. 19 (Uncertainty g)\n",
    "    g = defender_uncertainty_update()\n",
    "\n",
    "    # eq. 17\n",
    "    utility = np.zeros((def_strategy_number, att_strategy_number))\n",
    "    for i in range(def_strategy_number):\n",
    "        for j in range(att_strategy_number):\n",
    "            utility[i, j] = (defend_impact_record[i] + attack_cost_record[j] /\n",
    "                             3) - (defend_cost_record[i] / 3 +\n",
    "                                   attack_impact_record[j])\n",
    "\n",
    "    # eq. 8\n",
    "    EU_C = np.zeros(def_strategy_number)\n",
    "    for index in range(def_strategy_number):\n",
    "        EU_C[index] = def_strategy_number * S_w * np.sum(utility[index])\n",
    "\n",
    "    # eq. 9\n",
    "    EU_CMS = np.zeros(def_strategy_number)\n",
    "    for index in range(def_strategy_number):\n",
    "        EU_CMS[index] = def_strategy_number * S_w * np.sum(utility[index])\n",
    "\n",
    "    # eq. 7\n",
    "    HEU = np.zeros(def_strategy_number)\n",
    "    for index in range(def_strategy_number):\n",
    "        HEU[index] = (\n",
    "            (1 - g[index]) * EU_C[index]) + (g[index] * EU_CMS[index])\n",
    "\n",
    "#     print(g)\n",
    "#     print(\"defender utility\")\n",
    "#     print(utility)\n",
    "    print(\"HEU\")\n",
    "    print(HEU)\n",
    "\n",
    "    # use Unity-based Normalization, restrict to range(0.1 to 1)\n",
    "    a = 0.1\n",
    "    b = 1\n",
    "    normalized_HEU = a + (HEU - min(HEU)) *(b-a) / (max(HEU) - min(HEU))\n",
    "    print(\"normalized HEU: \" + str(normalized_HEU))\n",
    "\n",
    "    # eq. 23\n",
    "    DHEU = np.zeros(def_strategy_number)\n",
    "    for index in range(def_strategy_number):\n",
    "        # TODO: may change this later\n",
    "        DHEU[index] = normalized_HEU[index] * Prob_def_row_per_subgram[\n",
    "            def_CKC_position, index]\n",
    "    print(\"DHEU: \" + str(DHEU))\n",
    "\n",
    "\n",
    "    def_chosen_strategy = random.choices(range(def_strategy_number),\n",
    "                                         weights=DHEU,\n",
    "                                         k=1)[0]\n",
    "    #     if all(i <= 0 for i in DHEU):\n",
    "    #         print(\"No positive DHEU element, random selection\")\n",
    "    #         def_chosen_strategy = random.randint(0, def_strategy_number - 1)\n",
    "    #     else:\n",
    "    #         def_chosen_strategy = random.choices(range(def_strategy_number),\n",
    "    #                                              weights=DHEU,\n",
    "    #                                              k=1)[0]\n",
    "\n",
    "    return def_chosen_strategy\n",
    "\n",
    "\n",
    "#     return random.randint(0,7)"
   ]
  },
  {
   "cell_type": "code",
   "execution_count": 50,
   "metadata": {
    "ExecuteTime": {
     "end_time": "2020-07-30T20:08:10.919638Z",
     "start_time": "2020-07-30T20:08:10.916275Z"
    }
   },
   "outputs": [],
   "source": [
    "def def_predict_stage(uncertainty, att_stage):\n",
    "    if random.random()>uncertainty:\n",
    "        return att_stage\n",
    "    else:\n",
    "        # index 8 means all games\n",
    "        return 6"
   ]
  },
  {
   "cell_type": "code",
   "execution_count": 51,
   "metadata": {
    "ExecuteTime": {
     "end_time": "2020-07-30T20:08:10.923072Z",
     "start_time": "2020-07-30T20:08:10.921264Z"
    }
   },
   "outputs": [],
   "source": [
    "# def_predict_stage(0.5, 3)"
   ]
  },
  {
   "cell_type": "code",
   "execution_count": 68,
   "metadata": {
    "ExecuteTime": {
     "end_time": "2020-07-30T20:21:00.808016Z",
     "start_time": "2020-07-30T20:20:59.475974Z"
    }
   },
   "outputs": [
    {
     "name": "stdout",
     "output_type": "stream",
     "text": [
      "honeypot graph\n",
      "rebuild\n",
      "rebuild\n",
      "real graph\n"
     ]
    },
    {
     "data": {
      "image/png": "[encoded data removed]",
      "text/plain": [
       "<Figure size 432x288 with 1 Axes>"
      ]
     },
     "metadata": {},
     "output_type": "display_data"
    },
    {
     "data": {
      "image/png": "[encoded data removed]",
      "text/plain": [
       "<Figure size 432x288 with 1 Axes>"
      ]
     },
     "metadata": {},
     "output_type": "display_data"
    }
   ],
   "source": [
    "# generate graph\n",
    "new_honeypot()\n",
    "new_real_graph()\n",
    "new_attribute_and_view_graph()"
   ]
  },
  {
   "cell_type": "code",
   "execution_count": 69,
   "metadata": {
    "ExecuteTime": {
     "end_time": "2020-07-30T20:21:20.889217Z",
     "start_time": "2020-07-30T20:21:20.873640Z"
    }
   },
   "outputs": [],
   "source": [
    "# Hypergame\n",
    "\n",
    "\n",
    "\n",
    "attacker_collection_list = []\n",
    "attacker_location = None\n",
    "\n",
    "\n",
    "# history\n",
    "attacker_action_history = np.zeros(\n",
    "    (sub_game_number, att_strategy_number))  # six subgame with 8 strategy\n",
    "defender_action_history = np.zeros(\n",
    "    (sub_game_number, def_strategy_number))  # six subgame with 8 strategy\n",
    "# impact & cost\n",
    "attack_impact_record = np.ones(att_strategy_number)  # attacker believe all strategy will work initially\n",
    "defend_impact_record = np.zeros(def_strategy_number)\n",
    "attack_cost_record = np.zeros(att_strategy_number)\n",
    "defend_cost_record = np.zeros(def_strategy_number)\n",
    "\n",
    "\n",
    "# belief\n",
    "attacker_belief = np.zeros(sub_game_number+1)\n",
    "defender_belief = np.zeros(sub_game_number+1)\n",
    "\n",
    "att_CKC_position = 0  # attacker position in CKC\n",
    "def_guess_CKC_position = 0 # defender guess attacker's stage\n",
    "\n",
    "# Preset r_ki and c_kj\n",
    "Prob_att_subgame = np.zeros(sub_game_number)  # six subgame (CKC)\n",
    "Prob_att_row_per_subgram = np.zeros(\n",
    "    (sub_game_number, att_strategy_number))  # six subgame with 8 strategy\n",
    "Prob_att_column_per_subgram = np.zeros((sub_game_number, def_strategy_number))\n",
    "Prob_def_subgame = np.zeros(sub_game_number)  # six subgame (CKC)\n",
    "Prob_def_row_per_subgram = np.zeros(\n",
    "    (sub_game_number, def_strategy_number))  # six subgame with 8 strategy\n",
    "Prob_def_column_per_subgram = np.zeros((sub_game_number, att_strategy_number))\n",
    "\n",
    "# mimic Table 4\n",
    "# add record in advance is to limit strategy in different stage.\n",
    "# R\n",
    "attacker_action_history[0, 0] = 1\n",
    "defender_action_history[0, 0] = 1\n",
    "defender_action_history[0, 0] = 1\n",
    "defender_action_history[0, 7] = 1\n",
    "# D\n",
    "attacker_action_history[1, 0] = 1\n",
    "attacker_action_history[1, 1] = 1\n",
    "defender_action_history[1, 0] = 1\n",
    "defender_action_history[1, 1] = 1\n",
    "# E\n",
    "attacker_action_history[2, 1] = 1\n",
    "attacker_action_history[2, 2] = 1\n",
    "attacker_action_history[2, 3] = 1\n",
    "attacker_action_history[2, 4] = 1\n",
    "attacker_action_history[2, 6] = 1\n",
    "defender_action_history[2, 2] = 1\n",
    "defender_action_history[2, 3] = 1\n",
    "defender_action_history[2, 4] = 1\n",
    "defender_action_history[2, 6] = 1\n",
    "# C2\n",
    "for i in range(att_strategy_number - 1):\n",
    "    attacker_action_history[3, i] = 1\n",
    "for i in range(2, def_strategy_number):\n",
    "    defender_action_history[3, i] = 1\n",
    "# M\n",
    "for i in range(att_strategy_number - 1):\n",
    "    attacker_action_history[4, i] = 1\n",
    "for i in range(2, def_strategy_number):\n",
    "    defender_action_history[4, i] = 1\n",
    "# DE\n",
    "for i in range(att_strategy_number):\n",
    "    attacker_action_history[5, i] = 1\n",
    "for i in range(2, def_strategy_number):\n",
    "    defender_action_history[5, i] = 1\n",
    "\n",
    "update_strategy_probability()\n",
    "\n",
    "# print(\"initial row probability\")\n",
    "# print(Prob_att_row_per_subgram)\n",
    "# print(Prob_def_row_per_subgram)\n",
    "\n",
    "# update defender subgame with uncertainty 'g'\n",
    "# defender_uncertainty = defender_uncertainty_update()\n",
    "# Prob_def_subgame = Prob_def_subgame * (1 - defender_uncertainty)\n",
    "\n",
    "game_continue = True\n",
    "while (game_continue):\n",
    "    system_lifetime += 1\n",
    "\n",
    "    print(\"Game: \" + str(system_lifetime))\n",
    "\n",
    "    print(\"Stage: \" + str(att_CKC_position + 1))\n",
    "    \n",
    "    # defender guess attacker CKC\n",
    "    def_CKC_position = def_predict_stage(defender_uncertainty_update()[0], att_CKC_position)\n",
    "    \n",
    "    if def_CKC_position == 6:\n",
    "        def_chosen_strategy = random.randint(0,7)\n",
    "        print(\"defender select full game\")\n",
    "    else:\n",
    "        # defender select strategy\n",
    "        def_chosen_strategy = defender_choose_strategy(def_CKC_position)\n",
    "        print(\"defender strategy: \"+str(def_chosen_strategy + 1))\n",
    "\n",
    "    \n",
    "    \n",
    "    # defender behavior\n",
    "    defender_behavior(def_chosen_strategy)\n",
    "    \n",
    "    # attacker select strategy\n",
    "    att_chosen_strategy = attacker_choose_strategy(att_CKC_position)\n",
    "    print(\"attacker strategy: \" + str(att_chosen_strategy + 1))\n",
    "\n",
    "    # attacker behavior\n",
    "    action_result = attacker_behavior(att_chosen_strategy)\n",
    "    \n",
    "    \n",
    "    # changing stage\n",
    "    if action_result:\n",
    "        if att_chosen_strategy == 0 and att_CKC_position == 1:\n",
    "            print(\"remain in Stage D\")\n",
    "        elif att_CKC_position >= sub_game_number-1:\n",
    "            print(\"stay in stage 6\")\n",
    "        else:\n",
    "            print(\"move to next stage\")\n",
    "            att_CKC_position += 1\n",
    "        # new game, new impact\n",
    "        attack_impact_record = np.zeros(att_strategy_number)\n",
    "        defend_impact_record = np.zeros(def_strategy_number)\n",
    "    \n",
    "\n",
    "    attacker_action_history[att_CKC_position, att_chosen_strategy] += 1\n",
    "    update_strategy_probability()\n",
    "    \n",
    "    if is_system_fail():\n",
    "        game_continue = False\n",
    "        \n",
    "   \n",
    "\n",
    "    time.sleep(1)\n",
    "    print()"
   ]
  },
  {
   "cell_type": "code",
   "execution_count": 58,
   "metadata": {
    "ExecuteTime": {
     "end_time": "2020-07-30T20:13:06.127158Z",
     "start_time": "2020-07-30T20:13:06.125323Z"
    }
   },
   "outputs": [],
   "source": [
    "# show_all_nodes(G_att)\n",
    "# draw_graph(G_att)\n",
    "# draw_graph(G_def)\n"
   ]
  },
  {
   "cell_type": "code",
   "execution_count": null,
   "metadata": {
    "ExecuteTime": {
     "end_time": "2020-07-30T20:08:15.524431Z",
     "start_time": "2020-07-30T20:08:09.788Z"
    }
   },
   "outputs": [],
   "source": [
    "a = [14.66666667, -6.66666667, -0,         -0,          0,        -0, 0,         -0        ]\n",
    "print(a)\n",
    "all(i <= 0 for i in a)"
   ]
  },
  {
   "cell_type": "code",
   "execution_count": null,
   "metadata": {},
   "outputs": [],
   "source": []
  },
  {
   "cell_type": "code",
   "execution_count": null,
   "metadata": {},
   "outputs": [],
   "source": []
  },
  {
   "cell_type": "code",
   "execution_count": null,
   "metadata": {
    "ExecuteTime": {
     "end_time": "2020-07-23T22:28:57.946223Z",
     "start_time": "2020-07-23T22:28:57.943239Z"
    }
   },
   "outputs": [],
   "source": []
  },
  {
   "cell_type": "code",
   "execution_count": null,
   "metadata": {},
   "outputs": [],
   "source": []
  }
 ],
 "metadata": {
  "kernelspec": {
   "display_name": "Python 3",
   "language": "python",
   "name": "python3"
  },
  "language_info": {
   "codemirror_mode": {
    "name": "ipython",
    "version": 3
   },
   "file_extension": ".py",
   "mimetype": "text/x-python",
   "name": "python",
   "nbconvert_exporter": "python",
   "pygments_lexer": "ipython3",
   "version": "3.7.9"
  }
 },
 "nbformat": 4,
 "nbformat_minor": 4
}
