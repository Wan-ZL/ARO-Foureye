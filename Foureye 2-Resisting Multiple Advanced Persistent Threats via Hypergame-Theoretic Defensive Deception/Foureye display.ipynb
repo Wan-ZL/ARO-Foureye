{
 "cells": [
  {
   "cell_type": "code",
   "execution_count": 1,
   "metadata": {
    "ExecuteTime": {
     "end_time": "2021-01-20T06:39:25.620041Z",
     "start_time": "2021-01-20T06:39:24.996825Z"
    },
    "init_cell": true
   },
   "outputs": [],
   "source": [
    "import pickle\n",
    "import matplotlib.pyplot as plt\n",
    "import numpy as np"
   ]
  },
  {
   "cell_type": "code",
   "execution_count": 2,
   "metadata": {
    "ExecuteTime": {
     "end_time": "2021-01-20T06:39:25.748637Z",
     "start_time": "2021-01-20T06:39:25.622421Z"
    },
    "init_cell": true
   },
   "outputs": [
    {
     "ename": "FileNotFoundError",
     "evalue": "[Errno 2] No such file or directory: 'data/DD-PI/R3/defender_uncertainty.pkl'",
     "output_type": "error",
     "traceback": [
      "\u001b[0;31m---------------------------------------------------------------------------\u001b[0m",
      "\u001b[0;31mFileNotFoundError\u001b[0m                         Traceback (most recent call last)",
      "\u001b[0;32m<ipython-input-2-baf5c7dd6cd1>\u001b[0m in \u001b[0;36m<module>\u001b[0;34m\u001b[0m\n\u001b[1;32m     12\u001b[0m \u001b[0;34m\u001b[0m\u001b[0m\n\u001b[1;32m     13\u001b[0m \u001b[0mcurrent_scheme\u001b[0m \u001b[0;34m=\u001b[0m \u001b[0;34m\"DD-PI\"\u001b[0m\u001b[0;34m\u001b[0m\u001b[0;34m\u001b[0m\u001b[0m\n\u001b[0;32m---> 14\u001b[0;31m \u001b[0mthe_file\u001b[0m \u001b[0;34m=\u001b[0m \u001b[0mopen\u001b[0m\u001b[0;34m(\u001b[0m\u001b[0;34m\"data/\"\u001b[0m\u001b[0;34m+\u001b[0m\u001b[0mcurrent_scheme\u001b[0m\u001b[0;34m+\u001b[0m\u001b[0;34m\"/R3/defender_uncertainty.pkl\"\u001b[0m\u001b[0;34m,\u001b[0m \u001b[0;34m\"rb\"\u001b[0m\u001b[0;34m)\u001b[0m\u001b[0;34m\u001b[0m\u001b[0;34m\u001b[0m\u001b[0m\n\u001b[0m\u001b[1;32m     15\u001b[0m \u001b[0mdef_uncertainty_history\u001b[0m \u001b[0;34m=\u001b[0m \u001b[0mpickle\u001b[0m\u001b[0;34m.\u001b[0m\u001b[0mload\u001b[0m\u001b[0;34m(\u001b[0m\u001b[0mthe_file\u001b[0m\u001b[0;34m)\u001b[0m\u001b[0;34m\u001b[0m\u001b[0;34m\u001b[0m\u001b[0m\n\u001b[1;32m     16\u001b[0m \u001b[0mthe_file\u001b[0m\u001b[0;34m.\u001b[0m\u001b[0mclose\u001b[0m\u001b[0;34m(\u001b[0m\u001b[0;34m)\u001b[0m\u001b[0;34m\u001b[0m\u001b[0;34m\u001b[0m\u001b[0m\n",
      "\u001b[0;31mFileNotFoundError\u001b[0m: [Errno 2] No such file or directory: 'data/DD-PI/R3/defender_uncertainty.pkl'"
     ]
    }
   ],
   "source": [
    "# read data\n",
    "all_linestyle = ['-', '--', '-.', ':','-', '--', '-.',':']\n",
    "font_size = 25\n",
    "figure_high = 4\n",
    "figure_width = 7.5\n",
    "figure_linewidth = 3\n",
    "figure_dpi = 200\n",
    "legend_size = 17\n",
    "axis_size = 20\n",
    "marker_size = 10\n",
    "marker_list = [\"p\", \"d\", \"v\", \"x\", \"s\", \"*\", \"1\", \".\"]\n",
    "\n",
    "current_scheme = \"DD-IPI\"\n",
    "the_file = open(\"data/\"+current_scheme+\"/R3/defender_uncertainty.pkl\", \"rb\")\n",
    "def_uncertainty_history = pickle.load(the_file)\n",
    "the_file.close()\n",
    "\n",
    "the_file = open(\"data/\"+current_scheme+\"/R3/attacker_uncertainty.pkl\", \"rb\")\n",
    "att_uncertainty_history = pickle.load(the_file)\n",
    "the_file.close()\n",
    "\n",
    "the_file = open(\"data/\"+current_scheme+\"/Time_to_SF.pkl\", \"rb\")\n",
    "Time_to_SF = pickle.load(the_file)\n",
    "the_file.close()\n",
    "\n"
   ]
  },
  {
   "cell_type": "code",
   "execution_count": 3,
   "metadata": {
    "ExecuteTime": {
     "end_time": "2021-01-20T07:39:19.130372Z",
     "start_time": "2021-01-20T07:39:19.124989Z"
    }
   },
   "outputs": [
    {
     "name": "stdout",
     "output_type": "stream",
     "text": [
      "{0: 99, 1: 130, 2: 95, 3: 139, 4: 141, 5: 126}\n"
     ]
    }
   ],
   "source": [
    "current_scheme = \"DD-IPI\"\n",
    "the_file = open(\"data/\"+current_scheme+\"/R0/Time_to_SF.pkl\", \"rb\")\n",
    "TTSF = pickle.load(the_file)\n",
    "print(TTSF.types)"
   ]
  },
  {
   "cell_type": "code",
   "execution_count": null,
   "metadata": {
    "ExecuteTime": {
     "end_time": "2021-01-19T07:58:51.080606Z",
     "start_time": "2021-01-19T07:58:51.065Z"
    }
   },
   "outputs": [],
   "source": [
    "# import pylab\n",
    "\n",
    "# schemes = [\"DD-IPI\", \"DD-PI\", \"No-DD-IPI\", \"No-DD-PI\"]\n",
    "# fig = pylab.figure()\n",
    "# figlegend = pylab.figure(figsize=(3, 2))\n",
    "# ax = fig.add_subplot(111)\n",
    "# for index in range(4):\n",
    "#     lines = ax.plot(range(10), pylab.randn(10))\n",
    "#     figlegend.legend(lines, [schemes[index]], 'center')\n",
    "# # lines = ax.plot(range(10), pylab.randn(10), range(10), pylab.randn(10),\n",
    "# #                 range(10), pylab.randn(10), range(10), pylab.randn(10))\n",
    "\n",
    "# fig.show()\n",
    "# figlegend.show()\n",
    "# figlegend.savefig('legend.png')"
   ]
  },
  {
   "cell_type": "code",
   "execution_count": 10,
   "metadata": {
    "ExecuteTime": {
     "end_time": "2021-01-19T08:00:59.963339Z",
     "start_time": "2021-01-19T08:00:59.946048Z"
    },
    "scrolled": true
   },
   "outputs": [
    {
     "ename": "ValueError",
     "evalue": "non-broadcastable output operand with shape (1,) doesn't match the broadcast shape (2,)",
     "output_type": "error",
     "traceback": [
      "\u001b[0;31m---------------------------------------------------------------------------\u001b[0m",
      "\u001b[0;31mValueError\u001b[0m                                Traceback (most recent call last)",
      "\u001b[0;32m<ipython-input-10-946f07e2eac5>\u001b[0m in \u001b[0;36m<module>\u001b[0;34m\u001b[0m\n\u001b[1;32m     19\u001b[0m         \u001b[0;32mfor\u001b[0m \u001b[0mkey\u001b[0m \u001b[0;32min\u001b[0m \u001b[0matt_HEU_history\u001b[0m\u001b[0;34m.\u001b[0m\u001b[0mkeys\u001b[0m\u001b[0;34m(\u001b[0m\u001b[0;34m)\u001b[0m\u001b[0;34m:\u001b[0m\u001b[0;34m\u001b[0m\u001b[0;34m\u001b[0m\u001b[0m\n\u001b[1;32m     20\u001b[0m             \u001b[0;32mif\u001b[0m \u001b[0mlen\u001b[0m\u001b[0;34m(\u001b[0m\u001b[0matt_HEU_history\u001b[0m\u001b[0;34m[\u001b[0m\u001b[0mkey\u001b[0m\u001b[0;34m]\u001b[0m\u001b[0;34m)\u001b[0m \u001b[0;34m>\u001b[0m \u001b[0;36m0\u001b[0m\u001b[0;34m:\u001b[0m\u001b[0;34m\u001b[0m\u001b[0;34m\u001b[0m\u001b[0m\n\u001b[0;32m---> 21\u001b[0;31m                 \u001b[0msum_on_index\u001b[0m \u001b[0;34m+=\u001b[0m \u001b[0matt_HEU_history\u001b[0m\u001b[0;34m[\u001b[0m\u001b[0mkey\u001b[0m\u001b[0;34m]\u001b[0m\u001b[0;34m[\u001b[0m\u001b[0;36m0\u001b[0m\u001b[0;34m]\u001b[0m\u001b[0;34m\u001b[0m\u001b[0;34m\u001b[0m\u001b[0m\n\u001b[0m\u001b[1;32m     22\u001b[0m                 \u001b[0matt_HEU_history\u001b[0m\u001b[0;34m[\u001b[0m\u001b[0mkey\u001b[0m\u001b[0;34m]\u001b[0m\u001b[0;34m.\u001b[0m\u001b[0mpop\u001b[0m\u001b[0;34m(\u001b[0m\u001b[0;36m0\u001b[0m\u001b[0;34m)\u001b[0m\u001b[0;34m\u001b[0m\u001b[0;34m\u001b[0m\u001b[0m\n\u001b[1;32m     23\u001b[0m                 \u001b[0mnumber_on_index\u001b[0m \u001b[0;34m+=\u001b[0m \u001b[0;36m1\u001b[0m\u001b[0;34m\u001b[0m\u001b[0;34m\u001b[0m\u001b[0m\n",
      "\u001b[0;31mValueError\u001b[0m: non-broadcastable output operand with shape (1,) doesn't match the broadcast shape (2,)"
     ]
    },
    {
     "data": {
      "text/plain": [
       "<Figure size 540x342 with 0 Axes>"
      ]
     },
     "metadata": {},
     "output_type": "display_data"
    }
   ],
   "source": [
    "# Attacker's HEU\n",
    "schemes = [\"DD-IPI\", \"DD-PI\", \"No-DD-IPI\", \"No-DD-PI\"]\n",
    "\n",
    "plt.figure(figsize=(figure_width, figure_high+0.75))\n",
    "for schemes_index in range(len(schemes)):\n",
    "    the_file = open(\"data/\" + schemes[schemes_index] + \"/R1/att_HEU.pkl\", \"rb\")\n",
    "    att_HEU_history = pickle.load(the_file)\n",
    "    the_file.close()\n",
    "\n",
    "    max_length = 0\n",
    "    for key in att_HEU_history.keys():\n",
    "        if max_length < len(att_HEU_history[key]):\n",
    "            max_length = len(att_HEU_history[key])\n",
    "\n",
    "    average_att_HEU = []\n",
    "    for index in range(max_length):\n",
    "        sum_on_index = 0\n",
    "        number_on_index = 0\n",
    "        for key in att_HEU_history.keys():\n",
    "            if len(att_HEU_history[key]) > 0:\n",
    "                sum_on_index += att_HEU_history[key][0]\n",
    "                att_HEU_history[key].pop(0)\n",
    "                number_on_index += 1\n",
    "        average_att_HEU.append(sum_on_index / number_on_index)\n",
    "\n",
    "    x_values = range(len(average_att_HEU))\n",
    "    y_values = average_att_HEU\n",
    "    plt.plot(x_values[1:],\n",
    "             y_values[1:],\n",
    "             linestyle=all_linestyle[schemes_index],\n",
    "             label=schemes[schemes_index])\n",
    "plt.legend(prop={\"size\":legend_size},\n",
    "           ncol=4,\n",
    "           bbox_to_anchor=(-0.13, 1, 1.15, 0),\n",
    "           loc='lower left',\n",
    "           mode=\"expand\")\n",
    "plt.xlabel(\"number of games\", fontsize=font_size)\n",
    "plt.ylabel(\"Attacker HEU\", fontsize=font_size)\n",
    "plt.xticks(fontsize=axis_size)\n",
    "plt.yticks(fontsize=axis_size)\n",
    "plt.tight_layout()\n",
    "plt.savefig(\"Figure/att-HEU-NG.eps\", dpi=figure_dpi)\n"
   ]
  },
  {
   "cell_type": "code",
   "execution_count": null,
   "metadata": {
    "ExecuteTime": {
     "end_time": "2021-01-19T07:58:51.083866Z",
     "start_time": "2021-01-19T07:58:51.069Z"
    }
   },
   "outputs": [],
   "source": [
    "# Defender's HEU\n",
    "schemes = [\"DD-IPI\", \"DD-PI\", \"No-DD-IPI\", \"No-DD-PI\"]\n",
    "\n",
    "plt.figure(figsize=(figure_width, figure_high+0.75))\n",
    "for schemes_index in range(len(schemes)):\n",
    "    the_file = open(\"data/\"+schemes[schemes_index]+\"/R1/def_HEU.pkl\", \"rb\")\n",
    "    def_HEU_history = pickle.load(the_file)\n",
    "    the_file.close()\n",
    "\n",
    "    max_length = 0\n",
    "    for key in def_HEU_history.keys():\n",
    "        if max_length < len(def_HEU_history[key]):\n",
    "            max_length = len(def_HEU_history[key])\n",
    "\n",
    "    average_def_HEU = []\n",
    "    for index in range(max_length):\n",
    "        sum_on_index = 0\n",
    "        number_on_index = 0\n",
    "        for key in def_HEU_history.keys():\n",
    "            if len(def_HEU_history[key]) > 0:\n",
    "                sum_on_index += def_HEU_history[key][0]\n",
    "                def_HEU_history[key].pop(0)\n",
    "                number_on_index += 1\n",
    "        average_def_HEU.append(sum_on_index/number_on_index)\n",
    "\n",
    "\n",
    "\n",
    "    x_values = range(len(average_def_HEU))\n",
    "    y_values = average_def_HEU\n",
    "    plt.plot(x_values[1:], y_values[1:], linestyle=all_linestyle[schemes_index] , label=schemes[schemes_index])\n",
    "plt.legend(prop={\"size\":legend_size},\n",
    "           ncol=4,\n",
    "           bbox_to_anchor=(-0.13, 1, 1.15, 0),\n",
    "           loc='lower left',\n",
    "           mode=\"expand\")\n",
    "plt.xlabel(\"number of games\", fontsize=font_size)\n",
    "plt.ylabel(\"Defender HEU\", fontsize=font_size)\n",
    "plt.xticks(fontsize=axis_size)\n",
    "plt.yticks(fontsize=axis_size)\n",
    "plt.tight_layout()\n",
    "plt.savefig(\"Figure/def-HEU-NG.eps\", dpi = figure_dpi)\n"
   ]
  },
  {
   "cell_type": "code",
   "execution_count": null,
   "metadata": {
    "ExecuteTime": {
     "end_time": "2021-01-19T07:58:51.085737Z",
     "start_time": "2021-01-19T07:58:51.072Z"
    }
   },
   "outputs": [],
   "source": [
    "# Attacker Cost\n",
    "schemes = [\"DD-IPI\", \"DD-PI\", \"No-DD-IPI\", \"No-DD-PI\"]\n",
    "\n",
    "plt.figure(figsize=(figure_width, figure_high+0.75))\n",
    "for schemes_index in range(len(schemes)):\n",
    "    the_file = open(\"data/\"+schemes[schemes_index]+\"/R6/att_cost.pkl\", \"rb\")\n",
    "    att_cost_all_result = pickle.load(the_file)\n",
    "    the_file.close()\n",
    "\n",
    "\n",
    "    max_length = 0\n",
    "    for key in att_cost_all_result.keys():\n",
    "        if max_length < len(att_cost_all_result[key]):\n",
    "            max_length = len(att_cost_all_result[key])\n",
    "\n",
    "    average_att_cost = []\n",
    "    for index in range(max_length):\n",
    "        sum_on_index = 0\n",
    "        number_on_index = 0\n",
    "        for key in att_cost_all_result.keys():\n",
    "            if len(att_cost_all_result[key]) > 0:\n",
    "                sum_on_index += att_cost_all_result[key][0]\n",
    "                att_cost_all_result[key].pop(0)\n",
    "                number_on_index += 1\n",
    "        average_att_cost.append(sum_on_index/number_on_index)\n",
    "\n",
    "\n",
    "\n",
    "    x_values = range(len(average_att_cost))\n",
    "    y_values = average_att_cost\n",
    "\n",
    "    plt.plot(x_values[1:], y_values[1:], linestyle=all_linestyle[schemes_index] , label=schemes[schemes_index])   \n",
    "plt.legend(prop={\"size\":legend_size},\n",
    "           ncol=4,\n",
    "           bbox_to_anchor=(-0.18, 1, 1.2, 0),\n",
    "           loc='lower left',\n",
    "           mode=\"expand\")\n",
    "plt.xlabel(\"number of games\", fontsize=font_size)\n",
    "plt.ylabel(\"Attacker cost\", fontsize=font_size)\n",
    "plt.xticks(fontsize=axis_size)\n",
    "plt.yticks(fontsize=axis_size)\n",
    "plt.tight_layout()\n",
    "plt.savefig(\"Figure/att-cost-NG.eps\", dpi = figure_dpi)\n"
   ]
  },
  {
   "cell_type": "code",
   "execution_count": null,
   "metadata": {
    "ExecuteTime": {
     "end_time": "2021-01-19T07:58:51.087234Z",
     "start_time": "2021-01-19T07:58:51.074Z"
    }
   },
   "outputs": [],
   "source": [
    "# Defender Cost\n",
    "schemes = [\"DD-IPI\", \"DD-PI\", \"No-DD-IPI\", \"No-DD-PI\"]\n",
    "\n",
    "plt.figure(figsize=(figure_width, figure_high+0.75))\n",
    "for schemes_index in range(len(schemes)):\n",
    "    the_file = open(\"data/\"+schemes[schemes_index]+\"/R6/def_cost.pkl\", \"rb\")\n",
    "    def_cost_all_result = pickle.load(the_file)\n",
    "    the_file.close()\n",
    "\n",
    "\n",
    "    max_length = 0\n",
    "    for key in def_cost_all_result.keys():\n",
    "        if max_length < len(def_cost_all_result[key]):\n",
    "            max_length = len(def_cost_all_result[key])\n",
    "\n",
    "    average_def_cost = []\n",
    "    for index in range(max_length):\n",
    "        sum_on_index = 0\n",
    "        number_on_index = 0\n",
    "        for key in def_cost_all_result.keys():\n",
    "            if len(def_cost_all_result[key]) > 0:\n",
    "                sum_on_index += def_cost_all_result[key][0]\n",
    "                def_cost_all_result[key].pop(0)\n",
    "                number_on_index += 1\n",
    "        average_def_cost.append(sum_on_index/number_on_index)\n",
    "\n",
    "\n",
    "\n",
    "    x_values = range(len(average_def_cost))\n",
    "    y_values = average_def_cost\n",
    "\n",
    "    plt.plot(x_values[1:], y_values[1:], linestyle=all_linestyle[schemes_index] , label=schemes[schemes_index])\n",
    "plt.legend(prop={\"size\":legend_size},\n",
    "           ncol=4,\n",
    "           bbox_to_anchor=(-0.18, 1, 1.2, 0),\n",
    "           loc='lower left',\n",
    "           mode=\"expand\")\n",
    "plt.xlabel(\"number of games\", fontsize=font_size)\n",
    "plt.ylabel(\"defender cost\", fontsize=font_size)\n",
    "plt.xticks(fontsize=axis_size)\n",
    "plt.yticks(fontsize=axis_size)\n",
    "plt.tight_layout()\n",
    "plt.savefig(\"Figure/def-cost-NG.eps\", dpi = figure_dpi)\n"
   ]
  },
  {
   "cell_type": "code",
   "execution_count": 7,
   "metadata": {
    "ExecuteTime": {
     "end_time": "2021-01-19T07:58:51.213304Z",
     "start_time": "2021-01-19T07:58:51.191787Z"
    }
   },
   "outputs": [
    {
     "ename": "IndexError",
     "evalue": "index 8 is out of bounds for axis 0 with size 8",
     "output_type": "error",
     "traceback": [
      "\u001b[0;31m---------------------------------------------------------------------------\u001b[0m",
      "\u001b[0;31mIndexError\u001b[0m                                Traceback (most recent call last)",
      "\u001b[0;32m<ipython-input-7-9146de909d66>\u001b[0m in \u001b[0;36m<module>\u001b[0;34m\u001b[0m\n\u001b[1;32m     18\u001b[0m     \u001b[0;32mfor\u001b[0m \u001b[0mkey\u001b[0m \u001b[0;32min\u001b[0m \u001b[0matt_strat_count\u001b[0m\u001b[0;34m.\u001b[0m\u001b[0mkeys\u001b[0m\u001b[0;34m(\u001b[0m\u001b[0;34m)\u001b[0m\u001b[0;34m:\u001b[0m\u001b[0;34m\u001b[0m\u001b[0;34m\u001b[0m\u001b[0m\n\u001b[1;32m     19\u001b[0m         \u001b[0;32mif\u001b[0m \u001b[0mlen\u001b[0m\u001b[0;34m(\u001b[0m\u001b[0matt_strat_count\u001b[0m\u001b[0;34m[\u001b[0m\u001b[0mkey\u001b[0m\u001b[0;34m]\u001b[0m\u001b[0;34m)\u001b[0m \u001b[0;34m>\u001b[0m \u001b[0;36m0\u001b[0m\u001b[0;34m:\u001b[0m\u001b[0;34m\u001b[0m\u001b[0;34m\u001b[0m\u001b[0m\n\u001b[0;32m---> 20\u001b[0;31m             \u001b[0matt_strat\u001b[0m\u001b[0;34m[\u001b[0m\u001b[0matt_strat_count\u001b[0m\u001b[0;34m[\u001b[0m\u001b[0mkey\u001b[0m\u001b[0;34m]\u001b[0m\u001b[0;34m[\u001b[0m\u001b[0;36m0\u001b[0m\u001b[0;34m]\u001b[0m\u001b[0;34m]\u001b[0m \u001b[0;34m+=\u001b[0m \u001b[0;36m1\u001b[0m\u001b[0;34m\u001b[0m\u001b[0;34m\u001b[0m\u001b[0m\n\u001b[0m\u001b[1;32m     21\u001b[0m             \u001b[0matt_strat_count\u001b[0m\u001b[0;34m[\u001b[0m\u001b[0mkey\u001b[0m\u001b[0;34m]\u001b[0m\u001b[0;34m.\u001b[0m\u001b[0mpop\u001b[0m\u001b[0;34m(\u001b[0m\u001b[0;36m0\u001b[0m\u001b[0;34m)\u001b[0m\u001b[0;34m\u001b[0m\u001b[0;34m\u001b[0m\u001b[0m\n\u001b[1;32m     22\u001b[0m             \u001b[0mnumber_on_index\u001b[0m \u001b[0;34m+=\u001b[0m \u001b[0;36m1\u001b[0m\u001b[0;34m\u001b[0m\u001b[0;34m\u001b[0m\u001b[0m\n",
      "\u001b[0;31mIndexError\u001b[0m: index 8 is out of bounds for axis 0 with size 8"
     ]
    },
    {
     "data": {
      "text/plain": [
       "<Figure size 540x360 with 0 Axes>"
      ]
     },
     "metadata": {},
     "output_type": "display_data"
    }
   ],
   "source": [
    "# Attacker Strategy DD-IPI\n",
    "\n",
    "the_file = open(\"data/DD-IPI/R2/att_strategy_counter.pkl\", \"rb\")\n",
    "att_strat_count = pickle.load(the_file)\n",
    "the_file.close()\n",
    "\n",
    "plt.figure(figsize=(figure_width, figure_high+1))\n",
    "max_length = 0\n",
    "for key in att_strat_count.keys():\n",
    "    if max_length < len(att_strat_count[key]):\n",
    "        max_length = len(att_strat_count[key])\n",
    "\n",
    "average_att_strat = []\n",
    "for index in range(max_length):\n",
    "    sum_on_index = 0\n",
    "    number_on_index = 0\n",
    "    att_strat = np.zeros(8)\n",
    "    for key in att_strat_count.keys():\n",
    "        if len(att_strat_count[key]) > 0:\n",
    "            att_strat[att_strat_count[key][0]] += 1\n",
    "            att_strat_count[key].pop(0)\n",
    "            number_on_index += 1\n",
    "    average_att_strat.append((att_strat / number_on_index).tolist())\n",
    "average_att_strat = np.array(average_att_strat)\n",
    "\n",
    "for index in range(8):\n",
    "    plt.plot(range(max_length),\n",
    "             average_att_strat[:, index],\n",
    "             linestyle=all_linestyle[index],\n",
    "             label=f\"Stra {index+1}\")\n",
    "\n",
    "plt.legend(prop={\"size\": legend_size},\n",
    "           ncol=4,\n",
    "           bbox_to_anchor=(0, 1, 1, 0),\n",
    "           loc='lower left',\n",
    "           mode=\"expand\")\n",
    "plt.xlabel(\"number of games\", fontsize=font_size)\n",
    "plt.ylabel(\"$P_S^A$\", fontsize=font_size)\n",
    "plt.tight_layout()\n",
    "plt.xticks(fontsize=axis_size)\n",
    "plt.yticks(fontsize=axis_size)\n",
    "plt.savefig(\"Figure/DD-IPI-att-Strat.eps\", dpi=figure_dpi)"
   ]
  },
  {
   "cell_type": "code",
   "execution_count": null,
   "metadata": {
    "ExecuteTime": {
     "end_time": "2021-01-19T07:58:51.216046Z",
     "start_time": "2021-01-19T07:58:51.080Z"
    }
   },
   "outputs": [],
   "source": [
    "# Defender Strategy DD-IPI\n",
    "\n",
    "the_file = open(\"data/DD-IPI/R2/def_strategy_counter.pkl\", \"rb\")\n",
    "def_strat_count = pickle.load(the_file)\n",
    "the_file.close()\n",
    "\n",
    "plt.figure(figsize=(figure_width, figure_high + 1))\n",
    "max_length = 0\n",
    "for key in def_strat_count.keys():\n",
    "    if max_length < len(def_strat_count[key]):\n",
    "        max_length = len(def_strat_count[key])\n",
    "\n",
    "average_def_strat = []\n",
    "for index in range(max_length):\n",
    "    sum_on_index = 0\n",
    "    number_on_index = 0\n",
    "    def_strat = np.zeros(8)\n",
    "    for key in def_strat_count.keys():\n",
    "        if len(def_strat_count[key]) > 0:\n",
    "            def_strat[def_strat_count[key][0]] += 1\n",
    "            def_strat_count[key].pop(0)\n",
    "            number_on_index += 1\n",
    "    average_def_strat.append((def_strat / number_on_index).tolist())\n",
    "average_def_strat = np.array(average_def_strat)\n",
    "\n",
    "all_linestyle = ['-', '--', '-.', ':', '-', '--', '-.', ':']\n",
    "for index in range(8):\n",
    "    plt.plot(range(max_length),\n",
    "             average_def_strat[:, index],\n",
    "             linestyle=all_linestyle[index],\n",
    "             label=f\"Stra {index+1}\")\n",
    "\n",
    "plt.legend(prop={\"size\": legend_size},\n",
    "           ncol=4,\n",
    "           bbox_to_anchor=(0, 1, 1, 0),\n",
    "           loc='lower left',\n",
    "           mode=\"expand\")\n",
    "\n",
    "plt.xlabel(\"number of games\", fontsize=font_size)\n",
    "plt.ylabel(\"$P_S^D$\", fontsize=font_size)\n",
    "plt.tight_layout()\n",
    "plt.xticks(fontsize=axis_size)\n",
    "plt.yticks(fontsize=axis_size)\n",
    "plt.savefig(\"Figure/DD-IPI-def-Strat.eps\", dpi=figure_dpi)"
   ]
  },
  {
   "cell_type": "code",
   "execution_count": null,
   "metadata": {
    "ExecuteTime": {
     "end_time": "2021-01-19T07:58:51.218058Z",
     "start_time": "2021-01-19T07:58:51.081Z"
    }
   },
   "outputs": [],
   "source": [
    "# Attacker Strategy DD-PI\n",
    "\n",
    "the_file = open(\"data/DD-PI/R2/att_strategy_counter.pkl\", \"rb\")\n",
    "att_strat_count = pickle.load(the_file)\n",
    "the_file.close()\n",
    "\n",
    "plt.figure(figsize=(figure_width, figure_high+1))\n",
    "max_length = 0\n",
    "for key in att_strat_count.keys():\n",
    "    if max_length < len(att_strat_count[key]):\n",
    "        max_length = len(att_strat_count[key])\n",
    "\n",
    "average_att_strat = []\n",
    "for index in range(max_length):\n",
    "    sum_on_index = 0\n",
    "    number_on_index = 0\n",
    "    att_strat = np.zeros(8)\n",
    "    for key in att_strat_count.keys():\n",
    "        if len(att_strat_count[key]) > 0:\n",
    "            att_strat[att_strat_count[key][0]] += 1\n",
    "            att_strat_count[key].pop(0)\n",
    "            number_on_index += 1\n",
    "    average_att_strat.append((att_strat/number_on_index).tolist())\n",
    "average_att_strat = np.array(average_att_strat)\n",
    "\n",
    "\n",
    "for index in range(8):\n",
    "    plt.plot(range(max_length), average_att_strat[:,index], linestyle=all_linestyle[index] , label=f\"Stra {index+1}\")\n",
    "\n",
    "plt.legend(prop={\"size\":legend_size},\n",
    "           ncol=4,\n",
    "           bbox_to_anchor=(0, 1, 1, 0),\n",
    "           loc='lower left',\n",
    "           mode=\"expand\")\n",
    "\n",
    "plt.xlabel(\"number of games\", fontsize=font_size)\n",
    "plt.ylabel(\"$P_S^A$\", fontsize=font_size)\n",
    "plt.xticks(fontsize=axis_size)\n",
    "plt.yticks(fontsize=axis_size)\n",
    "plt.tight_layout()\n",
    "plt.savefig(\"Figure/DD-PI-att-Strat.eps\", dpi = figure_dpi)\n"
   ]
  },
  {
   "cell_type": "code",
   "execution_count": null,
   "metadata": {
    "ExecuteTime": {
     "end_time": "2021-01-19T07:58:51.220704Z",
     "start_time": "2021-01-19T07:58:51.083Z"
    }
   },
   "outputs": [],
   "source": [
    "# Defender Strategy DD-PI\n",
    "\n",
    "the_file = open(\"data/DD-PI/R2/def_strategy_counter.pkl\", \"rb\")\n",
    "def_strat_count = pickle.load(the_file)\n",
    "the_file.close()\n",
    "\n",
    "plt.figure(figsize=(figure_width, figure_high+1))\n",
    "max_length = 0\n",
    "for key in def_strat_count.keys():\n",
    "    if max_length < len(def_strat_count[key]):\n",
    "        max_length = len(def_strat_count[key])\n",
    "\n",
    "average_def_strat = []\n",
    "for index in range(max_length):\n",
    "    sum_on_index = 0\n",
    "    number_on_index = 0\n",
    "    def_strat = np.zeros(8)\n",
    "    for key in def_strat_count.keys():\n",
    "        if len(def_strat_count[key]) > 0:\n",
    "            def_strat[def_strat_count[key][0]] += 1\n",
    "            def_strat_count[key].pop(0)\n",
    "            number_on_index += 1\n",
    "    average_def_strat.append((def_strat/number_on_index).tolist())\n",
    "average_def_strat = np.array(average_def_strat)\n",
    "\n",
    "all_linestyle = ['-', '--', '-.', ':','-', '--', '-.',':']\n",
    "for index in range(8):\n",
    "    plt.plot(range(max_length), average_def_strat[:,index], linestyle=all_linestyle[index] , label=f\"Stra {index+1}\")\n",
    "\n",
    "plt.legend(prop={\"size\":legend_size},\n",
    "           ncol=4,\n",
    "           bbox_to_anchor=(0, 1, 1, 0),\n",
    "           loc='lower left',\n",
    "           mode=\"expand\")\n",
    "\n",
    "plt.xlabel(\"number of games\", fontsize=font_size)\n",
    "plt.ylabel(\"$P_S^D$\", fontsize=font_size)\n",
    "plt.xticks(fontsize=axis_size)\n",
    "plt.yticks(fontsize=axis_size)\n",
    "plt.tight_layout()\n",
    "plt.savefig(\"Figure/DD-PI-def-Strat.eps\", dpi = figure_dpi)\n"
   ]
  },
  {
   "cell_type": "code",
   "execution_count": null,
   "metadata": {
    "ExecuteTime": {
     "end_time": "2021-01-19T07:58:51.222296Z",
     "start_time": "2021-01-19T07:58:51.087Z"
    }
   },
   "outputs": [],
   "source": [
    "# Attacker Strategy No-DD-IPI\n",
    "\n",
    "the_file = open(\"data/No-DD-IPI/R2/att_strategy_counter.pkl\", \"rb\")\n",
    "att_strat_count = pickle.load(the_file)\n",
    "the_file.close()\n",
    "\n",
    "plt.figure(figsize=(figure_width, figure_high+1))\n",
    "max_length = 0\n",
    "for key in att_strat_count.keys():\n",
    "    if max_length < len(att_strat_count[key]):\n",
    "        max_length = len(att_strat_count[key])\n",
    "\n",
    "average_att_strat = []\n",
    "for index in range(max_length):\n",
    "    sum_on_index = 0\n",
    "    number_on_index = 0\n",
    "    att_strat = np.zeros(8)\n",
    "    for key in att_strat_count.keys():\n",
    "        if len(att_strat_count[key]) > 0:\n",
    "            att_strat[att_strat_count[key][0]] += 1\n",
    "            att_strat_count[key].pop(0)\n",
    "            number_on_index += 1\n",
    "    average_att_strat.append((att_strat/number_on_index).tolist())\n",
    "average_att_strat = np.array(average_att_strat)\n",
    "\n",
    "\n",
    "for index in range(8):\n",
    "    plt.plot(range(max_length), average_att_strat[:,index], linestyle=all_linestyle[index] , label=f\"Stra {index+1}\")\n",
    "\n",
    "plt.legend(prop={\"size\":legend_size},\n",
    "           ncol=4,\n",
    "           bbox_to_anchor=(0, 1, 1, 0),\n",
    "           loc='lower left',\n",
    "           mode=\"expand\")\n",
    "plt.xlabel(\"number of games\", fontsize=font_size)\n",
    "plt.ylabel(\"$P_S^A$\", fontsize=font_size)\n",
    "plt.xticks(fontsize=axis_size)\n",
    "plt.yticks(fontsize=axis_size)\n",
    "plt.tight_layout()\n",
    "plt.savefig(\"Figure/No-DD-IPI-att-Strat.eps\", dpi = figure_dpi)\n"
   ]
  },
  {
   "cell_type": "code",
   "execution_count": null,
   "metadata": {
    "ExecuteTime": {
     "end_time": "2021-01-19T07:58:51.223956Z",
     "start_time": "2021-01-19T07:58:51.090Z"
    }
   },
   "outputs": [],
   "source": [
    "# Defender Strategy No-DD-IPI\n",
    "\n",
    "the_file = open(\"data/No-DD-IPI/R2/def_strategy_counter.pkl\", \"rb\")\n",
    "def_strat_count = pickle.load(the_file)\n",
    "the_file.close()\n",
    "\n",
    "plt.figure(figsize=(figure_width, figure_high+1))\n",
    "max_length = 0\n",
    "for key in def_strat_count.keys():\n",
    "    if max_length < len(def_strat_count[key]):\n",
    "        max_length = len(def_strat_count[key])\n",
    "\n",
    "average_def_strat = []\n",
    "for index in range(max_length):\n",
    "    sum_on_index = 0\n",
    "    number_on_index = 0\n",
    "    def_strat = np.zeros(8)\n",
    "    for key in def_strat_count.keys():\n",
    "        if len(def_strat_count[key]) > 0:\n",
    "            def_strat[def_strat_count[key][0]] += 1\n",
    "            def_strat_count[key].pop(0)\n",
    "            number_on_index += 1\n",
    "    average_def_strat.append((def_strat/number_on_index).tolist())\n",
    "average_def_strat = np.array(average_def_strat)\n",
    "\n",
    "all_linestyle = ['-', '--', '-.', ':','-', '--', '-.',':']\n",
    "for index in range(8):\n",
    "    plt.plot(range(max_length), average_def_strat[:,index], linestyle=all_linestyle[index] , label=f\"Stra {index+1}\")\n",
    "\n",
    "plt.legend(prop={\"size\":legend_size},\n",
    "           ncol=4,\n",
    "           bbox_to_anchor=(0, 1, 1, 0),\n",
    "           loc='lower left',\n",
    "           mode=\"expand\")\n",
    "plt.xlabel(\"number of games\", fontsize=font_size)\n",
    "plt.ylabel(\"$P_S^D$\", fontsize=font_size)\n",
    "plt.xticks(fontsize=axis_size)\n",
    "plt.yticks(fontsize=axis_size)\n",
    "plt.tight_layout()\n",
    "plt.savefig(\"Figure/No-DD-IPI-def-Strat.eps\", dpi = figure_dpi)\n"
   ]
  },
  {
   "cell_type": "code",
   "execution_count": null,
   "metadata": {
    "ExecuteTime": {
     "end_time": "2021-01-19T07:58:51.225977Z",
     "start_time": "2021-01-19T07:58:51.092Z"
    }
   },
   "outputs": [],
   "source": [
    "# Attacker Strategy No-DD-PI\n",
    "\n",
    "the_file = open(\"data/No-DD-PI/R2/att_strategy_counter.pkl\", \"rb\")\n",
    "att_strat_count = pickle.load(the_file)\n",
    "the_file.close()\n",
    "\n",
    "plt.figure(figsize=(figure_width, figure_high+1))\n",
    "max_length = 0\n",
    "for key in att_strat_count.keys():\n",
    "    if max_length < len(att_strat_count[key]):\n",
    "        max_length = len(att_strat_count[key])\n",
    "\n",
    "average_att_strat = []\n",
    "for index in range(max_length):\n",
    "    sum_on_index = 0\n",
    "    number_on_index = 0\n",
    "    att_strat = np.zeros(8)\n",
    "    for key in att_strat_count.keys():\n",
    "        if len(att_strat_count[key]) > 0:\n",
    "            att_strat[att_strat_count[key][0]] += 1\n",
    "            att_strat_count[key].pop(0)\n",
    "            number_on_index += 1\n",
    "    average_att_strat.append((att_strat/number_on_index).tolist())\n",
    "average_att_strat = np.array(average_att_strat)\n",
    "\n",
    "\n",
    "for index in range(8):\n",
    "    plt.plot(range(max_length), average_att_strat[:,index], linestyle=all_linestyle[index] , label=f\"Stra {index+1}\")\n",
    "\n",
    "plt.legend(prop={\"size\":legend_size},\n",
    "           ncol=4,\n",
    "           bbox_to_anchor=(0, 1, 1, 0),\n",
    "           loc='lower left',\n",
    "           mode=\"expand\")\n",
    "plt.xlabel(\"number of games\", fontsize=font_size)\n",
    "plt.ylabel(\"$P_S^A$\", fontsize=font_size)\n",
    "plt.xticks(fontsize=axis_size)\n",
    "plt.yticks(fontsize=axis_size)\n",
    "plt.tight_layout()\n",
    "plt.savefig(\"Figure/No-DD-PI-att-Strat.eps\", dpi = figure_dpi)\n"
   ]
  },
  {
   "cell_type": "code",
   "execution_count": null,
   "metadata": {
    "ExecuteTime": {
     "end_time": "2021-01-19T07:58:51.227672Z",
     "start_time": "2021-01-19T07:58:51.094Z"
    }
   },
   "outputs": [],
   "source": [
    "# Defender Strategy No-DD-PI\n",
    "\n",
    "the_file = open(\"data/No-DD-PI/R2/def_strategy_counter.pkl\", \"rb\")\n",
    "def_strat_count = pickle.load(the_file)\n",
    "the_file.close()\n",
    "\n",
    "plt.figure(figsize=(figure_width, figure_high+1))\n",
    "max_length = 0\n",
    "for key in def_strat_count.keys():\n",
    "    if max_length < len(def_strat_count[key]):\n",
    "        max_length = len(def_strat_count[key])\n",
    "\n",
    "average_def_strat = []\n",
    "for index in range(max_length):\n",
    "    sum_on_index = 0\n",
    "    number_on_index = 0\n",
    "    def_strat = np.zeros(8)\n",
    "    for key in def_strat_count.keys():\n",
    "        if len(def_strat_count[key]) > 0:\n",
    "            def_strat[def_strat_count[key][0]] += 1\n",
    "            def_strat_count[key].pop(0)\n",
    "            number_on_index += 1\n",
    "    average_def_strat.append((def_strat/number_on_index).tolist())\n",
    "average_def_strat = np.array(average_def_strat)\n",
    "\n",
    "all_linestyle = ['-', '--', '-.', ':','-', '--', '-.',':']\n",
    "for index in range(8):\n",
    "    plt.plot(range(max_length), average_def_strat[:,index], linestyle=all_linestyle[index] , label=f\"Stra {index+1}\")\n",
    "\n",
    "plt.legend(prop={\"size\":legend_size},\n",
    "           ncol=4,\n",
    "           bbox_to_anchor=(0, 1, 1, 0),\n",
    "           loc='lower left',\n",
    "           mode=\"expand\")\n",
    "plt.xlabel(\"number of games\", fontsize=font_size)\n",
    "plt.ylabel(\"$P_S^D$\", fontsize=font_size)\n",
    "plt.xticks(fontsize=axis_size)\n",
    "plt.yticks(fontsize=axis_size)\n",
    "plt.tight_layout()\n",
    "plt.savefig(\"Figure/No-DD-PI-def-Strat.eps\", dpi = figure_dpi)\n"
   ]
  },
  {
   "cell_type": "code",
   "execution_count": null,
   "metadata": {
    "ExecuteTime": {
     "end_time": "2021-01-19T07:58:51.229259Z",
     "start_time": "2021-01-19T07:58:51.095Z"
    }
   },
   "outputs": [],
   "source": [
    "# attacker uncertainty average result\n",
    "schemes = [\"DD-IPI\", \"DD-PI\", \"No-DD-IPI\", \"No-DD-PI\"]\n",
    "\n",
    "plt.figure(figsize=(figure_width, figure_high))\n",
    "for schemes_index in range(len(schemes)):\n",
    "    the_file = open(\"data/\"+schemes[schemes_index]+\"/R3/attacker_uncertainty.pkl\", \"rb\")\n",
    "    att_uncertainty_history = pickle.load(the_file)\n",
    "    the_file.close()\n",
    "\n",
    "    max_length = 0\n",
    "    max_index = 0\n",
    "    for key in att_uncertainty_history.keys():\n",
    "        if max_length < len(att_uncertainty_history[key]):\n",
    "            max_length = len(att_uncertainty_history[key])\n",
    "            max_index = key\n",
    "\n",
    "    # print(att_uncertainty_history[max_index])\n",
    "    # plt.plot(range(len(att_uncertainty_history[max_index])), att_uncertainty_history[max_index])\n",
    "\n",
    "    average_att_uncertainty = []\n",
    "    for index in range(max_length):\n",
    "        sum_on_index = 0\n",
    "        number_on_index = 0\n",
    "        for key in att_uncertainty_history.keys():\n",
    "            if len(att_uncertainty_history[key]) > 0:\n",
    "                sum_on_index += att_uncertainty_history[key][0]\n",
    "                att_uncertainty_history[key].pop(0)\n",
    "                number_on_index += 1\n",
    "        average_att_uncertainty.append(sum_on_index/number_on_index)\n",
    "\n",
    "\n",
    "    x_values = range(len(average_att_uncertainty))\n",
    "    y_values = average_att_uncertainty\n",
    "    plt.plot(x_values, y_values, linestyle=all_linestyle[schemes_index] , label=schemes[schemes_index],\n",
    "             linewidth=figure_linewidth, marker=marker_list[schemes_index], markevery=50, markersize = marker_size)\n",
    "# plt.legend(prop={\"size\":legend_size}, ncol=2, bbox_to_anchor=(0, 1, 1, 0),\n",
    "#               loc='lower left', fontsize='large',mode=\"expand\")\n",
    "# plt.legend(prop={\"size\":legend_size}, bbox_to_anchor=(1.05, 1), loc='upper left', borderaxespad=0.)\n",
    "plt.xlabel(\"number of games\", fontsize=font_size)\n",
    "plt.ylabel(\"Uncertainty\", fontsize=font_size)\n",
    "plt.tight_layout()\n",
    "plt.xticks(fontsize=axis_size)\n",
    "plt.yticks(fontsize=axis_size)\n",
    "plt.savefig(\"Figure/att-uncertain-NG.eps\", dpi = figure_dpi)\n"
   ]
  },
  {
   "cell_type": "code",
   "execution_count": null,
   "metadata": {
    "ExecuteTime": {
     "end_time": "2021-01-19T07:58:51.230918Z",
     "start_time": "2021-01-19T07:58:51.096Z"
    }
   },
   "outputs": [],
   "source": [
    "# defender uncertainty average result\n",
    "schemes = [\"DD-IPI\", \"DD-PI\", \"No-DD-IPI\", \"No-DD-PI\"]\n",
    "\n",
    "plt.figure(figsize=(figure_width, figure_high))\n",
    "for schemes_index in range(len(schemes)):\n",
    "    the_file = open(\"data/\"+schemes[schemes_index]+\"/R3/defender_uncertainty.pkl\", \"rb\")\n",
    "    def_uncertainty_history = pickle.load(the_file)\n",
    "    the_file.close()\n",
    "\n",
    "\n",
    "    max_length = 0\n",
    "    for key in def_uncertainty_history.keys():\n",
    "        if max_length < len(def_uncertainty_history[key]):\n",
    "            max_length = len(def_uncertainty_history[key])\n",
    "\n",
    "    average_def_uncertainty = []\n",
    "    for index in range(max_length):\n",
    "        sum_on_index = 0\n",
    "        number_on_index = 0\n",
    "        for key in def_uncertainty_history.keys():\n",
    "            if len(def_uncertainty_history[key]) > 0:\n",
    "                sum_on_index += def_uncertainty_history[key][0]\n",
    "                def_uncertainty_history[key].pop(0)\n",
    "                number_on_index += 1\n",
    "        average_def_uncertainty.append(sum_on_index/number_on_index)\n",
    "\n",
    "\n",
    "    x_values = range(len(average_def_uncertainty))\n",
    "    y_values = average_def_uncertainty\n",
    "    plt.plot(x_values, y_values, linestyle=all_linestyle[schemes_index] , label=schemes[schemes_index],\n",
    "             linewidth=figure_linewidth, marker=marker_list[schemes_index], markevery=50, markersize = marker_size)\n",
    "# plt.legend(prop={\"size\":legend_size}, ncol=2, bbox_to_anchor=(0, 1, 1, 0),\n",
    "#               loc='lower left', fontsize='large',mode=\"expand\")\n",
    "plt.xlabel(\"number of games\", fontsize=font_size)\n",
    "plt.ylabel(\"Uncertainty\", fontsize=font_size)\n",
    "plt.tight_layout()\n",
    "plt.xticks(fontsize=axis_size)\n",
    "plt.yticks(fontsize=axis_size)\n",
    "plt.savefig(\"Figure/def-uncertain-NG.eps\", dpi = figure_dpi)\n"
   ]
  },
  {
   "cell_type": "code",
   "execution_count": null,
   "metadata": {
    "ExecuteTime": {
     "end_time": "2021-01-19T07:58:51.232545Z",
     "start_time": "2021-01-19T07:58:51.099Z"
    }
   },
   "outputs": [],
   "source": [
    "# IDS FPR\n",
    "schemes = [\"DD-IPI\", \"DD-PI\", \"No-DD-IPI\", \"No-DD-PI\"]\n",
    "\n",
    "plt.figure(figsize=(figure_width, figure_high+1))\n",
    "for schemes_index in range(len(schemes)):\n",
    "    the_file = open(\"data/\"+schemes[schemes_index]+\"/R4/FPR.pkl\", \"rb\")\n",
    "    FPR_history = pickle.load(the_file)\n",
    "    the_file.close()\n",
    "\n",
    "    max_length = 0\n",
    "    for key in FPR_history.keys():\n",
    "        if max_length < len(FPR_history[key]):\n",
    "            max_length = len(FPR_history[key])\n",
    "\n",
    "\n",
    "    average_FPR = []\n",
    "    for index in range(max_length):\n",
    "        sum_on_index = 0\n",
    "        number_on_index = 0\n",
    "        for key in FPR_history.keys():\n",
    "            if len(FPR_history[key]) > 0:\n",
    "                sum_on_index += FPR_history[key][0]\n",
    "                FPR_history[key].pop(0)\n",
    "                number_on_index += 1\n",
    "        average_FPR.append(sum_on_index/number_on_index)\n",
    "\n",
    "\n",
    "\n",
    "    x_values = range(len(average_FPR))\n",
    "    y_values = average_FPR\n",
    "\n",
    "    plt.plot(x_values, y_values, linestyle=all_linestyle[schemes_index] , label=schemes[schemes_index],\n",
    "             linewidth=figure_linewidth, marker=marker_list[schemes_index], markevery=50, markersize = marker_size)\n",
    "plt.legend(prop={\"size\":legend_size}, ncol=2, bbox_to_anchor=(0, 1, 1, 0),\n",
    "              loc='lower left', fontsize='large',mode=\"expand\")\n",
    "plt.xlabel(\"number of games\", fontsize=font_size)\n",
    "plt.ylabel(\"FPR\", fontsize=font_size)\n",
    "plt.xticks(fontsize=axis_size)\n",
    "plt.yticks(fontsize=axis_size)\n",
    "plt.tight_layout()\n",
    "plt.savefig(\"Figure/FPR-NG.eps\", dpi = figure_dpi)\n"
   ]
  },
  {
   "cell_type": "code",
   "execution_count": null,
   "metadata": {
    "ExecuteTime": {
     "end_time": "2021-01-19T07:58:51.233955Z",
     "start_time": "2021-01-19T07:58:51.101Z"
    }
   },
   "outputs": [],
   "source": [
    "# IDS TPR\n",
    "schemes = [\"DD-IPI\", \"DD-PI\", \"No-DD-IPI\", \"No-DD-PI\"]\n",
    "\n",
    "plt.figure(figsize=(figure_width, figure_high+0.75))\n",
    "for schemes_index in range(len(schemes)):\n",
    "    the_file = open(\"data/\"+schemes[schemes_index]+\"/R4/TPR.pkl\", \"rb\")\n",
    "    TPR_history = pickle.load(the_file)\n",
    "    the_file.close()\n",
    "\n",
    "    max_length = 0\n",
    "    for key in TPR_history.keys():\n",
    "        if max_length < len(TPR_history[key]):\n",
    "            max_length = len(TPR_history[key])\n",
    "\n",
    "\n",
    "    average_TPR = []\n",
    "    for index in range(max_length):\n",
    "        sum_on_index = 0\n",
    "        number_on_index = 0\n",
    "        for key in TPR_history.keys():\n",
    "            if len(TPR_history[key]) > 0:\n",
    "                sum_on_index += TPR_history[key][0]\n",
    "                TPR_history[key].pop(0)\n",
    "                number_on_index += 1\n",
    "        average_TPR.append(sum_on_index/number_on_index)\n",
    "\n",
    "\n",
    "\n",
    "    x_values = range(len(average_TPR))\n",
    "    y_values = average_TPR\n",
    "\n",
    "    plt.plot(x_values, y_values, linestyle=all_linestyle[schemes_index] , label=schemes[schemes_index],\n",
    "             linewidth=figure_linewidth, marker=marker_list[schemes_index], markevery=50, markersize = marker_size)\n",
    "plt.legend(prop={\"size\":legend_size},\n",
    "           ncol=4,\n",
    "           bbox_to_anchor=(-0.13, 1, 1.15, 0),\n",
    "           loc='lower left',\n",
    "           mode=\"expand\")\n",
    "plt.xlabel(\"number of games\", fontsize=font_size)\n",
    "plt.ylabel(\"TPR\", fontsize=font_size)\n",
    "plt.xticks(fontsize=axis_size)\n",
    "plt.yticks(fontsize=axis_size)\n",
    "plt.tight_layout()\n",
    "plt.savefig(\"Figure/TPR-NG.eps\", dpi = figure_dpi)\n"
   ]
  },
  {
   "cell_type": "code",
   "execution_count": null,
   "metadata": {
    "ExecuteTime": {
     "end_time": "2021-01-19T07:58:51.235499Z",
     "start_time": "2021-01-19T07:58:51.103Z"
    }
   },
   "outputs": [],
   "source": [
    "# ROC\n",
    "schemes = [\"DD-IPI\", \"DD-PI\", \"No-DD-IPI\", \"No-DD-PI\"]\n",
    "\n",
    "plt.figure(figsize=(figure_width, figure_high))\n",
    "for schemes_index in range(len(schemes)):\n",
    "    the_file = open(\"data/\"+schemes[schemes_index]+\"/R4/TPR.pkl\", \"rb\")\n",
    "    TPR_history = pickle.load(the_file)\n",
    "    the_file.close()\n",
    "    the_file = open(\"data/\"+schemes[schemes_index]+\"/R4/FPR.pkl\", \"rb\")\n",
    "    FPR_history = pickle.load(the_file)\n",
    "    the_file.close()\n",
    "    \n",
    "\n",
    "    max_length = 0\n",
    "    for key in TPR_history.keys():\n",
    "        if max_length < len(TPR_history[key]):\n",
    "            max_length = len(TPR_history[key])\n",
    "\n",
    "\n",
    "    average_TPR = []\n",
    "    for index in range(max_length):\n",
    "        sum_on_index = 0\n",
    "        number_on_index = 0\n",
    "        for key in TPR_history.keys():\n",
    "            if len(TPR_history[key]) > 0:\n",
    "                sum_on_index += TPR_history[key][0]\n",
    "                TPR_history[key].pop(0)\n",
    "                number_on_index += 1\n",
    "        average_TPR.append(sum_on_index/number_on_index)\n",
    "    \n",
    "    average_FPR = []\n",
    "    for index in range(max_length):\n",
    "        sum_on_index = 0\n",
    "        number_on_index = 0\n",
    "        for key in FPR_history.keys():\n",
    "            if len(FPR_history[key]) > 0:\n",
    "                sum_on_index += FPR_history[key][0]\n",
    "                FPR_history[key].pop(0)\n",
    "                number_on_index += 1\n",
    "        average_FPR.append(sum_on_index/number_on_index)\n",
    "\n",
    "\n",
    "\n",
    "    x_values = average_FPR\n",
    "    \n",
    "#     print(average_TPR)\n",
    "#     print(average_FPR)\n",
    "    y_values = average_TPR\n",
    "\n",
    "    plt.plot(x_values, y_values, linestyle=all_linestyle[schemes_index] , label=schemes[schemes_index])\n",
    "plt.legend(prop={\"size\":legend_size})\n",
    "plt.xlabel(\"FPR\", fontsize=font_size)\n",
    "plt.ylabel(\"TPR\", fontsize=font_size)\n",
    "plt.tight_layout()\n",
    "plt.xticks(fontsize=axis_size)\n",
    "plt.yticks(fontsize=axis_size)\n",
    "plt.savefig(\"Figure/ROC-NG.eps\", dpi = figure_dpi)\n"
   ]
  },
  {
   "cell_type": "code",
   "execution_count": 9,
   "metadata": {
    "ExecuteTime": {
     "end_time": "2021-01-19T08:00:22.272417Z",
     "start_time": "2021-01-19T08:00:22.047429Z"
    }
   },
   "outputs": [
    {
     "ename": "FileNotFoundError",
     "evalue": "[Errno 2] No such file or directory: 'data/DD-PI/R0/Time_to_SF.pkl'",
     "output_type": "error",
     "traceback": [
      "\u001b[0;31m---------------------------------------------------------------------------\u001b[0m",
      "\u001b[0;31mFileNotFoundError\u001b[0m                         Traceback (most recent call last)",
      "\u001b[0;32m<ipython-input-9-14fe93c460bb>\u001b[0m in \u001b[0;36m<module>\u001b[0;34m\u001b[0m\n\u001b[1;32m      6\u001b[0m \u001b[0mplt\u001b[0m\u001b[0;34m.\u001b[0m\u001b[0mfigure\u001b[0m\u001b[0;34m(\u001b[0m\u001b[0mfigsize\u001b[0m\u001b[0;34m=\u001b[0m\u001b[0;34m(\u001b[0m\u001b[0mfigure_width\u001b[0m\u001b[0;34m,\u001b[0m \u001b[0mfigure_high\u001b[0m\u001b[0;34m)\u001b[0m\u001b[0;34m)\u001b[0m\u001b[0;34m\u001b[0m\u001b[0;34m\u001b[0m\u001b[0m\n\u001b[1;32m      7\u001b[0m \u001b[0;32mfor\u001b[0m \u001b[0mschemes_index\u001b[0m \u001b[0;32min\u001b[0m \u001b[0mrange\u001b[0m\u001b[0;34m(\u001b[0m\u001b[0mlen\u001b[0m\u001b[0;34m(\u001b[0m\u001b[0mschemes\u001b[0m\u001b[0;34m)\u001b[0m\u001b[0;34m)\u001b[0m\u001b[0;34m:\u001b[0m\u001b[0;34m\u001b[0m\u001b[0;34m\u001b[0m\u001b[0m\n\u001b[0;32m----> 8\u001b[0;31m     \u001b[0mthe_file\u001b[0m \u001b[0;34m=\u001b[0m \u001b[0mopen\u001b[0m\u001b[0;34m(\u001b[0m\u001b[0;34m\"data/\"\u001b[0m\u001b[0;34m+\u001b[0m\u001b[0mschemes\u001b[0m\u001b[0;34m[\u001b[0m\u001b[0mschemes_index\u001b[0m\u001b[0;34m]\u001b[0m\u001b[0;34m+\u001b[0m\u001b[0;34m\"/R0/Time_to_SF.pkl\"\u001b[0m\u001b[0;34m,\u001b[0m \u001b[0;34m\"rb\"\u001b[0m\u001b[0;34m)\u001b[0m\u001b[0;34m\u001b[0m\u001b[0;34m\u001b[0m\u001b[0m\n\u001b[0m\u001b[1;32m      9\u001b[0m     \u001b[0mTime_to_SF\u001b[0m \u001b[0;34m=\u001b[0m \u001b[0mpickle\u001b[0m\u001b[0;34m.\u001b[0m\u001b[0mload\u001b[0m\u001b[0;34m(\u001b[0m\u001b[0mthe_file\u001b[0m\u001b[0;34m)\u001b[0m\u001b[0;34m\u001b[0m\u001b[0;34m\u001b[0m\u001b[0m\n\u001b[1;32m     10\u001b[0m     \u001b[0mthe_file\u001b[0m\u001b[0;34m.\u001b[0m\u001b[0mclose\u001b[0m\u001b[0;34m(\u001b[0m\u001b[0;34m)\u001b[0m\u001b[0;34m\u001b[0m\u001b[0;34m\u001b[0m\u001b[0m\n",
      "\u001b[0;31mFileNotFoundError\u001b[0m: [Errno 2] No such file or directory: 'data/DD-PI/R0/Time_to_SF.pkl'"
     ]
    },
    {
     "data": {
      "image/png": "[encoded data removed]",
      "text/plain": [
       "<Figure size 540x288 with 1 Axes>"
      ]
     },
     "metadata": {
      "needs_background": "light"
     },
     "output_type": "display_data"
    }
   ],
   "source": [
    "# Time to System Fail\n",
    "schemes = [\"DD-IPI\", \"DD-PI\", \"No-DD-IPI\", \"No-DD-PI\"]\n",
    "\n",
    "granularity = 1\n",
    "\n",
    "plt.figure(figsize=(figure_width, figure_high))\n",
    "for schemes_index in range(len(schemes)):\n",
    "    the_file = open(\"data/\"+schemes[schemes_index]+\"/R0/Time_to_SF.pkl\", \"rb\")\n",
    "    Time_to_SF = pickle.load(the_file)\n",
    "    the_file.close()\n",
    "\n",
    "#     print(max(Time_to_SF.values()))\n",
    "    x_scales = np.zeros(max(Time_to_SF.values())+1)\n",
    "    y_scales = np.zeros(max(Time_to_SF.values())+1)\n",
    "    for value in Time_to_SF.values():\n",
    "        x_scales[int(value/granularity)*granularity] = int(value/granularity)*granularity+1\n",
    "        y_scales[int(value/granularity)*granularity] += 1\n",
    "    \n",
    "\n",
    "    # pop zero in array\n",
    "    x_scales = x_scales[x_scales!=0]   \n",
    "    y_scales = y_scales[y_scales!=0]\n",
    "#     plt.scatter(x_scales, y_scales, label=schemes[schemes_index])\n",
    "    plt.plot(x_scales, y_scales, label=schemes[schemes_index])\n",
    "\n",
    "plt.legend(prop={\"size\":legend_size})\n",
    "plt.xlabel(f\"Time to System Failure (granularity={granularity})\", fontsize=font_size)\n",
    "plt.ylabel(\"Frequency of Simulation\", fontsize=font_size)\n",
    "plt.xticks(fontsize=axis_size)\n",
    "plt.yticks(fontsize=axis_size)\n"
   ]
  },
  {
   "cell_type": "code",
   "execution_count": null,
   "metadata": {},
   "outputs": [],
   "source": []
  },
  {
   "cell_type": "code",
   "execution_count": null,
   "metadata": {
    "ExecuteTime": {
     "end_time": "2021-01-19T07:58:51.239505Z",
     "start_time": "2021-01-19T07:58:51.107Z"
    }
   },
   "outputs": [],
   "source": [
    "# # MTTSF\n",
    "# current_scheme = \"scheme_DD_PI\"\n",
    "# the_file = open(\"data/\"+current_scheme+\"/R5/MTTSF.pkl\", \"rb\")\n",
    "# MTTSF_all_result = pickle.load(the_file)\n",
    "# the_file.close()\n",
    "\n",
    "# print(MTTSF_all_result)\n",
    "# print(sum(MTTSF_all_result)/len(MTTSF_all_result))\n",
    "\n",
    "\n"
   ]
  },
  {
   "cell_type": "code",
   "execution_count": null,
   "metadata": {
    "ExecuteTime": {
     "end_time": "2021-01-20T06:39:25.750998Z",
     "start_time": "2021-01-20T06:39:24.998Z"
    },
    "init_cell": true
   },
   "outputs": [],
   "source": [
    "# Vulnerability Range (x-axis)\n",
    "\n",
    "the_file = open(\"data/DD-IPI/Vul_Range.pkl\", \"rb\")\n",
    "vul_range = pickle.load(the_file)\n",
    "the_file.close()\n",
    "print(vul_range)\n"
   ]
  },
  {
   "cell_type": "code",
   "execution_count": null,
   "metadata": {
    "ExecuteTime": {
     "end_time": "2021-01-19T07:58:51.243226Z",
     "start_time": "2021-01-19T07:58:51.109Z"
    }
   },
   "outputs": [],
   "source": [
    "# MTTSF\n",
    "schemes = [\"DD-IPI\", \"DD-PI\", \"No-DD-IPI\", \"No-DD-PI\"]\n",
    "\n",
    "plt.figure(figsize=(figure_width, figure_high))\n",
    "for schemes_index in range(len(schemes)):\n",
    "    the_file = open(\"data/\" + schemes[schemes_index] + \"/R5/MTTSF.pkl\", \"rb\")\n",
    "    MTTSF = pickle.load(the_file)\n",
    "    the_file.close()\n",
    "\n",
    "    print(MTTSF)\n",
    "\n",
    "\n",
    "#     x_scales_all_change = [\n",
    "#         \"IoT:(1,2)\\nWeb&Data:(1,2)\", \"IoT:(1,4)\\nWeb&Data:(1,4)\",\n",
    "#         \"IoT:(1,6)\\nWeb&Data:(1,6)\", \"IoT:(1,8)\\nWeb&Data:(1,8)\",\n",
    "#         \"IoT:(1,10)\\nWeb&Data:(1,10)\"\n",
    "#     ]\n",
    "    x_scales_all_change = [\"2\", \"4\", \"6\", \"8\", \"10\"]\n",
    "\n",
    "    plt.plot(x_scales_all_change,\n",
    "             MTTSF,\n",
    "             linestyle=all_linestyle[schemes_index],\n",
    "             label=schemes[schemes_index],\n",
    "             linewidth=figure_linewidth,\n",
    "             marker=marker_list[schemes_index], markersize = marker_size)\n",
    "\n",
    "# plt.legend(prop={\"size\":legend_size}, ncol=2, bbox_to_anchor=(0, 1, 1, 0),\n",
    "#               loc='lower left', fontsize='large',mode=\"expand\")\n",
    "plt.xlabel(\"vulnerability upper bound\", fontsize=font_size)\n",
    "plt.ylabel(\"MTTSF\", fontsize=font_size)\n",
    "plt.tight_layout()\n",
    "plt.xticks(fontsize=axis_size)\n",
    "plt.yticks(fontsize=axis_size)\n",
    "plt.savefig(\"Figure/MTTSF-VV.eps\", dpi = figure_dpi)\n"
   ]
  },
  {
   "cell_type": "code",
   "execution_count": null,
   "metadata": {
    "ExecuteTime": {
     "end_time": "2021-01-19T07:58:51.244713Z",
     "start_time": "2021-01-19T07:58:51.111Z"
    }
   },
   "outputs": [],
   "source": [
    "# R8 attacker cost in changing Vul\n",
    "\n",
    "schemes = [\"DD-IPI\", \"DD-PI\", \"No-DD-IPI\", \"No-DD-PI\"]\n",
    "\n",
    "plt.figure(figsize=(figure_width, figure_high))\n",
    "for schemes_index in range(len(schemes)):\n",
    "    the_file = open(\"data/\" + schemes[schemes_index] + \"/R8/att_cost.pkl\",\n",
    "                    \"rb\")\n",
    "    att_cost_all_result = pickle.load(the_file)\n",
    "    the_file.close()\n",
    "\n",
    "#     x_scales = [\n",
    "#         f\"IoT:(1,{vul_range[1][0]})\\nWeb&Data:(1,{vul_range[0][0]})\",\n",
    "#         f\"IoT:(1,{vul_range[1][1]})\\nWeb&Data:(1,{vul_range[0][1]})\",\n",
    "#         f\"IoT:(1,{vul_range[1][2]})\\nWeb&Data:(1,{vul_range[0][2]})\",\n",
    "#         f\"IoT:(1,{vul_range[1][3]})\\nWeb&Data:(1,{vul_range[0][3]})\",\n",
    "#         f\"IoT:(1,{vul_range[1][4]})\\nWeb&Data:(1,{vul_range[0][4]})\"\n",
    "#     ]\n",
    "    x_scales = [\"2\", \"4\", \"6\", \"8\", \"10\"]\n",
    "\n",
    "    plt.plot(x_scales,\n",
    "             att_cost_all_result,\n",
    "             linestyle=all_linestyle[schemes_index],\n",
    "             label=schemes[schemes_index],\n",
    "             linewidth=figure_linewidth,\n",
    "             marker=marker_list[schemes_index], markersize = marker_size)\n",
    "\n",
    "# plt.legend(prop={\"size\":legend_size}, ncol=2, bbox_to_anchor=(0, 1, 1, 0),\n",
    "#               loc='lower left', fontsize='large',mode=\"expand\")\n",
    "plt.xlabel(\"vulnerability upper bound\", fontsize=font_size)\n",
    "plt.ylabel(\"Attack Cost\", fontsize=font_size)\n",
    "plt.tight_layout()\n",
    "plt.xticks(fontsize=axis_size)\n",
    "plt.yticks(fontsize=axis_size)\n",
    "plt.savefig(\"Figure/att-cost-VV.eps\", dpi = figure_dpi)\n"
   ]
  },
  {
   "cell_type": "code",
   "execution_count": null,
   "metadata": {
    "ExecuteTime": {
     "end_time": "2021-01-19T07:58:51.246074Z",
     "start_time": "2021-01-19T07:58:51.113Z"
    }
   },
   "outputs": [],
   "source": [
    "# R8 defender cost in changing Vul\n",
    "\n",
    "schemes = [\"DD-IPI\", \"DD-PI\", \"No-DD-IPI\", \"No-DD-PI\"]\n",
    "\n",
    "plt.figure(figsize=(figure_width, figure_high))\n",
    "for schemes_index in range(len(schemes)):\n",
    "    the_file = open(\"data/\" + schemes[schemes_index] + \"/R8/def_cost.pkl\",\n",
    "                    \"rb\")\n",
    "    def_cost_all_result = pickle.load(the_file)\n",
    "    the_file.close()\n",
    "\n",
    "#     x_scales = [\n",
    "#         f\"IoT:(1,{vul_range[1][0]})\\nWeb&Data:(1,{vul_range[0][0]})\",\n",
    "#         f\"IoT:(1,{vul_range[1][1]})\\nWeb&Data:(1,{vul_range[0][1]})\",\n",
    "#         f\"IoT:(1,{vul_range[1][2]})\\nWeb&Data:(1,{vul_range[0][2]})\",\n",
    "#         f\"IoT:(1,{vul_range[1][3]})\\nWeb&Data:(1,{vul_range[0][3]})\",\n",
    "#         f\"IoT:(1,{vul_range[1][4]})\\nWeb&Data:(1,{vul_range[0][4]})\"\n",
    "#     ]\n",
    "\n",
    "    x_scales = [\"2\", \"4\", \"6\", \"8\", \"10\"]\n",
    "\n",
    "    plt.plot(x_scales,\n",
    "             def_cost_all_result,\n",
    "             linestyle=all_linestyle[schemes_index],\n",
    "             label=schemes[schemes_index],\n",
    "             linewidth=figure_linewidth,\n",
    "             marker=marker_list[schemes_index], markersize = marker_size)\n",
    "\n",
    "# plt.legend(prop={\"size\":legend_size}, ncol=2, bbox_to_anchor=(0, 1, 1, 0),\n",
    "#               loc='lower left', fontsize='large',mode=\"expand\")\n",
    "plt.xlabel(\"vulnerability upper bound\", fontsize=font_size)\n",
    "plt.ylabel(\"Defense Cost\", fontsize=font_size)\n",
    "plt.tight_layout()\n",
    "plt.xticks(fontsize=axis_size)\n",
    "plt.yticks(fontsize=axis_size)\n",
    "plt.savefig(\"Figure/def-cost-VV.eps\", dpi = figure_dpi)\n"
   ]
  },
  {
   "cell_type": "code",
   "execution_count": null,
   "metadata": {
    "ExecuteTime": {
     "end_time": "2021-01-19T07:58:51.247673Z",
     "start_time": "2021-01-19T07:58:51.114Z"
    },
    "scrolled": true
   },
   "outputs": [],
   "source": [
    "# R9 attacker HEU in changing Vul\n",
    "\n",
    "schemes = [\"DD-IPI\", \"DD-PI\", \"No-DD-IPI\", \"No-DD-PI\"]\n",
    "\n",
    "plt.figure(figsize=(figure_width, figure_high))\n",
    "for schemes_index in range(len(schemes)):\n",
    "    the_file = open(\"data/\" + schemes[schemes_index] + \"/R9/att_HEU.pkl\", \"rb\")\n",
    "    att_HEU_all_result = pickle.load(the_file)\n",
    "    the_file.close()\n",
    "\n",
    "#     x_scales = [\n",
    "#         f\"IoT:(1,{vul_range[1][0]})\\nWeb&Data:(1,{vul_range[0][0]})\",\n",
    "#         f\"IoT:(1,{vul_range[1][1]})\\nWeb&Data:(1,{vul_range[0][1]})\",\n",
    "#         f\"IoT:(1,{vul_range[1][2]})\\nWeb&Data:(1,{vul_range[0][2]})\",\n",
    "#         f\"IoT:(1,{vul_range[1][3]})\\nWeb&Data:(1,{vul_range[0][3]})\",\n",
    "#         f\"IoT:(1,{vul_range[1][4]})\\nWeb&Data:(1,{vul_range[0][4]})\"\n",
    "#     ]\n",
    "    \n",
    "    x_scales = [\"2\", \"4\", \"6\", \"8\", \"10\"]\n",
    "\n",
    "    plt.plot(x_scales,\n",
    "             att_HEU_all_result,\n",
    "             linestyle=all_linestyle[schemes_index],\n",
    "             label=schemes[schemes_index],\n",
    "             linewidth=figure_linewidth,\n",
    "             marker=marker_list[schemes_index], markersize = marker_size)\n",
    "\n",
    "# plt.legend(prop={\"size\":legend_size}, ncol=2, bbox_to_anchor=(0, 1, 1, 0),\n",
    "#               loc='lower left', fontsize='large',mode=\"expand\")\n",
    "plt.xlabel(\"vulnerability upper bound\", fontsize=font_size)\n",
    "plt.ylabel(\"AHEU\", fontsize=font_size)\n",
    "plt.tight_layout()\n",
    "plt.xticks(fontsize=axis_size)\n",
    "plt.yticks(fontsize=axis_size);\n",
    "plt.savefig(\"Figure/att-HEU-VV.eps\", dpi = figure_dpi)\n"
   ]
  },
  {
   "cell_type": "code",
   "execution_count": null,
   "metadata": {
    "ExecuteTime": {
     "end_time": "2021-01-19T07:58:51.249262Z",
     "start_time": "2021-01-19T07:58:51.116Z"
    }
   },
   "outputs": [],
   "source": [
    "# R9 defender HEU in changing Vul\n",
    "\n",
    "schemes = [\"DD-IPI\", \"DD-PI\", \"No-DD-IPI\", \"No-DD-PI\"]\n",
    "\n",
    "plt.figure(figsize=(figure_width, figure_high))\n",
    "for schemes_index in range(len(schemes)):\n",
    "    the_file = open(\"data/\" + schemes[schemes_index] + \"/R9/def_HEU.pkl\", \"rb\")\n",
    "    def_HEU_all_result = pickle.load(the_file)\n",
    "    the_file.close()\n",
    "\n",
    "#     x_scales = [\n",
    "#         f\"IoT:(1,{vul_range[1][0]})\\nWeb&Data:(1,{vul_range[0][0]})\",\n",
    "#         f\"IoT:(1,{vul_range[1][1]})\\nWeb&Data:(1,{vul_range[0][1]})\",\n",
    "#         f\"IoT:(1,{vul_range[1][2]})\\nWeb&Data:(1,{vul_range[0][2]})\",\n",
    "#         f\"IoT:(1,{vul_range[1][3]})\\nWeb&Data:(1,{vul_range[0][3]})\",\n",
    "#         f\"IoT:(1,{vul_range[1][4]})\\nWeb&Data:(1,{vul_range[0][4]})\"\n",
    "#     ]\n",
    "\n",
    "    x_scales = [\"2\", \"4\", \"6\", \"8\", \"10\"]\n",
    "\n",
    "    plt.plot(x_scales,\n",
    "             def_HEU_all_result,\n",
    "             linestyle=all_linestyle[schemes_index],\n",
    "             label=schemes[schemes_index],\n",
    "             linewidth=figure_linewidth,\n",
    "             marker=marker_list[schemes_index], markersize = marker_size)\n",
    "\n",
    "# plt.legend(prop={\"size\":legend_size}, ncol=2, bbox_to_anchor=(0, 1, 1, 0),\n",
    "#               loc='lower left', fontsize='large',mode=\"expand\")\n",
    "plt.xlabel(\"vulnerability upper bound\", fontsize=font_size)\n",
    "plt.ylabel(\"DHEU\", fontsize=font_size)\n",
    "plt.tight_layout()\n",
    "plt.xticks(fontsize=axis_size);\n",
    "plt.yticks(fontsize=axis_size);\n",
    "plt.savefig(\"Figure/def-HEU-VV.eps\", dpi = figure_dpi)\n"
   ]
  },
  {
   "cell_type": "code",
   "execution_count": null,
   "metadata": {
    "ExecuteTime": {
     "end_time": "2021-01-19T07:58:51.250698Z",
     "start_time": "2021-01-19T07:58:51.117Z"
    }
   },
   "outputs": [],
   "source": [
    "# R10 attacker Uncertainty in changing Vul\n",
    "\n",
    "schemes = [\"DD-IPI\", \"DD-PI\", \"No-DD-IPI\", \"No-DD-PI\"]\n",
    "\n",
    "plt.figure(figsize=(figure_width, figure_high+1))\n",
    "for schemes_index in range(len(schemes)):\n",
    "    the_file = open(\n",
    "        \"data/\" + schemes[schemes_index] + \"/R10/att_uncertainty.pkl\", \"rb\")\n",
    "    att_uncertainty_all_result = pickle.load(the_file)\n",
    "    the_file.close()\n",
    "\n",
    "#     x_scales = [\n",
    "#         f\"IoT:(1,{vul_range[1][0]})\\nWeb&Data:(1,{vul_range[0][0]})\",\n",
    "#         f\"IoT:(1,{vul_range[1][1]})\\nWeb&Data:(1,{vul_range[0][1]})\",\n",
    "#         f\"IoT:(1,{vul_range[1][2]})\\nWeb&Data:(1,{vul_range[0][2]})\",\n",
    "#         f\"IoT:(1,{vul_range[1][3]})\\nWeb&Data:(1,{vul_range[0][3]})\",\n",
    "#         f\"IoT:(1,{vul_range[1][4]})\\nWeb&Data:(1,{vul_range[0][4]})\"\n",
    "#     ]\n",
    "\n",
    "    x_scales = [\"2\", \"4\", \"6\", \"8\", \"10\"]\n",
    "\n",
    "    plt.plot(x_scales,\n",
    "             att_uncertainty_all_result,\n",
    "             linestyle=all_linestyle[schemes_index],\n",
    "             label=schemes[schemes_index],\n",
    "             linewidth=figure_linewidth,\n",
    "             marker=marker_list[schemes_index], markersize = marker_size)\n",
    "\n",
    "plt.legend(prop={\"size\":15}, ncol=4, bbox_to_anchor=(0, 1, 1, 0),\n",
    "              loc='lower left', fontsize='large',mode=\"expand\")\n",
    "plt.xlabel(\"vulnerability upper bound\", fontsize=font_size)\n",
    "plt.ylabel(\"Uncertaity\", fontsize=font_size)\n",
    "plt.tight_layout()\n",
    "plt.xticks(fontsize=axis_size);\n",
    "plt.yticks(fontsize=axis_size);\n",
    "plt.savefig(\"Figure/att-uncertain-VV.eps\", dpi = figure_dpi)\n"
   ]
  },
  {
   "cell_type": "code",
   "execution_count": null,
   "metadata": {
    "ExecuteTime": {
     "end_time": "2021-01-19T07:58:51.252292Z",
     "start_time": "2021-01-19T07:58:51.119Z"
    }
   },
   "outputs": [],
   "source": [
    "# R10 defender Uncertainty in changing Vul\n",
    "\n",
    "schemes = [\"DD-IPI\", \"DD-PI\", \"No-DD-IPI\", \"No-DD-PI\"]\n",
    "\n",
    "plt.figure(figsize=(figure_width, figure_high+1))\n",
    "for schemes_index in range(len(schemes)):\n",
    "    the_file = open(\n",
    "        \"data/\" + schemes[schemes_index] + \"/R10/def_uncertainty.pkl\", \"rb\")\n",
    "    def_uncertainty_all_result = pickle.load(the_file)\n",
    "    the_file.close()\n",
    "\n",
    "#     x_scales = [\n",
    "#         f\"IoT:(1,{vul_range[1][0]})\\nWeb&Data:(1,{vul_range[0][0]})\",\n",
    "#         f\"IoT:(1,{vul_range[1][1]})\\nWeb&Data:(1,{vul_range[0][1]})\",\n",
    "#         f\"IoT:(1,{vul_range[1][2]})\\nWeb&Data:(1,{vul_range[0][2]})\",\n",
    "#         f\"IoT:(1,{vul_range[1][3]})\\nWeb&Data:(1,{vul_range[0][3]})\",\n",
    "#         f\"IoT:(1,{vul_range[1][4]})\\nWeb&Data:(1,{vul_range[0][4]})\"\n",
    "#     ]\n",
    "\n",
    "    x_scales = [\"2\", \"4\", \"6\", \"8\", \"10\"]\n",
    "\n",
    "    plt.plot(x_scales,\n",
    "             def_uncertainty_all_result,\n",
    "             linestyle=all_linestyle[schemes_index],\n",
    "             label=schemes[schemes_index],\n",
    "             linewidth=figure_linewidth,\n",
    "             marker=marker_list[schemes_index], markersize = marker_size)\n",
    "\n",
    "plt.legend(prop={\"size\":legend_size}, ncol=2, bbox_to_anchor=(0, 1, 1, 0),\n",
    "              loc='lower left', fontsize='large',mode=\"expand\")\n",
    "plt.xlabel(\"vulnerability upper bound\", fontsize=font_size)\n",
    "plt.ylabel(\"Uncertaity\", fontsize=font_size)\n",
    "plt.tight_layout()\n",
    "plt.xticks(fontsize=axis_size);\n",
    "plt.yticks(fontsize=axis_size);\n",
    "plt.savefig(\"Figure/def-uncertain-VV.eps\", dpi = figure_dpi)\n"
   ]
  },
  {
   "cell_type": "code",
   "execution_count": null,
   "metadata": {
    "ExecuteTime": {
     "end_time": "2021-01-19T07:58:51.253775Z",
     "start_time": "2021-01-19T07:58:51.121Z"
    }
   },
   "outputs": [],
   "source": [
    "# R11 FPR in changing Vul\n",
    "\n",
    "schemes = [\"DD-IPI\", \"DD-PI\", \"No-DD-IPI\", \"No-DD-PI\"]\n",
    "\n",
    "plt.figure(figsize=(figure_width, figure_high+1))\n",
    "for schemes_index in range(len(schemes)):\n",
    "    the_file = open(\n",
    "        \"data/\" + schemes[schemes_index] + \"/R11/FPR.pkl\", \"rb\")\n",
    "    FPR_all_result = pickle.load(the_file)\n",
    "    the_file.close()\n",
    "\n",
    "#     x_scales = [\n",
    "#         f\"IoT:(1,{vul_range[1][0]})\\nWeb&Data:(1,{vul_range[0][0]})\",\n",
    "#         f\"IoT:(1,{vul_range[1][1]})\\nWeb&Data:(1,{vul_range[0][1]})\",\n",
    "#         f\"IoT:(1,{vul_range[1][2]})\\nWeb&Data:(1,{vul_range[0][2]})\",\n",
    "#         f\"IoT:(1,{vul_range[1][3]})\\nWeb&Data:(1,{vul_range[0][3]})\",\n",
    "#         f\"IoT:(1,{vul_range[1][4]})\\nWeb&Data:(1,{vul_range[0][4]})\"\n",
    "#     ]\n",
    "\n",
    "    x_scales = [\"2\", \"4\", \"6\", \"8\", \"10\"]\n",
    "\n",
    "    plt.plot(x_scales,\n",
    "             FPR_all_result,\n",
    "             linestyle=all_linestyle[schemes_index],\n",
    "             label=schemes[schemes_index],\n",
    "             linewidth=figure_linewidth,\n",
    "             marker=marker_list[schemes_index], markersize = marker_size)\n",
    "\n",
    "plt.legend(prop={\"size\":legend_size}, ncol=2, bbox_to_anchor=(0, 1, 1, 0),\n",
    "              loc='lower left', fontsize='large',mode=\"expand\")\n",
    "plt.xlabel(\"vulnerability upper bound\", fontsize=font_size)\n",
    "plt.ylabel(\"FPR\", fontsize=font_size)\n",
    "plt.tight_layout()\n",
    "plt.xticks(fontsize=axis_size);\n",
    "plt.yticks(fontsize=axis_size);\n",
    "plt.savefig(\"Figure/FPR-VV.eps\", dpi = figure_dpi)\n",
    "\n"
   ]
  },
  {
   "cell_type": "code",
   "execution_count": null,
   "metadata": {
    "ExecuteTime": {
     "end_time": "2021-01-19T07:58:51.255676Z",
     "start_time": "2021-01-19T07:58:51.122Z"
    }
   },
   "outputs": [],
   "source": [
    "# R11 TPR in changing Vul\n",
    "\n",
    "schemes = [\"DD-IPI\", \"DD-PI\", \"No-DD-IPI\", \"No-DD-PI\"]\n",
    "\n",
    "plt.figure(figsize=(figure_width, figure_high))\n",
    "for schemes_index in range(len(schemes)):\n",
    "    the_file = open(\n",
    "        \"data/\" + schemes[schemes_index] + \"/R11/TPR.pkl\", \"rb\")\n",
    "    TPR_all_result = pickle.load(the_file)\n",
    "    the_file.close()\n",
    "\n",
    "#     x_scales = [\n",
    "#         f\"IoT:(1,{vul_range[1][0]})\\nWeb&Data:(1,{vul_range[0][0]})\",\n",
    "#         f\"IoT:(1,{vul_range[1][1]})\\nWeb&Data:(1,{vul_range[0][1]})\",\n",
    "#         f\"IoT:(1,{vul_range[1][2]})\\nWeb&Data:(1,{vul_range[0][2]})\",\n",
    "#         f\"IoT:(1,{vul_range[1][3]})\\nWeb&Data:(1,{vul_range[0][3]})\",\n",
    "#         f\"IoT:(1,{vul_range[1][4]})\\nWeb&Data:(1,{vul_range[0][4]})\"\n",
    "#     ]\n",
    "\n",
    "    x_scales = [\"2\", \"4\", \"6\", \"8\", \"10\"]\n",
    "\n",
    "    plt.plot(x_scales,\n",
    "             TPR_all_result,\n",
    "             linestyle=all_linestyle[schemes_index],\n",
    "             label=schemes[schemes_index],\n",
    "             linewidth=figure_linewidth,\n",
    "             marker=marker_list[schemes_index], markersize = marker_size)\n",
    "    \n",
    "# plt.legend(prop={\"size\":legend_size}, ncol=2, bbox_to_anchor=(0, 1, 1, 0),\n",
    "#               loc='lower left', fontsize='large',mode=\"expand\")\n",
    "plt.xlabel(\"vulnerability upper bound\", fontsize=font_size)\n",
    "plt.ylabel(\"TPR\", fontsize=font_size)\n",
    "plt.tight_layout()\n",
    "plt.xticks(fontsize=axis_size);\n",
    "plt.yticks(fontsize=axis_size);\n",
    "plt.savefig(\"Figure/TPR-VV.eps\", dpi = figure_dpi)\n"
   ]
  },
  {
   "cell_type": "code",
   "execution_count": null,
   "metadata": {
    "ExecuteTime": {
     "end_time": "2021-01-19T07:58:51.257156Z",
     "start_time": "2021-01-19T07:58:51.123Z"
    }
   },
   "outputs": [],
   "source": [
    "# criticality distribution\n",
    "schemes = [\"DD-IPI\", \"DD-PI\", \"No-DD-IPI\", \"No-DD-PI\"]\n",
    "\n",
    "plt.figure(figsize=(figure_width, figure_high))\n",
    "for schemes_index in range(len(schemes)):\n",
    "    the_file = open(\"data/\"+schemes[schemes_index]+\"/R_self_1/criticality.pkl\", \"rb\")\n",
    "    criti_history = pickle.load(the_file)\n",
    "    the_file.close()\n",
    "\n",
    "    total_criticality = np.zeros(100000)\n",
    "    for key in criti_history.keys():\n",
    "        total_criticality += criti_history[key]\n",
    "#         print(total_criticality)\n",
    "    \n",
    "    last_ele = np.max(np.nonzero(total_criticality))\n",
    "    total_criticality = total_criticality[ :last_ele+1]\n",
    "#     total_criticality = total_criticality/len(criti_history)\n",
    "#     print(sum(total_criticality))\n",
    "\n",
    "    x_values = np.array(range(len(total_criticality)))/10000\n",
    "    y_values = total_criticality/sum(total_criticality)\n",
    "\n",
    "    plt.plot(x_values, y_values, linestyle=all_linestyle[schemes_index] , label=schemes[schemes_index])\n",
    "    plt.yscale('log')\n",
    "\n",
    "plt.legend(prop={\"size\":legend_size})\n",
    "plt.xlabel(\"Range of Criticality\", fontsize=font_size)\n",
    "plt.ylabel(\"Frequency in Log_10\", fontsize=font_size)\n",
    "plt.xticks(fontsize=axis_size);\n",
    "plt.yticks(fontsize=axis_size);"
   ]
  },
  {
   "cell_type": "code",
   "execution_count": null,
   "metadata": {
    "ExecuteTime": {
     "end_time": "2021-01-19T07:58:51.258590Z",
     "start_time": "2021-01-19T07:58:51.126Z"
    }
   },
   "outputs": [],
   "source": [
    "# # Evict attacker reason\n",
    "# schemes = [\"DD-IPI\", \"DD-PI\", \"No-DD-IPI\", \"No-DD-PI\"]\n",
    "\n",
    "# for schemes_index in range(len(schemes)):\n",
    "#     the_file = open(\"data/\"+schemes[schemes_index]+\"/R_self_2/evict_reason.pkl\", \"rb\")\n",
    "#     evict_reson_history = pickle.load(the_file)\n",
    "#     the_file.close()\n",
    "\n",
    "#     plt.figure(figsize=(figure_width, figure_high))\n",
    "#     total_reson = np.zeros(2)\n",
    "#     for key in evict_reson_history:\n",
    "#         total_reson += evict_reson_history[key]\n",
    "\n",
    "#     plt.bar([\"Be outside\", \"Honeypot\"], total_reson)\n",
    "\n",
    "#     plt.title(schemes[schemes_index], fontsize=font_size)\n",
    "#     plt.xlabel(\"Reasons for Creating New Attacker\", fontsize=font_size)\n",
    "#     plt.ylabel(\"number of attacker Created\", fontsize=font_size)\n"
   ]
  },
  {
   "cell_type": "code",
   "execution_count": null,
   "metadata": {
    "ExecuteTime": {
     "end_time": "2021-01-19T07:58:51.260178Z",
     "start_time": "2021-01-19T07:58:51.128Z"
    }
   },
   "outputs": [],
   "source": [
    "# # System Failure reason\n",
    "# schemes = [\"DD-IPI\", \"DD-PI\", \"No-DD-IPI\", \"No-DD-PI\"]\n",
    "\n",
    "# for schemes_index in range(len(schemes)):\n",
    "#     the_file = open(\"data/\"+schemes[schemes_index]+\"/R_self_3/system_fail.pkl\", \"rb\")\n",
    "#     SysFail_reason = pickle.load(the_file)\n",
    "#     the_file.close()\n",
    "\n",
    "#     plt.figure(figsize=(figure_width, figure_high))\n",
    "#     print(SysFail_reason)\n",
    "#     x_values = [\"Att Strategy 8\\nSuccess\",\"Total Compromised Criticality\\nLarger Than \", \"Too Many Nodes\\nEvicted\"]\n",
    "#     y_values = SysFail_reason\n",
    "#     plt.bar(x_values, y_values)\n",
    "\n",
    "#     plt.title(schemes[schemes_index], fontsize=font_size)\n",
    "#     plt.xlabel(\"Reasons for System Failure\", fontsize=font_size)\n",
    "#     plt.ylabel(\"number of simulation\", fontsize=font_size)\n"
   ]
  },
  {
   "cell_type": "code",
   "execution_count": null,
   "metadata": {
    "ExecuteTime": {
     "end_time": "2021-01-19T07:58:51.261733Z",
     "start_time": "2021-01-19T07:58:51.128Z"
    }
   },
   "outputs": [],
   "source": [
    "def autolabel(rects):\n",
    "    \"\"\"Attach a text label above each bar in *rects*, displaying its height.\"\"\"\n",
    "    decimal_number = 3\n",
    "    for rect in rects:\n",
    "        height = round(rect.get_height(), decimal_number)\n",
    "        ax.annotate('{}'.format(height),\n",
    "                    xy=(rect.get_x() + rect.get_width() / 2, height),\n",
    "                    xytext=(0, 3),  # 3 points vertical offset\n",
    "                    textcoords=\"offset points\",\n",
    "                    ha='center', va='bottom')"
   ]
  },
  {
   "cell_type": "code",
   "execution_count": null,
   "metadata": {
    "ExecuteTime": {
     "end_time": "2021-01-19T07:58:51.263188Z",
     "start_time": "2021-01-19T07:58:51.130Z"
    }
   },
   "outputs": [],
   "source": [
    "# Evict attacker reason\n",
    "schemes = [\"DD-IPI\", \"DD-PI\", \"No-DD-IPI\", \"No-DD-PI\"]\n",
    "\n",
    "fig, ax = plt.subplots(figsize=(figure_width, figure_high))\n",
    "width = 0.2\n",
    "shift_value = [- width/2 - width, - width/2, + width/2, width/2 + width]\n",
    "for schemes_index in range(len(schemes)):\n",
    "    the_file = open(\"data/\"+schemes[schemes_index]+\"/R_self_2/evict_reason.pkl\", \"rb\")\n",
    "    evict_reson_history = pickle.load(the_file)\n",
    "    the_file.close()\n",
    "\n",
    "    total_reson = np.zeros(2)\n",
    "    for key in evict_reson_history:\n",
    "        total_reson += evict_reson_history[key]\n",
    "\n",
    "    y_values = total_reson\n",
    "    temp_x = np.arange(len(y_values))\n",
    "    rects = ax.bar(temp_x +shift_value[schemes_index] , y_values, width, label=schemes[schemes_index])\n",
    "    autolabel(rects)\n",
    "\n",
    "#     plt.title(schemes[schemes_index], fontsize=font_size)\n",
    "#     plt.xlabel(\"Reasons for Creating New Attacker\", fontsize=font_size)\n",
    "#     plt.ylabel(\"number of attacker Created\", fontsize=font_size)\n",
    "\n",
    "x_values = [\"Be outside\", \"Honeypot\"]\n",
    "ax.legend(prop={\"size\":legend_size})\n",
    "ax.set_xticks(temp_x)\n",
    "ax.set_xticklabels(x_values)\n",
    "ax.set_xlabel('Reasons for Creating New Attacker', fontsize=font_size)\n",
    "ax.set_ylabel('number of attacker Created', fontsize=font_size)\n",
    "plt.show()"
   ]
  },
  {
   "cell_type": "code",
   "execution_count": null,
   "metadata": {
    "ExecuteTime": {
     "end_time": "2021-01-19T07:58:51.264641Z",
     "start_time": "2021-01-19T07:58:51.131Z"
    }
   },
   "outputs": [],
   "source": [
    "# System Failure reason\n",
    "schemes = [\"DD-IPI\", \"DD-PI\", \"No-DD-IPI\", \"No-DD-PI\"]\n",
    "\n",
    "fig, ax = plt.subplots(figsize=(figure_width, figure_high))\n",
    "width = 0.2\n",
    "shift_value = [- width/2 - width, - width/2, + width/2, width/2 + width]\n",
    "for schemes_index in range(len(schemes)):\n",
    "    the_file = open(\"data/\"+schemes[schemes_index]+\"/R_self_3/system_fail.pkl\", \"rb\")\n",
    "    SysFail_reason = pickle.load(the_file)\n",
    "    the_file.close()\n",
    "\n",
    "    print(SysFail_reason)\n",
    "    y_values = SysFail_reason\n",
    "    temp_x = np.arange(len(y_values))\n",
    "    rects = ax.bar(temp_x +shift_value[schemes_index] , y_values, width, label=schemes[schemes_index])\n",
    "    autolabel(rects)\n",
    "\n",
    "\n",
    "x_values = [\"All node Evicted\",\"SF condition 1\", \"SF condition 2\"]\n",
    "ax.legend(prop={\"size\":legend_size})\n",
    "ax.set_xticks(temp_x)\n",
    "ax.set_xticklabels(x_values)\n",
    "ax.set_xlabel(\"Reasons for System Failure\", fontsize=font_size)\n",
    "ax.set_ylabel(\"number of simulation\", fontsize=font_size)\n",
    "plt.show()"
   ]
  },
  {
   "cell_type": "code",
   "execution_count": null,
   "metadata": {},
   "outputs": [],
   "source": []
  },
  {
   "cell_type": "code",
   "execution_count": null,
   "metadata": {
    "ExecuteTime": {
     "end_time": "2021-01-19T07:58:51.266339Z",
     "start_time": "2021-01-19T07:58:51.133Z"
    }
   },
   "outputs": [],
   "source": [
    "# NIDS Eviction\n",
    "schemes = [\"DD-IPI\", \"DD-PI\", \"No-DD-IPI\", \"No-DD-PI\"]\n",
    "\n",
    "fig, ax = plt.subplots(figsize=(figure_width, figure_high))\n",
    "width = 0.2\n",
    "shift_value = [- width/2 - width, - width/2, + width/2, width/2 + width]\n",
    "for schemes_index in range(len(schemes)):\n",
    "    the_file = open(\"data/\"+schemes[schemes_index]+\"/R_self_4/NIDS_eviction.pkl\", \"rb\")\n",
    "    NIDS_eviction = pickle.load(the_file)\n",
    "    the_file.close()\n",
    "\n",
    "    y_scale = np.zeros(4)\n",
    "    for key in NIDS_eviction.keys():\n",
    "        y_scale += NIDS_eviction[key]\n",
    "        \n",
    "    # get average value\n",
    "    y_scale = y_scale/len(NIDS_eviction.keys())\n",
    "    \n",
    "    # normalize to range(0, 1)\n",
    "    y_scale = y_scale/(sum(y_scale))\n",
    "    \n",
    "    \n",
    "    temp_x = np.arange(len(y_scale))\n",
    "    rects = ax.bar(temp_x +shift_value[schemes_index] , y_scale, width, label=schemes[schemes_index])\n",
    "    autolabel(rects)\n",
    "\n",
    "\n",
    "x_scale = [\"Bad node\\nevicted by\\nIDS\", \"Good node\\nevicted by\\nIDS\", \"Bad node\\nevicted by\\nDS_4\", \"Good node\\nevicted by\\nDS_4\"]\n",
    "ax.legend(prop={\"size\":legend_size})\n",
    "ax.set_xticks(temp_x)\n",
    "ax.set_xticklabels(x_scale, fontsize=font_size)\n",
    "ax.set_ylabel('Frequency', fontsize=font_size)\n",
    "plt.show()\n"
   ]
  },
  {
   "cell_type": "code",
   "execution_count": null,
   "metadata": {
    "ExecuteTime": {
     "end_time": "2021-01-19T07:58:51.269231Z",
     "start_time": "2021-01-19T07:58:51.134Z"
    }
   },
   "outputs": [],
   "source": [
    "current_scheme = \"DD-IPI\""
   ]
  },
  {
   "cell_type": "code",
   "execution_count": null,
   "metadata": {
    "ExecuteTime": {
     "end_time": "2021-01-19T07:58:51.271475Z",
     "start_time": "2021-01-19T07:58:51.138Z"
    }
   },
   "outputs": [],
   "source": [
    "# Attacker EU_C\n",
    "the_file = open(\"data/\"+current_scheme+\"/R_self_4/att_EU_C.pkl\", \"rb\")\n",
    "att_EU_C_all_result = pickle.load(the_file)\n",
    "the_file.close()\n",
    "\n",
    "plt.figure(figsize=(figure_width, figure_high))\n",
    "max_length = 0\n",
    "for key in att_EU_C_all_result.keys():\n",
    "    if max_length < len(att_EU_C_all_result[key]):\n",
    "        max_length = len(att_EU_C_all_result[key])\n",
    "\n",
    "average_EU_C = []\n",
    "for index in range(max_length):\n",
    "    sum_on_index = 0\n",
    "    number_on_index = 0\n",
    "    att_EU_C = np.zeros(8)\n",
    "    for key in att_EU_C_all_result.keys():\n",
    "        if len(att_EU_C_all_result[key]) > 0:\n",
    "            att_EU_C = np.add(att_EU_C, att_EU_C_all_result[key][0])\n",
    "            att_EU_C_all_result[key] = np.delete(att_EU_C_all_result[key], 0, 0)\n",
    "            number_on_index += 1\n",
    "    average_EU_C.append((att_EU_C/number_on_index).tolist())\n",
    "average_EU_C = np.array(average_EU_C)\n",
    "\n",
    "for index in range(8):\n",
    "    plt.plot(range(max_length), average_EU_C[:,index], linestyle=all_linestyle[index] , label=f\"EU {index+1}\")\n",
    "plt.legend(prop={\"size\":legend_size})\n",
    "plt.title(current_scheme, fontsize=font_size)\n",
    "plt.xlabel(\"number of games\", fontsize=font_size)\n",
    "plt.ylabel(f\"Att's EU_C in {current_scheme}\", fontsize=font_size)\n"
   ]
  },
  {
   "cell_type": "code",
   "execution_count": null,
   "metadata": {
    "ExecuteTime": {
     "end_time": "2021-01-19T07:58:51.273036Z",
     "start_time": "2021-01-19T07:58:51.139Z"
    }
   },
   "outputs": [],
   "source": [
    "# Attacker EU_CMS\n",
    "the_file = open(\"data/\"+current_scheme+\"/R_self_4/att_EU_CMS.pkl\", \"rb\")\n",
    "att_EU_CMS_all_result = pickle.load(the_file)\n",
    "the_file.close()\n",
    "\n",
    "plt.figure(figsize=(figure_width, figure_high))\n",
    "max_length = 0\n",
    "for key in att_EU_CMS_all_result.keys():\n",
    "    if max_length < len(att_EU_CMS_all_result[key]):\n",
    "        max_length = len(att_EU_CMS_all_result[key])\n",
    "\n",
    "average_EU_CMS = []\n",
    "for index in range(max_length):\n",
    "    sum_on_index = 0\n",
    "    number_on_index = 0\n",
    "    att_EU_CMS = np.zeros(8)\n",
    "    for key in att_EU_CMS_all_result.keys():\n",
    "        if len(att_EU_CMS_all_result[key]) > 0:\n",
    "            att_EU_CMS = np.add(att_EU_CMS, att_EU_CMS_all_result[key][0])\n",
    "            att_EU_CMS_all_result[key] = np.delete(att_EU_CMS_all_result[key], 0, 0)\n",
    "            number_on_index += 1\n",
    "    average_EU_CMS.append((att_EU_CMS/number_on_index).tolist())\n",
    "average_EU_CMS = np.array(average_EU_CMS)\n",
    "\n",
    "for index in range(8):\n",
    "    plt.plot(range(max_length), average_EU_CMS[:,index], linestyle=all_linestyle[index] , label=f\"EU {index+1}\")\n",
    "plt.legend(prop={\"size\":legend_size})\n",
    "plt.title(current_scheme, fontsize=font_size)\n",
    "plt.xlabel(\"number of games\", fontsize=font_size)\n",
    "plt.ylabel(f\"Att's EU_CMS in {current_scheme}\", fontsize=font_size)\n"
   ]
  },
  {
   "cell_type": "code",
   "execution_count": null,
   "metadata": {
    "ExecuteTime": {
     "end_time": "2021-01-19T07:58:51.274569Z",
     "start_time": "2021-01-19T07:58:51.140Z"
    }
   },
   "outputs": [],
   "source": [
    "# defacker EU_C\n",
    "the_file = open(\"data/\"+current_scheme+\"/R_self_4/def_EU_C.pkl\", \"rb\")\n",
    "def_EU_C_all_result = pickle.load(the_file)\n",
    "the_file.close()\n",
    "\n",
    "plt.figure(figsize=(figure_width, figure_high))\n",
    "max_length = 0\n",
    "for key in def_EU_C_all_result.keys():\n",
    "    if max_length < len(def_EU_C_all_result[key]):\n",
    "        max_length = len(def_EU_C_all_result[key])\n",
    "\n",
    "average_EU_C = []\n",
    "for index in range(max_length):\n",
    "    sum_on_index = 0\n",
    "    number_on_index = 0\n",
    "    def_EU_C = np.zeros(8)\n",
    "    for key in def_EU_C_all_result.keys():\n",
    "        if len(def_EU_C_all_result[key]) > 0:\n",
    "            def_EU_C = np.add(def_EU_C, def_EU_C_all_result[key][0])\n",
    "            def_EU_C_all_result[key] = np.delete(def_EU_C_all_result[key], 0, 0)\n",
    "            number_on_index += 1\n",
    "    average_EU_C.append((def_EU_C/number_on_index).tolist())\n",
    "average_EU_C = np.array(average_EU_C)\n",
    "\n",
    "for index in range(8):\n",
    "    plt.plot(range(max_length)[1:], average_EU_C[:,index][1:], linestyle=all_linestyle[index] , label=f\"EU {index+1}\")\n",
    "plt.legend(prop={\"size\":legend_size})\n",
    "plt.title(current_scheme, fontsize=font_size)\n",
    "plt.xlabel(\"number of games\", fontsize=font_size)\n",
    "plt.ylabel(f\"def's EU_C in {current_scheme}\", fontsize=font_size)\n"
   ]
  },
  {
   "cell_type": "code",
   "execution_count": null,
   "metadata": {
    "ExecuteTime": {
     "end_time": "2021-01-19T07:58:51.276157Z",
     "start_time": "2021-01-19T07:58:51.142Z"
    }
   },
   "outputs": [],
   "source": [
    "# defacker EU_CMS\n",
    "the_file = open(\"data/\"+current_scheme+\"/R_self_4/def_EU_CMS.pkl\", \"rb\")\n",
    "def_EU_CMS_all_result = pickle.load(the_file)\n",
    "the_file.close()\n",
    "\n",
    "plt.figure(figsize=(figure_width, figure_high))\n",
    "max_length = 0\n",
    "for key in def_EU_CMS_all_result.keys():\n",
    "    if max_length < len(def_EU_CMS_all_result[key]):\n",
    "        max_length = len(def_EU_CMS_all_result[key])\n",
    "\n",
    "average_EU_CMS = []\n",
    "for index in range(max_length):\n",
    "    sum_on_index = 0\n",
    "    number_on_index = 0\n",
    "    def_EU_CMS = np.zeros(8)\n",
    "    for key in def_EU_CMS_all_result.keys():\n",
    "        if len(def_EU_CMS_all_result[key]) > 0:\n",
    "            def_EU_CMS = np.add(def_EU_CMS, def_EU_CMS_all_result[key][0])\n",
    "            def_EU_CMS_all_result[key] = np.delete(def_EU_CMS_all_result[key], 0, 0)\n",
    "            number_on_index += 1\n",
    "    average_EU_CMS.append((def_EU_CMS/number_on_index).tolist())\n",
    "average_EU_CMS = np.array(average_EU_CMS)\n",
    "\n",
    "for index in range(8):\n",
    "    plt.plot(range(max_length)[1:], average_EU_CMS[:,index][1:], linestyle=all_linestyle[index] , label=f\"EU {index+1}\")\n",
    "plt.legend(prop={\"size\":legend_size})\n",
    "plt.title(current_scheme, fontsize=font_size)\n",
    "plt.xlabel(\"number of games\", fontsize=font_size)\n",
    "plt.ylabel(f\"def's EU_CMS in {current_scheme}\", fontsize=font_size)\n"
   ]
  },
  {
   "cell_type": "code",
   "execution_count": null,
   "metadata": {
    "ExecuteTime": {
     "end_time": "2021-01-19T07:58:51.277700Z",
     "start_time": "2021-01-19T07:58:51.144Z"
    }
   },
   "outputs": [],
   "source": [
    "# Attacker impact\n",
    "the_file = open(\"data/\"+current_scheme+\"/R_self_4/att_impact.pkl\", \"rb\")\n",
    "att_impact_all_result = pickle.load(the_file)\n",
    "the_file.close()\n",
    "\n",
    "plt.figure(figsize=(figure_width, figure_high))\n",
    "max_length = 0\n",
    "for key in att_impact_all_result.keys():\n",
    "    if max_length < len(att_impact_all_result[key]):\n",
    "        max_length = len(att_impact_all_result[key])\n",
    "\n",
    "average_impact = []\n",
    "for index in range(max_length):\n",
    "    sum_on_index = 0\n",
    "    number_on_index = 0\n",
    "    att_impact = np.zeros(8)\n",
    "    for key in att_impact_all_result.keys():\n",
    "        if len(att_impact_all_result[key]) > 0:\n",
    "            att_impact = np.add(att_impact, att_impact_all_result[key][0])\n",
    "            att_impact_all_result[key] = np.delete(att_impact_all_result[key], 0, 0)\n",
    "            number_on_index += 1\n",
    "    average_impact.append((att_impact/number_on_index).tolist())\n",
    "average_impact = np.array(average_impact)\n",
    "\n",
    "for index in range(8):\n",
    "    plt.plot(range(max_length), average_impact[:,index], linestyle=all_linestyle[index] , label=f\"Stra {index+1}\")\n",
    "plt.legend(prop={\"size\":legend_size})\n",
    "plt.title(current_scheme, fontsize=font_size)\n",
    "plt.xlabel(\"number of games\", fontsize=font_size)\n",
    "plt.ylabel(f\"Att's impact in {current_scheme}\", fontsize=font_size)\n"
   ]
  },
  {
   "cell_type": "code",
   "execution_count": null,
   "metadata": {
    "ExecuteTime": {
     "end_time": "2021-01-19T07:58:51.279498Z",
     "start_time": "2021-01-19T07:58:51.146Z"
    }
   },
   "outputs": [],
   "source": [
    "# defacker impact\n",
    "the_file = open(\"data/\"+current_scheme+\"/R_self_4/def_impact.pkl\", \"rb\")\n",
    "def_impact_all_result = pickle.load(the_file)\n",
    "the_file.close()\n",
    "\n",
    "plt.figure(figsize=(figure_width, figure_high))\n",
    "max_length = 0\n",
    "for key in def_impact_all_result.keys():\n",
    "    if max_length < len(def_impact_all_result[key]):\n",
    "        max_length = len(def_impact_all_result[key])\n",
    "\n",
    "average_impact = []\n",
    "for index in range(max_length):\n",
    "    sum_on_index = 0\n",
    "    number_on_index = 0\n",
    "    def_impact = np.zeros(8)\n",
    "    for key in def_impact_all_result.keys():\n",
    "        if len(def_impact_all_result[key]) > 0:\n",
    "            def_impact = np.add(def_impact, def_impact_all_result[key][0])\n",
    "            def_impact_all_result[key] = np.delete(def_impact_all_result[key], 0, 0)\n",
    "            number_on_index += 1\n",
    "    average_impact.append((def_impact/number_on_index).tolist())\n",
    "average_impact = np.array(average_impact)\n",
    "\n",
    "for index in range(8):\n",
    "    plt.plot(range(max_length), average_impact[:,index], linestyle=all_linestyle[index] , label=f\"Stra {index+1}\")\n",
    "plt.legend(prop={\"size\":legend_size})\n",
    "plt.title(current_scheme, fontsize=font_size)\n",
    "plt.xlabel(\"number of games\", fontsize=font_size)\n",
    "plt.ylabel(f\"def's impact in {current_scheme}\", fontsize=font_size)\n"
   ]
  },
  {
   "cell_type": "code",
   "execution_count": null,
   "metadata": {
    "ExecuteTime": {
     "end_time": "2021-01-19T07:58:51.281312Z",
     "start_time": "2021-01-19T07:58:51.147Z"
    }
   },
   "outputs": [],
   "source": [
    "# Attacker HEU\n",
    "the_file = open(\"data/\"+current_scheme+\"/R_self_4/att_HEU_DD_IPI.pkl\", \"rb\")\n",
    "att_impact_all_result = pickle.load(the_file)\n",
    "the_file.close()\n",
    "\n",
    "plt.figure(figsize=(figure_width, figure_high))\n",
    "max_length = 0\n",
    "for key in att_impact_all_result.keys():\n",
    "    if max_length < len(att_impact_all_result[key]):\n",
    "        max_length = len(att_impact_all_result[key])\n",
    "\n",
    "average_impact = []\n",
    "for index in range(max_length):\n",
    "    sum_on_index = 0\n",
    "    number_on_index = 0\n",
    "    att_impact = np.zeros(8)\n",
    "    for key in att_impact_all_result.keys():\n",
    "        if len(att_impact_all_result[key]) > 0:\n",
    "            att_impact = np.add(att_impact, att_impact_all_result[key][0])\n",
    "            att_impact_all_result[key] = np.delete(att_impact_all_result[key], 0, 0)\n",
    "            number_on_index += 1\n",
    "    average_impact.append((att_impact/number_on_index).tolist())\n",
    "average_impact = np.array(average_impact)\n",
    "\n",
    "for index in range(8):\n",
    "    plt.plot(range(max_length), average_impact[:,index], linestyle=all_linestyle[index] , label=f\"Stra {index+1}\")\n",
    "plt.legend(prop={\"size\":legend_size})\n",
    "plt.title(current_scheme, fontsize=font_size)\n",
    "plt.xlabel(\"number of games\", fontsize=font_size)\n",
    "plt.ylabel(f\"Att's HEU in {current_scheme}\", fontsize=font_size)\n"
   ]
  },
  {
   "cell_type": "code",
   "execution_count": null,
   "metadata": {
    "ExecuteTime": {
     "end_time": "2021-01-19T07:58:51.282951Z",
     "start_time": "2021-01-19T07:58:51.149Z"
    }
   },
   "outputs": [],
   "source": [
    "# defacker HEU\n",
    "the_file = open(\"data/\"+current_scheme+\"/R_self_4/def_HEU_DD_IPI.pkl\", \"rb\")\n",
    "def_impact_all_result = pickle.load(the_file)\n",
    "the_file.close()\n",
    "\n",
    "plt.figure(figsize=(figure_width, figure_high))\n",
    "max_length = 0\n",
    "for key in def_impact_all_result.keys():\n",
    "    if max_length < len(def_impact_all_result[key]):\n",
    "        max_length = len(def_impact_all_result[key])\n",
    "\n",
    "average_impact = []\n",
    "for index in range(max_length):\n",
    "    sum_on_index = 0\n",
    "    number_on_index = 0\n",
    "    def_impact = np.zeros(8)\n",
    "    for key in def_impact_all_result.keys():\n",
    "        if len(def_impact_all_result[key]) > 0:\n",
    "            def_impact = np.add(def_impact, def_impact_all_result[key][0])\n",
    "            def_impact_all_result[key] = np.delete(def_impact_all_result[key], 0, 0)\n",
    "            number_on_index += 1\n",
    "    average_impact.append((def_impact/number_on_index).tolist())\n",
    "average_impact = np.array(average_impact)\n",
    "\n",
    "for index in range(8):\n",
    "    plt.plot(range(max_length)[1:], average_impact[:,index][1:], linestyle=all_linestyle[index] , label=f\"Stra {index+1}\")\n",
    "plt.legend(prop={\"size\":legend_size})\n",
    "plt.title(current_scheme, fontsize=font_size)\n",
    "plt.xlabel(\"number of games\", fontsize=font_size)\n",
    "plt.ylabel(f\"def's HEU in {current_scheme}\", fontsize=font_size)\n"
   ]
  },
  {
   "cell_type": "code",
   "execution_count": null,
   "metadata": {
    "ExecuteTime": {
     "end_time": "2021-01-19T07:58:51.284360Z",
     "start_time": "2021-01-19T07:58:51.149Z"
    }
   },
   "outputs": [],
   "source": [
    "def single_label(bar):\n",
    "    decimal_number = 3\n",
    "    for rect in bar:\n",
    "        height = round(rect.get_height(), decimal_number)\n",
    "        if height >= 0:\n",
    "            plt.text(rect.get_x() + rect.get_width()/2.0, height, height, ha='center', va='bottom')\n",
    "        else:\n",
    "            plt.text(rect.get_x() + rect.get_width()/2.0, height, height, ha='center', va='top')\n",
    "\n",
    "            "
   ]
  },
  {
   "cell_type": "code",
   "execution_count": null,
   "metadata": {
    "ExecuteTime": {
     "end_time": "2021-01-19T07:58:51.285837Z",
     "start_time": "2021-01-19T07:58:51.151Z"
    }
   },
   "outputs": [],
   "source": [
    "# Attacker Strategy distribution\n",
    "current_scheme = \"DD-PI\"\n",
    "the_file = open(\"data/\"+current_scheme+\"/R2/att_strategy_counter.pkl\", \"rb\")\n",
    "att_strat_count = pickle.load(the_file)\n",
    "the_file.close()\n",
    "\n",
    "plt.figure(figsize=(figure_width, figure_high))\n",
    "y_axis = np.zeros(8)\n",
    "for key in att_strat_count.keys():\n",
    "    for strat_id in att_strat_count[key]:\n",
    "        y_axis[strat_id] += 1\n",
    "        \n",
    "# normalize y_axis\n",
    "y_axis = y_axis / (sum(y_axis))\n",
    "x_axis = range(1,9)\n",
    "bar1 = plt.bar(x_axis, y_axis)\n",
    "single_label(bar1)\n",
    "\n",
    "\n",
    "plt.title(current_scheme, fontsize=font_size)\n",
    "plt.xlabel(\"Attacker Strategy ID\", fontsize=font_size)\n",
    "plt.ylabel(\"Frequency of Strategy called\", fontsize=font_size)\n"
   ]
  },
  {
   "cell_type": "code",
   "execution_count": null,
   "metadata": {
    "ExecuteTime": {
     "end_time": "2021-01-19T07:58:51.287469Z",
     "start_time": "2021-01-19T07:58:51.152Z"
    }
   },
   "outputs": [],
   "source": [
    "# defacker Strategy distribution\n",
    "current_scheme = \"DD-PI\"\n",
    "the_file = open(\"data/\"+current_scheme+\"/R2/def_strategy_counter.pkl\", \"rb\")\n",
    "def_strat_count = pickle.load(the_file)\n",
    "the_file.close()\n",
    "\n",
    "plt.figure(figsize=(figure_width, figure_high))\n",
    "y_axis = np.zeros(8)\n",
    "for key in def_strat_count.keys():\n",
    "    for strat_id in def_strat_count[key]:\n",
    "        y_axis[strat_id] += 1\n",
    "        \n",
    "# normalize y_axis\n",
    "y_axis = y_axis / (sum(y_axis))\n",
    "x_axis = range(1,9)\n",
    "bar1 = plt.bar(x_axis, y_axis)\n",
    "single_label(bar1)\n",
    "\n",
    "\n",
    "plt.title(current_scheme, fontsize=font_size)\n",
    "plt.xlabel(\"Defender Strategy ID\", fontsize=font_size)\n",
    "plt.ylabel(\"Frequency of Strategy called\", fontsize=font_size)\n"
   ]
  },
  {
   "cell_type": "code",
   "execution_count": null,
   "metadata": {
    "ExecuteTime": {
     "end_time": "2021-01-19T07:58:51.288929Z",
     "start_time": "2021-01-19T07:58:51.154Z"
    }
   },
   "outputs": [],
   "source": [
    "# Attacker EU_C\n",
    "current_scheme = \"DD-PI\"\n",
    "the_file = open(\"data/\"+current_scheme+\"/R_self_4/att_EU_C.pkl\", \"rb\")\n",
    "att_EU_C_all_result = pickle.load(the_file)\n",
    "the_file.close()\n",
    "\n",
    "plt.figure(figsize=(figure_width, figure_high))\n",
    "y_axis = np.zeros(8)\n",
    "counter=0\n",
    "for key in att_EU_C_all_result.keys():\n",
    "    for index in range(len(att_EU_C_all_result[key])):\n",
    "        y_axis = y_axis + att_EU_C_all_result[key][index]\n",
    "        counter += 1\n",
    "\n",
    "y_axis = y_axis/counter\n",
    "y_axis = y_axis/sum(y_axis)\n",
    "x_axis = range(1,9)\n",
    "bar1 = plt.bar(x_axis, y_axis)\n",
    "single_label(bar1)\n",
    "\n",
    "\n",
    "plt.title(current_scheme, fontsize=font_size)\n",
    "plt.xlabel(\"Strategy ID\", fontsize=font_size)\n",
    "plt.ylabel(\"Att's nomalized EU_C (pmf)\", fontsize=font_size)\n"
   ]
  },
  {
   "cell_type": "code",
   "execution_count": null,
   "metadata": {
    "ExecuteTime": {
     "end_time": "2021-01-19T07:58:51.290355Z",
     "start_time": "2021-01-19T07:58:51.156Z"
    }
   },
   "outputs": [],
   "source": [
    "# defacker EU_C\n",
    "current_scheme = \"DD-IPI\"\n",
    "the_file = open(\"data/\"+current_scheme+\"/R_self_4/def_EU_C.pkl\", \"rb\")\n",
    "def_EU_C_all_result = pickle.load(the_file)\n",
    "the_file.close()\n",
    "\n",
    "plt.figure(figsize=(figure_width, figure_high))\n",
    "y_axis = np.zeros(8)\n",
    "counter=0\n",
    "for key in def_EU_C_all_result.keys():\n",
    "    for index in range(len(def_EU_C_all_result[key])):\n",
    "        y_axis = y_axis + def_EU_C_all_result[key][index]\n",
    "        counter += 1\n",
    "\n",
    "y_axis = y_axis/counter\n",
    "y_axis = y_axis/sum(y_axis)\n",
    "x_axis = range(1,9)\n",
    "bar1 = plt.bar(x_axis, y_axis)\n",
    "single_label(bar1)\n",
    "\n",
    "\n",
    "plt.title(current_scheme, fontsize=font_size)\n",
    "plt.xlabel(\"Strategy ID\", fontsize=font_size)\n",
    "plt.ylabel(\"def's nomalized EU_C (pmf)\", fontsize=font_size)\n"
   ]
  },
  {
   "cell_type": "code",
   "execution_count": null,
   "metadata": {
    "ExecuteTime": {
     "end_time": "2021-01-19T07:58:51.292092Z",
     "start_time": "2021-01-19T07:58:51.157Z"
    }
   },
   "outputs": [],
   "source": [
    "# Attacker EU_CMS\n",
    "current_scheme = \"DD-PI\"\n",
    "the_file = open(\"data/\"+current_scheme+\"/R_self_4/att_EU_CMS.pkl\", \"rb\")\n",
    "att_EU_CMS_all_result = pickle.load(the_file)\n",
    "the_file.close()\n",
    "\n",
    "plt.figure(figsize=(figure_width, figure_high))\n",
    "y_axis = np.zeros(8)\n",
    "counter=0\n",
    "for key in att_EU_CMS_all_result.keys():\n",
    "    for index in range(len(att_EU_CMS_all_result[key])):\n",
    "        y_axis = y_axis + att_EU_CMS_all_result[key][index]\n",
    "        counter += 1\n",
    "\n",
    "y_axis = y_axis/counter\n",
    "x_axis = range(1,9)\n",
    "bar1 = plt.bar(x_axis, y_axis)\n",
    "single_label(bar1)\n",
    "\n",
    "\n",
    "plt.title(current_scheme, fontsize=font_size)\n",
    "plt.xlabel(\"Strategy ID\", fontsize=font_size)\n",
    "plt.ylabel(\"Att's nomalized EU_CMS (pmf)\", fontsize=font_size)\n",
    "\n"
   ]
  },
  {
   "cell_type": "code",
   "execution_count": null,
   "metadata": {
    "ExecuteTime": {
     "end_time": "2021-01-19T07:58:51.293537Z",
     "start_time": "2021-01-19T07:58:51.158Z"
    }
   },
   "outputs": [],
   "source": [
    "# defacker EU_CMS\n",
    "current_scheme = \"DD-PI\"\n",
    "the_file = open(\"data/\"+current_scheme+\"/R_self_4/def_EU_CMS.pkl\", \"rb\")\n",
    "def_EU_CMS_all_result = pickle.load(the_file)\n",
    "the_file.close()\n",
    "\n",
    "plt.figure(figsize=(figure_width, figure_high))\n",
    "y_axis = np.zeros(8)\n",
    "counter=0\n",
    "for key in def_EU_CMS_all_result.keys():\n",
    "    for index in range(len(def_EU_CMS_all_result[key])):\n",
    "        y_axis = y_axis + def_EU_CMS_all_result[key][index]\n",
    "        counter += 1\n",
    "\n",
    "y_axis = y_axis/counter\n",
    "x_axis = range(1,9)\n",
    "bar1 = plt.bar(x_axis, y_axis)\n",
    "single_label(bar1)\n",
    "\n",
    "\n",
    "plt.title(current_scheme, fontsize=font_size)\n",
    "plt.xlabel(\"Strategy ID\", fontsize=font_size)\n",
    "plt.ylabel(\"def's nomalized EU_CMS (pmf)\", fontsize=font_size)\n",
    "\n"
   ]
  },
  {
   "cell_type": "code",
   "execution_count": null,
   "metadata": {
    "ExecuteTime": {
     "end_time": "2021-01-19T07:58:51.295134Z",
     "start_time": "2021-01-19T07:58:51.160Z"
    }
   },
   "outputs": [],
   "source": [
    "att_cost_all_result = np.zeros(8)\n",
    "\n",
    "value_range = [0.05, 0.1, 0.2, 0.3, 0.4, 0.5, 0.6, 0.7]\n",
    "scheme_range = [\"DD-IPI\", \"DD-PI\", \"No-DD-IPI\", \"No-DD-PI\"]\n",
    "for scheme in scheme_range:\n",
    "    for index in range(len(value_range)):\n",
    "        the_file = open(\"data/best_NIDS/\"+scheme+\"/\"+str(value_range[index])+\"/att_cost.pkl\",\n",
    "                            \"rb\")\n",
    "        att_cost_all_result[index] = pickle.load(the_file)\n",
    "        the_file.close()    \n",
    "\n",
    "    plt.plot(value_range, att_cost_all_result, label=scheme)\n",
    "\n",
    "plt.legend(prop={\"size\":legend_size})\n",
    "plt.xlabel(\"NIDS threshold\")\n",
    "plt.ylabel(\"Attacker Cost\")"
   ]
  },
  {
   "cell_type": "code",
   "execution_count": null,
   "metadata": {
    "ExecuteTime": {
     "end_time": "2021-01-19T07:58:51.296516Z",
     "start_time": "2021-01-19T07:58:51.161Z"
    }
   },
   "outputs": [],
   "source": [
    "def_cost_all_result = np.zeros(8)\n",
    "\n",
    "value_range = [0.05, 0.1, 0.2, 0.3, 0.4, 0.5, 0.6, 0.7]\n",
    "scheme_range = [\"DD-IPI\", \"DD-PI\", \"No-DD-IPI\", \"No-DD-PI\"]\n",
    "for scheme in scheme_range:\n",
    "    for index in range(len(value_range)):\n",
    "        the_file = open(\"data/best_NIDS/\"+scheme+\"/\"+str(value_range[index])+\"/def_cost.pkl\",\n",
    "                            \"rb\")\n",
    "        def_cost_all_result[index] = pickle.load(the_file)\n",
    "        the_file.close()    \n",
    "\n",
    "    plt.plot(value_range, def_cost_all_result, label=scheme)\n",
    "\n",
    "plt.legend(prop={\"size\":legend_size})\n",
    "plt.xlabel(\"NIDS threshold\")\n",
    "plt.ylabel(\"Defender Cost\")"
   ]
  },
  {
   "cell_type": "code",
   "execution_count": null,
   "metadata": {
    "ExecuteTime": {
     "end_time": "2021-01-19T07:58:51.297915Z",
     "start_time": "2021-01-19T07:58:51.162Z"
    }
   },
   "outputs": [],
   "source": [
    "MTTSF_all_result = np.zeros(8)\n",
    "\n",
    "value_range = [0.05, 0.1, 0.2, 0.3, 0.4, 0.5, 0.6, 0.7]\n",
    "scheme_range = [\"DD-IPI\", \"DD-PI\", \"No-DD-IPI\", \"No-DD-PI\"]\n",
    "for scheme in scheme_range:\n",
    "    for index in range(len(value_range)):\n",
    "        the_file = open(\"data/best_NIDS/\"+scheme+\"/\"+str(value_range[index])+\"/MTTSF.pkl\",\n",
    "                            \"rb\")\n",
    "        MTTSF_all_result[index] = pickle.load(the_file)\n",
    "        the_file.close()    \n",
    "\n",
    "    plt.plot(value_range, MTTSF_all_result, label=scheme)\n",
    "\n",
    "plt.legend(prop={\"size\":legend_size})\n",
    "plt.xlabel(\"NIDS threshold\")\n",
    "plt.ylabel(\"MTTSF\")"
   ]
  },
  {
   "cell_type": "code",
   "execution_count": null,
   "metadata": {},
   "outputs": [],
   "source": []
  },
  {
   "cell_type": "code",
   "execution_count": null,
   "metadata": {},
   "outputs": [],
   "source": []
  },
  {
   "cell_type": "code",
   "execution_count": null,
   "metadata": {},
   "outputs": [],
   "source": []
  }
 ],
 "metadata": {
  "celltoolbar": "Initialization Cell",
  "kernelspec": {
   "display_name": "Python 3",
   "language": "python",
   "name": "python3"
  },
  "language_info": {
   "codemirror_mode": {
    "name": "ipython",
    "version": 3
   },
   "file_extension": ".py",
   "mimetype": "text/x-python",
   "name": "python",
   "nbconvert_exporter": "python",
   "pygments_lexer": "ipython3",
   "version": "3.7.9"
  }
 },
 "nbformat": 4,
 "nbformat_minor": 4
}
