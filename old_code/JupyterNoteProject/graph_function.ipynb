{
 "cells": [
  {
   "cell_type": "code",
   "execution_count": 48,
   "metadata": {
    "ExecuteTime": {
     "end_time": "2020-07-29T08:21:40.963630Z",
     "start_time": "2020-07-29T08:21:40.961279Z"
    }
   },
   "outputs": [],
   "source": [
    "from networkx import nx\n",
    "import time"
   ]
  },
  {
   "cell_type": "code",
   "execution_count": 47,
   "metadata": {
    "ExecuteTime": {
     "end_time": "2020-07-29T05:43:52.861350Z",
     "start_time": "2020-07-29T05:43:52.858015Z"
    }
   },
   "outputs": [],
   "source": [
    "# set ID in attribute\n",
    "def set_id(G):\n",
    "    if not nx.get_node_attributes(G, \"id\"):\n",
    "        nx.set_node_attributes(G, 0, \"id\")\n",
    "    for n in G.nodes():\n",
    "        G.nodes[n][\"id\"] = n"
   ]
  },
  {
   "cell_type": "code",
   "execution_count": 31,
   "metadata": {
    "ExecuteTime": {
     "end_time": "2020-07-29T05:37:46.066373Z",
     "start_time": "2020-07-29T05:37:46.060193Z"
    }
   },
   "outputs": [],
   "source": [
    "# set node type\n",
    "# 0 means IoT devices, 1 means Web Server, 2 means Dataset, 3 means Honeypot\n",
    "def set_type(G, N_ws, N_db):\n",
    "    if \"type\" not in G.nodes[0]:\n",
    "        nx.set_node_attributes(G, 0, \"type\")\n",
    "    for n in range(N_ws):\n",
    "        G.nodes[n][\"type\"] = 1\n",
    "    for n in range(N_db, N_ws + N_db):\n",
    "        G.nodes[n][\"type\"] = 2\n",
    "\n",
    "\n",
    "\n",
    "def set_type_for_HP(H_G, low_inter, high_inter):\n",
    "    if \"type\" not in H_G.nodes['LI0']:\n",
    "        nx.set_node_attributes(H_G, 0, \"type\")\n",
    "    for n in [\"LI\" + str(n) for n in range(low_inter)]:\n",
    "        H_G.nodes[n][\"type\"] = 3\n",
    "    for n in [\"HI\" + str(n) for n in range(high_inter)]:\n",
    "        H_G.nodes[n][\"type\"] = 3\n",
    " "
   ]
  },
  {
   "cell_type": "code",
   "execution_count": null,
   "metadata": {},
   "outputs": [],
   "source": [
    "def adjacent_node(G, node_id):\n",
    "    return_list = []\n",
    "    adjacent_list = [i for i in G[node_id]]\n",
    "    if G.nodes[node_id][\"type\"] == 3: # if node is honeynet\n",
    "        for i in adjacent_list:\n",
    "            if G.nodes[i][\"type\"] == 3: # only consider honeypot as neighbor\n",
    "                return_list.append(i)\n",
    "    else:\n",
    "        return_list = adjacent_list\n",
    "    \n",
    "    return return_list\n",
    "    "
   ]
  },
  {
   "cell_type": "code",
   "execution_count": null,
   "metadata": {},
   "outputs": [],
   "source": [
    "def number_of_edge_without_honeypot(G):\n",
    "    temp_G = copy.deepcopy(G)\n",
    "    all_nodes = copy.deepcopy(temp_G.nodes(data=False))\n",
    "    for node_id in all_nodes:\n",
    "        if temp_G.nodes[node_id][\"type\"] == 3:\n",
    "            temp_G.remove_node(node_id)\n",
    "    return temp_G.number_of_edges()"
   ]
  },
  {
   "cell_type": "code",
   "execution_count": 32,
   "metadata": {
    "ExecuteTime": {
     "end_time": "2020-07-29T05:37:46.072286Z",
     "start_time": "2020-07-29T05:37:46.068626Z"
    }
   },
   "outputs": [],
   "source": [
    "# set honeypot attribute\n",
    "# 0 means not a honeypot, 1 means low interaction honeypot, 2 means high interaction honeypot\n",
    "def set_HP_attribute(G):\n",
    "    if not nx.get_node_attributes(G, \"honeypot\"):\n",
    "        nx.set_node_attributes(G, 0, \"honeypot\")\n",
    "    for n in G.nodes():\n",
    "        if G.nodes[n][\"type\"] == 3:\n",
    "            if n[0] == 'L':\n",
    "                G.nodes[n][\"honeypot\"] = 1\n",
    "            else:\n",
    "                G.nodes[n][\"honeypot\"] = 2\n",
    "\n"
   ]
  },
  {
   "cell_type": "code",
   "execution_count": null,
   "metadata": {},
   "outputs": [],
   "source": [
    "def ids_without_honeypot(G):\n",
    "    all_nodes = G.nodes(data=\"honeypot\")\n",
    "    return_list = [index[0] for index in all_nodes if index[1]==0]\n",
    "    return return_list"
   ]
  },
  {
   "cell_type": "code",
   "execution_count": 33,
   "metadata": {
    "ExecuteTime": {
     "end_time": "2020-07-29T05:37:46.077632Z",
     "start_time": "2020-07-29T05:37:46.073941Z"
    }
   },
   "outputs": [],
   "source": [
    "# update time-based encryption vulnerability\n",
    "def update_en_vul(G, ev, ev_lambda, T_rekey):\n",
    "    T_rekey += 1\n",
    "    for n in G.nodes():\n",
    "        for index in range(ev):\n",
    "            G.nodes[n][\"encryption vulnerability\"][index] = G.nodes[n][\n",
    "                \"original_encryption_vulnerability\"][index] * math.exp(\n",
    "                    -ev_lambda / T_rekey)\n",
    "\n"
   ]
  },
  {
   "cell_type": "code",
   "execution_count": null,
   "metadata": {},
   "outputs": [],
   "source": [
    "# update vulnerability_i value\n",
    "# Call this function to update vulnerability_i calculation\n",
    "def update_vul(G):\n",
    "    if not nx.get_node_attributes(G, \"vulnerability\"):\n",
    "        nx.set_node_attributes(G, 0, \"vulnerability\")\n",
    "    if not nx.get_node_attributes(G, \"normalized_vulnerability\"):\n",
    "        nx.set_node_attributes(G, 0, \"normalized_vulnerability\")\n",
    "    for n in G.nodes():\n",
    "        G.nodes[n][\"vulnerability\"] = (\n",
    "            sum(G.nodes[n][\"software vulnerability\"]) +\n",
    "            sum(G.nodes[n][\"encryption vulnerability\"]) +\n",
    "            sum(G.nodes[n][\"unknown vulnerability\"])) / (\n",
    "                len(G.nodes[n][\"software vulnerability\"]) +\n",
    "                len(G.nodes[n][\"encryption vulnerability\"]) +\n",
    "                len(G.nodes[n][\"unknown vulnerability\"]))\n",
    "        G.nodes[n][\n",
    "            \"normalized_vulnerability\"] = G.nodes[n][\"vulnerability\"] / 10\n",
    "        \n",
    "        if type(G.nodes[n][\"normalized_vulnerability\"]) == list:\n",
    "            if len(G.nodes[n][\"normalized_vulnerability\"])>1:\n",
    "                print(\"in graph\")\n",
    "                print(G.nodes[n][\"normalized_vulnerability\"])\n",
    "\n",
    "    return G"
   ]
  },
  {
   "cell_type": "code",
   "execution_count": 35,
   "metadata": {
    "ExecuteTime": {
     "end_time": "2020-07-29T05:37:46.098586Z",
     "start_time": "2020-07-29T05:37:46.087032Z"
    }
   },
   "outputs": [],
   "source": [
    "def set_security_vulnerability(G, sv, ev, uv, ev_lambda, T_rekey,\n",
    "                               web_data_upper_vul, Iot_upper_vul):\n",
    "    # set security vulnerability\n",
    "    if not nx.get_node_attributes(G, \"software vulnerability\"):\n",
    "        nx.set_node_attributes(G, [0] * sv, \"software vulnerability\")\n",
    "    if not nx.get_node_attributes(G, \"original_encryption_vulnerability\"):\n",
    "        nx.set_node_attributes(G, [0] * ev,\n",
    "                               \"original_encryption_vulnerability\")\n",
    "    if not nx.get_node_attributes(G, \"encryption vulnerability\"):\n",
    "        nx.set_node_attributes(G, [0] * ev, \"encryption vulnerability\")\n",
    "    if not nx.get_node_attributes(G, \"unknown vulnerability\"):\n",
    "        nx.set_node_attributes(G, [0] * uv, \"unknown vulnerability\")\n",
    "\n",
    "    # add three types vulnerability value based on essay TABLE 1\n",
    "    for n in G.nodes():\n",
    "        if G.nodes[n][\"type\"] == 0:  # if IoT\n",
    "            G.nodes[n][\"software vulnerability\"] = [\n",
    "                #                 random.randint(1, 5) for iter in range(sv)\n",
    "                random.randint(1, Iot_upper_vul) for iter in range(sv)\n",
    "            ]\n",
    "            G.nodes[n][\"original_encryption_vulnerability\"] = [\n",
    "                random.randint(5, 10) for iter in range(ev)\n",
    "            ]\n",
    "            G.nodes[n][\"unknown vulnerability\"] = [\n",
    "                random.randint(0, 10) for iter in range(uv)\n",
    "            ]\n",
    "        elif G.nodes[n][\"type\"] == 1:  # if Web Server\n",
    "            G.nodes[n][\"software vulnerability\"] = [\n",
    "                #                 random.randint(3, 7) for iter in range(sv)\n",
    "                random.randint(1, web_data_upper_vul) for iter in range(sv)\n",
    "            ]\n",
    "            G.nodes[n][\"original_encryption_vulnerability\"] = [\n",
    "                random.randint(1, 3) for iter in range(ev)\n",
    "            ]\n",
    "            G.nodes[n][\"unknown vulnerability\"] = [\n",
    "                random.randint(0, 10) for iter in range(uv)\n",
    "            ]\n",
    "        elif G.nodes[n][\"type\"] == 2:  # if Dataset\n",
    "            G.nodes[n][\"software vulnerability\"] = [\n",
    "                #                 random.randint(3, 7) for iter in range(sv)\n",
    "                random.randint(1, web_data_upper_vul) for iter in range(sv)\n",
    "            ]\n",
    "            G.nodes[n][\"original_encryption_vulnerability\"] = [\n",
    "                random.randint(1, 3) for iter in range(ev)\n",
    "            ]\n",
    "            G.nodes[n][\"unknown vulnerability\"] = [\n",
    "                random.randint(0, 10) for iter in range(uv)\n",
    "            ]\n",
    "        else:  # if Honeypot\n",
    "            G.nodes[n][\"software vulnerability\"] = [\n",
    "                random.randint(7, 10) for iter in range(sv)\n",
    "            ]\n",
    "            G.nodes[n][\"original_encryption_vulnerability\"] = [\n",
    "                random.randint(9, 10) for iter in range(ev)\n",
    "            ]\n",
    "            G.nodes[n][\"unknown vulnerability\"] = [\n",
    "                random.randint(0, 10) for iter in range(uv)\n",
    "            ]\n",
    "\n",
    "    # update encryption vulnerability\n",
    "    update_en_vul(G, ev, ev_lambda, T_rekey)\n",
    "    # update overall vulnerability\n",
    "    update_vul(G)"
   ]
  },
  {
   "cell_type": "code",
   "execution_count": 36,
   "metadata": {
    "ExecuteTime": {
     "end_time": "2020-07-29T05:37:46.104785Z",
     "start_time": "2020-07-29T05:37:46.100464Z"
    }
   },
   "outputs": [],
   "source": [
    "def set_importance(G):\n",
    "    if not nx.get_node_attributes(G, \"importance\"):\n",
    "        nx.set_node_attributes(G, 0, \"importance\")\n",
    "    for n in G.nodes():\n",
    "        if G.nodes[n][\"type\"] == 0:\n",
    "            G.nodes[n][\"importance\"] = random.randint(1, 5)\n",
    "        elif G.nodes[n][\"type\"] == 1:\n",
    "            G.nodes[n][\"importance\"] = random.randint(8, 10)\n",
    "        elif G.nodes[n][\"type\"] == 2:\n",
    "            G.nodes[n][\"importance\"] = random.randint(8, 10)"
   ]
  },
  {
   "cell_type": "code",
   "execution_count": 37,
   "metadata": {
    "ExecuteTime": {
     "end_time": "2020-07-29T05:37:46.109510Z",
     "start_time": "2020-07-29T05:37:46.106427Z"
    }
   },
   "outputs": [],
   "source": [
    "# Mobility\n",
    "def set_mobility(G):\n",
    "    if not nx.get_node_attributes(G, \"mobility\"):\n",
    "        nx.set_node_attributes(G, 0, \"mobility\")\n",
    "    for n in G.nodes():\n",
    "        if G.nodes[n][\"type\"] == 0:  # only for IoT devices\n",
    "            G.nodes[n][\"mobility\"] = 0.1  #random.uniform(0,0.5)"
   ]
  },
  {
   "cell_type": "code",
   "execution_count": 38,
   "metadata": {
    "ExecuteTime": {
     "end_time": "2020-07-29T05:37:46.113399Z",
     "start_time": "2020-07-29T05:37:46.111165Z"
    }
   },
   "outputs": [],
   "source": [
    "# Compromised Status\n",
    "# For devices: False means not compromised, True means compromised.\n",
    "# For honeypots: False means not visited by attacker, True means visited by attacker\n",
    "\n",
    "\n",
    "def set_compromised_status(G):\n",
    "    if not nx.get_node_attributes(G, \"compromised_status\"):\n",
    "        nx.set_node_attributes(G, False, \"compromised_status\")"
   ]
  },
  {
   "cell_type": "code",
   "execution_count": null,
   "metadata": {},
   "outputs": [],
   "source": [
    "# Evicted mark\n",
    "\n",
    "\n",
    "def set_evicted_mark(G):\n",
    "    if not nx.get_node_attributes(G, \"evicted_mark\"):\n",
    "        nx.set_node_attributes(G, False, \"evicted_mark\")"
   ]
  },
  {
   "cell_type": "code",
   "execution_count": 43,
   "metadata": {
    "ExecuteTime": {
     "end_time": "2020-07-29T05:39:28.870508Z",
     "start_time": "2020-07-29T05:39:28.867256Z"
    }
   },
   "outputs": [],
   "source": [
    "# reachability\n",
    "# isolated node have betweenness value 0.0\n",
    "def set_reachability(G):\n",
    "    if not nx.get_node_attributes(G, \"reachability\"):\n",
    "        nx.set_node_attributes(G, 0, \"reachability\")\n",
    "    reachability = nx.betweenness_centrality(G)\n",
    "    for n in G.nodes():\n",
    "        G.nodes[n][\"reachability\"] = reachability[n]"
   ]
  },
  {
   "cell_type": "code",
   "execution_count": 45,
   "metadata": {
    "ExecuteTime": {
     "end_time": "2020-07-29T05:39:54.422798Z",
     "start_time": "2020-07-29T05:39:54.419244Z"
    }
   },
   "outputs": [],
   "source": [
    "# Criticality\n",
    "def update_criticality(G):\n",
    "\n",
    "    set_reachability(G)\n",
    "\n",
    "    if not nx.get_node_attributes(G, \"reachability\"):\n",
    "        nx.set_node_attributes(G, 0, \"reachability\")\n",
    "    for n in G.nodes():\n",
    "        G.nodes[n][\"criticality\"] = G.nodes[n][\"importance\"] * G.nodes[n][\n",
    "            \"reachability\"]"
   ]
  },
  {
   "cell_type": "code",
   "execution_count": 41,
   "metadata": {
    "ExecuteTime": {
     "end_time": "2020-07-29T05:37:46.127597Z",
     "start_time": "2020-07-29T05:37:46.123833Z"
    }
   },
   "outputs": [],
   "source": [
    "\n",
    "def graph_attrbute(G, sv, ev, uv, ev_lambda, T_rekey, web_data_upper_vul, Iot_upper_vul):\n",
    "\n",
    "    # set id\n",
    "    set_id(G)\n",
    "        \n",
    "    # set honeypot\n",
    "    set_HP_attribute(G)\n",
    "\n",
    "\n",
    "    # set vulnearbility\n",
    "    set_security_vulnerability(G, sv, ev, uv, ev_lambda, T_rekey, web_data_upper_vul, Iot_upper_vul)\n",
    "   \n",
    "\n",
    "    # set importance\n",
    "    set_importance(G)\n",
    "\n",
    "\n",
    "    # set mobility\n",
    "    set_mobility(G)\n",
    "\n",
    "    # set compromised status\n",
    "    set_compromised_status(G)\n",
    "    \n",
    "    # set evicted status\n",
    "    set_evicted_mark(G)\n",
    "\n",
    "    # update criticality\n",
    "    update_criticality(G)\n",
    "    \n",
    "    # Recheck: zero result for honeypot"
   ]
  },
  {
   "cell_type": "code",
   "execution_count": 46,
   "metadata": {
    "ExecuteTime": {
     "end_time": "2020-07-29T05:41:57.385702Z",
     "start_time": "2020-07-29T05:41:57.381938Z"
    }
   },
   "outputs": [],
   "source": [
    "# print node data\n",
    "def show_all_nodes(G):\n",
    "    if G is None:\n",
    "        print(\"G is None\")\n",
    "        return\n",
    "    \n",
    "    for n in G.nodes():\n",
    "        if display: print(n)\n",
    "        if G.nodes[n][\"compromised_status\"]:\n",
    "            print(\"\\x1b[6;73;41m\", G.nodes[n], \"\\x1b[0m\")\n",
    "        else:\n",
    "            print(G.nodes[n])"
   ]
  },
  {
   "cell_type": "code",
   "execution_count": 4,
   "metadata": {
    "ExecuteTime": {
     "end_time": "2020-08-04T05:21:50.211385Z",
     "start_time": "2020-08-04T05:21:50.203508Z"
    }
   },
   "outputs": [],
   "source": [
    "# draw with color\n",
    "def draw_graph(G):\n",
    "    if G is None:\n",
    "        if display: print(\"Failed Draw Graph\")\n",
    "        return\n",
    "    \n",
    "    file_name = str(round(time.time()*10))\n",
    "    \n",
    "    plt.figure()\n",
    "#     groups = set(nx.get_node_attributes(G, 'honeypot').values())\n",
    "#     groups.add(3) # for compromised node\n",
    "#     mapping = dict(zip(sorted(groups), count()))\n",
    "#     colors = [mapping[3 if G.nodes[n]['compromised_status'] else G.nodes[n]['honeypot']] for n in G.nodes()]\n",
    "    colors = []\n",
    "    for n in G.nodes():\n",
    "        if G.nodes[n][\"compromised_status\"]:\n",
    "            colors.append('#FF0000')\n",
    "        else:\n",
    "            if G.nodes[n][\"honeypot\"] == 0:\n",
    "                colors.append('#9932CC')\n",
    "            elif G.nodes[n][\"honeypot\"] == 1:\n",
    "                colors.append('#008000')\n",
    "            else:\n",
    "                colors.append('#CCCC00')\n",
    "\n",
    "#     compro_dict = dict((k, G.nodes[k][\"honeypot\"]) for k in G.nodes())\n",
    "    \n",
    "    options = {\n",
    "        \"pos\": nx.circular_layout(G),\n",
    "        \"node_color\": colors,\n",
    "        \"node_size\": 20,\n",
    "        \"arrowsize\": 3,\n",
    "        \"line_color\": \"grey\",\n",
    "        \"linewidths\": 0,\n",
    "        \"width\": 0.1,\n",
    "        \"with_labels\": True,\n",
    "        \"font_size\": 3,\n",
    "        \"font_color\": 'w',\n",
    "#         \"labels\": rounded_vul,\n",
    "    }\n",
    "    nx.draw(G,  **options)\n",
    "    if display: print(G)\n",
    "    plt.savefig(\"graph/graph\"+file_name+\".png\", dpi=1000)"
   ]
  },
  {
   "cell_type": "code",
   "execution_count": null,
   "metadata": {},
   "outputs": [],
   "source": [
    "def is_node_evicted(G, target_id):\n",
    "    return G.nodes[target_id][\"evicted_mark\"]\n",
    "\n"
   ]
  },
  {
   "cell_type": "code",
   "execution_count": null,
   "metadata": {},
   "outputs": [],
   "source": [
    "# is all compromised node evicted\n",
    "def is_all_evicted(G_real, compromised_nodes):\n",
    "    for index in compromised_nodes:\n",
    "        if G_real.has_node(index):\n",
    "            if not is_node_evicted(G_real, index):\n",
    "                return False\n",
    "    \n",
    "    if display: print(f\"all evicted {is_all_evicted}\")  \n",
    "    return True\n",
    "    \n"
   ]
  },
  {
   "cell_type": "code",
   "execution_count": null,
   "metadata": {},
   "outputs": [],
   "source": [
    "def number_of_evicted_node(G):\n",
    "    all_evicted_mark = list(nx.get_node_attributes(G, \"evicted_mark\").values())\n",
    "    return sum(all_evicted_mark)"
   ]
  },
  {
   "cell_type": "code",
   "execution_count": null,
   "metadata": {},
   "outputs": [],
   "source": [
    "def evict_a_node(remove_id, G_real, G_def, G_att):\n",
    "    \n",
    "    node_neighbor = list(G_def.neighbors(remove_id))\n",
    "    \n",
    "    # remove edge to adjacent nodes\n",
    "    for neighbor_index in node_neighbor:\n",
    "        if G_real.has_edge(remove_id,neighbor_index): G_real.remove_edge(remove_id,neighbor_index)\n",
    "        if G_def.has_edge(remove_id,neighbor_index): G_def.remove_edge(remove_id,neighbor_index)\n",
    "        if G_att.has_edge(remove_id,neighbor_index): G_att.remove_edge(remove_id,neighbor_index)\n",
    "    \n",
    "    # change evict mark\n",
    "    G_real.nodes[remove_id][\"evicted_mark\"] = True\n",
    "    G_def.nodes[remove_id][\"evicted_mark\"] = True\n",
    "    G_att.nodes[remove_id][\"evicted_mark\"] = True\n",
    "        \n",
    "    # update criticality\n",
    "    update_criticality(G_real)\n",
    "    update_criticality(G_def)\n",
    "    update_criticality(G_att)"
   ]
  },
  {
   "cell_type": "code",
   "execution_count": 3,
   "metadata": {
    "ExecuteTime": {
     "end_time": "2020-07-31T06:14:37.541015Z",
     "start_time": "2020-07-31T06:14:37.537495Z"
    }
   },
   "outputs": [],
   "source": [
    "def evict_all_compromised(G_real, G_att, G_def):\n",
    "    for index in G_real.nodes:\n",
    "            if G_real.nodes[index][\"compromised_status\"]:\n",
    "                evict_a_node(index, G_real, G_def, G_att)\n"
   ]
  },
  {
   "cell_type": "code",
   "execution_count": null,
   "metadata": {},
   "outputs": [],
   "source": [
    "def is_connect_DataServer(target_id, G):\n",
    "    nodes_in_same_component = list(nx.node_connected_component(G, target_id))\n",
    "    if len(nodes_in_same_component) == 1:\n",
    "        return False\n",
    "    for node_id in nodes_in_same_component:\n",
    "        if G.nodes[node_id][\"type\"] == 1 or G.nodes[node_id][\"type\"] == 2:\n",
    "            return True"
   ]
  },
  {
   "cell_type": "code",
   "execution_count": null,
   "metadata": {},
   "outputs": [],
   "source": [
    "def connect_to_WS_DB_component(target_id, G_real, G_def, G_att):\n",
    "    node_list = list(G_real.nodes(data=False))\n",
    "    random.shuffle(node_list)\n",
    "    for node_id in node_list:\n",
    "        # find a WS or DB\n",
    "        if G_real.nodes[node_id][\"type\"] == 1 or G_real.nodes[node_id][\"type\"] == 2:\n",
    "            # get the component of WS or DB node\n",
    "            nodes_in_component = list(nx.node_connected_component(G_real, node_id))\n",
    "            selected_id = random.choice(nodes_in_component)\n",
    "            G_real.add_edge(target_id, selected_id)\n",
    "            G_def.add_edge(target_id, selected_id)\n",
    "            G_att.add_edge(target_id, selected_id)\n",
    "            return\n",
    "            "
   ]
  },
  {
   "cell_type": "code",
   "execution_count": 1,
   "metadata": {
    "ExecuteTime": {
     "end_time": "2020-08-30T14:27:18.190116Z",
     "start_time": "2020-08-30T14:27:18.184696Z"
    }
   },
   "outputs": [],
   "source": [
    "# connect a non-evicted node to Webserver of Database if it's not.\n",
    "def reconnect_a_node(target_id, G_real, G_def, G_att, connect_prob):\n",
    "    if not is_node_evicted(G_real, target_id):\n",
    "        if not is_connect_DataServer(target_id, G_real):\n",
    "            new_edge_number = int(connect_prob * (G_real.number_of_nodes()-number_of_evicted_node(G_real)))\n",
    "            while(new_edge_number >= 0):\n",
    "                connect_to_WS_DB_component(target_id, G_real, G_def, G_att)\n",
    "                new_edge_number -= 1\n",
    "    return\n",
    "                \n",
    "                \n",
    "#             node_list = list(G_real.nodes(data=False))\n",
    "#             random.shuffle(node_list)\n",
    "#             for node_id in node_list:\n",
    "#                 if G_real.nodes[node_id][\"type\"] == 1 or G_real.nodes[node_id][\"type\"] == 2:\n",
    "#                     G_real.add_edge(target_id, node_id)\n",
    "#                     G_def.add_edge(target_id, node_id)\n",
    "#                     G_att.add_edge(target_id, node_id)\n",
    "#                     return True\n",
    "#     return False"
   ]
  },
  {
   "cell_type": "code",
   "execution_count": null,
   "metadata": {},
   "outputs": [],
   "source": [
    "def node_reconnect(G_real, G_att, G_def, connect_prob):\n",
    "    for node_id in G_real.nodes(data=False):\n",
    "        reconnect_a_node(node_id, G_real, G_def, G_att, connect_prob)"
   ]
  },
  {
   "cell_type": "code",
   "execution_count": null,
   "metadata": {},
   "outputs": [],
   "source": [
    "# Check System Failure\n",
    "\n",
    "def is_system_fail(graph, reason_box):\n",
    "    SF_thres_1 = 1/3 # may try 1/5  # A threshold for SF (Rho_1)\n",
    "    SF_thres_2 = 1/2 # Rho_2\n",
    "    \n",
    "    G_real = graph.network\n",
    "    \n",
    "    # Rho_2\n",
    "    counter = 0\n",
    "    total_node_number = 0\n",
    "    for node_id in G_real.nodes():\n",
    "        if G_real.nodes[node_id][\"type\"] != 3:   # ignore honeypot\n",
    "            total_node_number += 1\n",
    "            if not G_real.nodes[node_id][\"evicted_mark\"]:   # if not evicted\n",
    "                counter += 1\n",
    "\n",
    "    if SF_thres_2 >= counter/total_node_number:\n",
    "        reason_box[0] = 2\n",
    "        return True\n",
    "\n",
    "    \n",
    "    \n",
    "    # Rho_1\n",
    "    top_total = 0;\n",
    "    bottom_total = 0;\n",
    "    for n in G_real.nodes():\n",
    "        top_total += G_real.nodes[n][\"compromised_status\"] * G_real.nodes[n][\"importance\"]\n",
    "        bottom_total += G_real.nodes[n][\"importance\"]\n",
    "    if bottom_total == 0.0:\n",
    "        return False\n",
    "    if top_total/bottom_total >= SF_thres_1:\n",
    "        reason_box[0] = 1\n",
    "        return True\n",
    "    else:\n",
    "        return False\n",
    "    \n",
    "    "
   ]
  },
  {
   "cell_type": "code",
   "execution_count": null,
   "metadata": {},
   "outputs": [],
   "source": [
    "def rewire_network(G_real, G_att, G_def, rewire_prob):\n",
    "#     # if all node evicted, do nothing (It's OK to remove it)\n",
    "#     all_evict_mark = list(nx.get_node_attributes(G_real, \"evicted_mark\").values())\n",
    "# #     print(f\"sum(all_evict_mark) {sum(all_evict_mark)}\")\n",
    "# #     print(f\"len(all_evict_mark) {len(all_evict_mark)}\")\n",
    "#     if sum(all_evict_mark) >= len(all_evict_mark)-3:\n",
    "#         print(\"rewire_network Fail\")\n",
    "#         return\n",
    "    \n",
    "    for index in G_real.nodes(data=False):\n",
    "        discon_node = None\n",
    "        if not is_node_evicted(G_real, index):    # don't rewire evicted node\n",
    "            if random.random() < rewire_prob:\n",
    "                # select node to disconnect\n",
    "                adj_list = adjacent_node(G_real, index)\n",
    "                if adj_list:      # if have neighbor\n",
    "                    discon_node = random.choice(adj_list)\n",
    "        \n",
    "        if discon_node is not None:\n",
    "            # select node to reconnect\n",
    "            recon_node = None\n",
    "            all_node = list(G_real.nodes(data=False))\n",
    "            if index in all_node: all_node.remove(index)  # avoid connect to itself\n",
    "            while recon_node is None:\n",
    "                selected_node = random.choice(all_node)\n",
    "                if not is_node_evicted(G_real, selected_node):   # # don't rewire evicted node\n",
    "                    recon_node = selected_node\n",
    "            \n",
    "            # disconnect\n",
    "            if G_real.has_edge(index, discon_node): G_real.remove_edge(index, discon_node)\n",
    "            if G_att.has_edge(index, discon_node): G_att.remove_edge(index, discon_node)\n",
    "            if G_def.has_edge(index, discon_node): G_def.remove_edge(index, discon_node)\n",
    "            # reconnect\n",
    "            if display: print(f\"Rewire: remove {[index, discon_node]}, connect {[index, recon_node]}\")\n",
    "            if not G_real.has_edge(index, recon_node): G_real.add_edge(index, recon_node)\n",
    "            if not G_att.has_edge(index, recon_node): G_att.add_edge(index, recon_node)\n",
    "            if not G_def.has_edge(index, recon_node): G_def.add_edge(index, recon_node)\n",
    "            \n",
    "            \n",
    "            \n",
    "#         if random.random() < rewire_prob:\n",
    "#             # disconnect a node\n",
    "#             adj_list = adjacent_node(G_real, index)\n",
    "#             if adj_list:  # if have neighbor\n",
    "#                 discon_node = random.choice(adj_list)\n",
    "#                 if G_real.has_edge(index, discon_node): G_real.remove_edge(index, discon_node)\n",
    "#                 if G_att.has_edge(index, discon_node): G_att.remove_edge(index, discon_node)\n",
    "#                 if G_def.has_edge(index, discon_node): G_def.remove_edge(index, discon_node)\n",
    "#                 # reconnect a node\n",
    "#                 all_node = list(G_real.nodes(data=False))\n",
    "#                 if index in all_node: all_node.remove(index) # avoid connect to itself\n",
    "#                 recon_node = random.choice(all_node)\n",
    "#                 if display: print(f\"Rewire: remove {[index, discon_node]}, connect {[index, recon_node]}\")\n",
    "#                 if not G_real.has_edge(index, recon_node): G_real.add_edge(index, recon_node)\n",
    "#                 if not G_att.has_edge(index, recon_node): G_att.add_edge(index, recon_node)\n",
    "#                 if not G_def.has_edge(index, recon_node): G_def.add_edge(index, recon_node)\n",
    "                \n",
    "            \n",
    "            \n",
    "        "
   ]
  },
  {
   "cell_type": "code",
   "execution_count": null,
   "metadata": {},
   "outputs": [],
   "source": [
    "def graph_class_create_graph(self):\n",
    "    self.network = nx.erdos_renyi_graph(self.node_number,\n",
    "                                        self.connect_prob)  # undirected graph\n",
    "    while not nx.is_connected(self.network):\n",
    "        if display: print(\"rebuild\")\n",
    "        self.network = nx.erdos_renyi_graph(\n",
    "            self.node_number, self.connect_prob)  # rebuild undirected graph\n",
    "\n",
    "    set_type(self.network, self.N_ws, self.N_db)\n",
    "    graph_attrbute(self.network, self.sv, self.ev, self.uv, self.ev_lambda,\n",
    "                   self.T_rekey, self.web_data_upper_vul, self.Iot_upper_vul)\n",
    "\n",
    "\n",
    "#     plt.figure()\n",
    "#     nx.draw(self.network, with_labels=True)\n",
    "#     return self.network"
   ]
  },
  {
   "cell_type": "code",
   "execution_count": null,
   "metadata": {},
   "outputs": [],
   "source": [
    "def graph_class_new_honeypot(self):\n",
    "    self.honey_net = nx.complete_graph(\n",
    "        self.low_inter + self.high_inter)  # new graph for honeypot\n",
    "    mapping = {}\n",
    "    for n in range(self.low_inter):\n",
    "        mapping[n] = \"LI\" + str(n)\n",
    "    for n in range(self.high_inter):\n",
    "        mapping[n + self.low_inter] = \"HI\" + str(n)\n",
    "    self.honey_net = nx.relabel_nodes(self.honey_net, mapping)\n",
    "    if display: print(\"honeypot graph\")\n",
    "    #         self.honey_net = self.honey_net.to_directed()\n",
    "\n",
    "    set_type_for_HP(self.honey_net, self.low_inter, self.high_inter)\n",
    "    graph_attrbute(self.honey_net, self.sv, self.ev, self.uv, self.ev_lambda,\n",
    "                   self.T_rekey, self.web_data_upper_vul, self.Iot_upper_vul)\n",
    "\n",
    "\n",
    "#         plt.figure()\n",
    "#         nx.draw(self.honey_net, with_labels=True)"
   ]
  },
  {
   "cell_type": "code",
   "execution_count": null,
   "metadata": {},
   "outputs": [],
   "source": [
    "def clean_honeynet(G_real, G_att, G_def):\n",
    "        all_node = copy.deepcopy(G_real.nodes())\n",
    "        counter = 0\n",
    "        for node_id in all_node:\n",
    "            if G_real.nodes[node_id][\"type\"] == 3:\n",
    "                G_real.remove_node(node_id)\n",
    "        all_node = copy.deepcopy(G_att.nodes())\n",
    "        for node_id in all_node:\n",
    "            if G_att.nodes[node_id][\"type\"] == 3:\n",
    "                G_att.remove_node(node_id)\n",
    "        all_node = copy.deepcopy(G_def.nodes())\n",
    "        for node_id in all_node:\n",
    "            if G_def.nodes[node_id][\"type\"] == 3:\n",
    "                G_def.remove_node(node_id)"
   ]
  },
  {
   "cell_type": "code",
   "execution_count": null,
   "metadata": {},
   "outputs": [],
   "source": [
    "class graph_class:\n",
    "    def __init__(self, web_data_upper_vul=7, Iot_upper_vul=5):\n",
    "        self.network = None\n",
    "        self.honey_net = None\n",
    "        self.using_honeynet = False\n",
    "        self.node_number = 100*5#100  # number of nodes\n",
    "        self.connect_prob = 0.05  # connection probability\n",
    "        self.SF_thres = 0.3  # A threshold for SF\n",
    "        self.low_inter = 10*5 #10  # number of low interaction honeypots\n",
    "        self.high_inter = 5*5 #5  # number of high interaction honeypots\n",
    "        self.inter_per_node = 3 # one honeypot connect to 3 nodes\n",
    "        self.N_ws = 5*5 #5  # number of Web servers\n",
    "        self.N_db = 5*5 #5  # number of databases\n",
    "        self.N_iot = self.node_number - self.N_ws - self.N_db  # number of IoT nodes\n",
    "        self.ev = 5  # encryption vulnerability\n",
    "        self.sv = 5  # software vulnerability\n",
    "        self.uv = 1  # unknown vulnerability\n",
    "        self.ev_lambda = 1 # λ for normalize encryption vulnerability\n",
    "        self.T_rekey = 1 # rekey time for encryption vulnerability\n",
    "        self.web_data_upper_vul = web_data_upper_vul\n",
    "        self.Iot_upper_vul = Iot_upper_vul\n",
    "        \n",
    "        if display: print(\"create graph\")\n",
    "        self.create_graph()\n",
    "        \n",
    "    def T_rekey_reset(self):\n",
    "        self.T_rekey = 1\n",
    "        \n",
    "    create_graph = graph_class_create_graph\n",
    "        \n",
    "    new_honeypot = graph_class_new_honeypot\n",
    "    \n",
    "    def update_graph(self, G_def, G_att):\n",
    "        update_criticality(self.network)\n",
    "        update_criticality(G_def)\n",
    "        update_criticality(G_att)\n",
    "        update_vul(self.network)\n",
    "        update_vul(G_def)\n",
    "        update_vul(G_att)\n",
    "        update_en_vul(self.network, self.ev, self.ev_lambda, self.T_rekey)\n",
    "        update_en_vul(G_def, self.ev, self.ev_lambda, self.T_rekey)\n",
    "        update_en_vul(G_att, self.ev, self.ev_lambda, self.T_rekey)\n",
    "        \n",
    "                \n",
    "        \n",
    "        \n",
    "    \n",
    "    \n",
    "        "
   ]
  }
 ],
 "metadata": {
  "kernelspec": {
   "display_name": "Python 3",
   "language": "python",
   "name": "python3"
  },
  "language_info": {
   "codemirror_mode": {
    "name": "ipython",
    "version": 3
   },
   "file_extension": ".py",
   "mimetype": "text/x-python",
   "name": "python",
   "nbconvert_exporter": "python",
   "pygments_lexer": "ipython3",
   "version": "3.7.9"
  }
 },
 "nbformat": 4,
 "nbformat_minor": 4
}
